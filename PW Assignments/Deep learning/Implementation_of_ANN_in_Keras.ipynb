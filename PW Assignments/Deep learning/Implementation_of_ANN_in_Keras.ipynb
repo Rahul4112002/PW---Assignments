{
  "nbformat": 4,
  "nbformat_minor": 0,
  "metadata": {
    "colab": {
      "provenance": [],
      "toc_visible": true,
      "gpuType": "T4"
    },
    "kernelspec": {
      "name": "python3",
      "display_name": "Python 3"
    },
    "language_info": {
      "name": "python"
    },
    "accelerator": "GPU"
  },
  "cells": [
    {
      "cell_type": "code",
      "source": [],
      "metadata": {
        "id": "1STBo3GWRqqy"
      },
      "execution_count": 3,
      "outputs": []
    },
    {
      "cell_type": "markdown",
      "source": [
        "# Q1. Install and load the latest versions of TensorFlow and Keras. Print their versions."
      ],
      "metadata": {
        "id": "BOtWEQsURr5B"
      }
    },
    {
      "cell_type": "code",
      "execution_count": 1,
      "metadata": {
        "colab": {
          "base_uri": "https://localhost:8080/"
        },
        "id": "XRxpIrMhPqOv",
        "outputId": "a678b628-444d-4ed2-8927-9c8d38e8f6fb"
      },
      "outputs": [
        {
          "output_type": "stream",
          "name": "stdout",
          "text": [
            "Requirement already satisfied: tensorflow in /usr/local/lib/python3.10/dist-packages (2.15.0)\n",
            "Requirement already satisfied: absl-py>=1.0.0 in /usr/local/lib/python3.10/dist-packages (from tensorflow) (1.4.0)\n",
            "Requirement already satisfied: astunparse>=1.6.0 in /usr/local/lib/python3.10/dist-packages (from tensorflow) (1.6.3)\n",
            "Requirement already satisfied: flatbuffers>=23.5.26 in /usr/local/lib/python3.10/dist-packages (from tensorflow) (24.3.25)\n",
            "Requirement already satisfied: gast!=0.5.0,!=0.5.1,!=0.5.2,>=0.2.1 in /usr/local/lib/python3.10/dist-packages (from tensorflow) (0.5.4)\n",
            "Requirement already satisfied: google-pasta>=0.1.1 in /usr/local/lib/python3.10/dist-packages (from tensorflow) (0.2.0)\n",
            "Requirement already satisfied: h5py>=2.9.0 in /usr/local/lib/python3.10/dist-packages (from tensorflow) (3.9.0)\n",
            "Requirement already satisfied: libclang>=13.0.0 in /usr/local/lib/python3.10/dist-packages (from tensorflow) (18.1.1)\n",
            "Requirement already satisfied: ml-dtypes~=0.2.0 in /usr/local/lib/python3.10/dist-packages (from tensorflow) (0.2.0)\n",
            "Requirement already satisfied: numpy<2.0.0,>=1.23.5 in /usr/local/lib/python3.10/dist-packages (from tensorflow) (1.25.2)\n",
            "Requirement already satisfied: opt-einsum>=2.3.2 in /usr/local/lib/python3.10/dist-packages (from tensorflow) (3.3.0)\n",
            "Requirement already satisfied: packaging in /usr/local/lib/python3.10/dist-packages (from tensorflow) (24.0)\n",
            "Requirement already satisfied: protobuf!=4.21.0,!=4.21.1,!=4.21.2,!=4.21.3,!=4.21.4,!=4.21.5,<5.0.0dev,>=3.20.3 in /usr/local/lib/python3.10/dist-packages (from tensorflow) (3.20.3)\n",
            "Requirement already satisfied: setuptools in /usr/local/lib/python3.10/dist-packages (from tensorflow) (67.7.2)\n",
            "Requirement already satisfied: six>=1.12.0 in /usr/local/lib/python3.10/dist-packages (from tensorflow) (1.16.0)\n",
            "Requirement already satisfied: termcolor>=1.1.0 in /usr/local/lib/python3.10/dist-packages (from tensorflow) (2.4.0)\n",
            "Requirement already satisfied: typing-extensions>=3.6.6 in /usr/local/lib/python3.10/dist-packages (from tensorflow) (4.11.0)\n",
            "Requirement already satisfied: wrapt<1.15,>=1.11.0 in /usr/local/lib/python3.10/dist-packages (from tensorflow) (1.14.1)\n",
            "Requirement already satisfied: tensorflow-io-gcs-filesystem>=0.23.1 in /usr/local/lib/python3.10/dist-packages (from tensorflow) (0.36.0)\n",
            "Requirement already satisfied: grpcio<2.0,>=1.24.3 in /usr/local/lib/python3.10/dist-packages (from tensorflow) (1.62.1)\n",
            "Requirement already satisfied: tensorboard<2.16,>=2.15 in /usr/local/lib/python3.10/dist-packages (from tensorflow) (2.15.2)\n",
            "Requirement already satisfied: tensorflow-estimator<2.16,>=2.15.0 in /usr/local/lib/python3.10/dist-packages (from tensorflow) (2.15.0)\n",
            "Requirement already satisfied: keras<2.16,>=2.15.0 in /usr/local/lib/python3.10/dist-packages (from tensorflow) (2.15.0)\n",
            "Requirement already satisfied: wheel<1.0,>=0.23.0 in /usr/local/lib/python3.10/dist-packages (from astunparse>=1.6.0->tensorflow) (0.43.0)\n",
            "Requirement already satisfied: google-auth<3,>=1.6.3 in /usr/local/lib/python3.10/dist-packages (from tensorboard<2.16,>=2.15->tensorflow) (2.27.0)\n",
            "Requirement already satisfied: google-auth-oauthlib<2,>=0.5 in /usr/local/lib/python3.10/dist-packages (from tensorboard<2.16,>=2.15->tensorflow) (1.2.0)\n",
            "Requirement already satisfied: markdown>=2.6.8 in /usr/local/lib/python3.10/dist-packages (from tensorboard<2.16,>=2.15->tensorflow) (3.6)\n",
            "Requirement already satisfied: requests<3,>=2.21.0 in /usr/local/lib/python3.10/dist-packages (from tensorboard<2.16,>=2.15->tensorflow) (2.31.0)\n",
            "Requirement already satisfied: tensorboard-data-server<0.8.0,>=0.7.0 in /usr/local/lib/python3.10/dist-packages (from tensorboard<2.16,>=2.15->tensorflow) (0.7.2)\n",
            "Requirement already satisfied: werkzeug>=1.0.1 in /usr/local/lib/python3.10/dist-packages (from tensorboard<2.16,>=2.15->tensorflow) (3.0.2)\n",
            "Requirement already satisfied: cachetools<6.0,>=2.0.0 in /usr/local/lib/python3.10/dist-packages (from google-auth<3,>=1.6.3->tensorboard<2.16,>=2.15->tensorflow) (5.3.3)\n",
            "Requirement already satisfied: pyasn1-modules>=0.2.1 in /usr/local/lib/python3.10/dist-packages (from google-auth<3,>=1.6.3->tensorboard<2.16,>=2.15->tensorflow) (0.4.0)\n",
            "Requirement already satisfied: rsa<5,>=3.1.4 in /usr/local/lib/python3.10/dist-packages (from google-auth<3,>=1.6.3->tensorboard<2.16,>=2.15->tensorflow) (4.9)\n",
            "Requirement already satisfied: requests-oauthlib>=0.7.0 in /usr/local/lib/python3.10/dist-packages (from google-auth-oauthlib<2,>=0.5->tensorboard<2.16,>=2.15->tensorflow) (1.3.1)\n",
            "Requirement already satisfied: charset-normalizer<4,>=2 in /usr/local/lib/python3.10/dist-packages (from requests<3,>=2.21.0->tensorboard<2.16,>=2.15->tensorflow) (3.3.2)\n",
            "Requirement already satisfied: idna<4,>=2.5 in /usr/local/lib/python3.10/dist-packages (from requests<3,>=2.21.0->tensorboard<2.16,>=2.15->tensorflow) (3.6)\n",
            "Requirement already satisfied: urllib3<3,>=1.21.1 in /usr/local/lib/python3.10/dist-packages (from requests<3,>=2.21.0->tensorboard<2.16,>=2.15->tensorflow) (2.0.7)\n",
            "Requirement already satisfied: certifi>=2017.4.17 in /usr/local/lib/python3.10/dist-packages (from requests<3,>=2.21.0->tensorboard<2.16,>=2.15->tensorflow) (2024.2.2)\n",
            "Requirement already satisfied: MarkupSafe>=2.1.1 in /usr/local/lib/python3.10/dist-packages (from werkzeug>=1.0.1->tensorboard<2.16,>=2.15->tensorflow) (2.1.5)\n",
            "Requirement already satisfied: pyasn1<0.7.0,>=0.4.6 in /usr/local/lib/python3.10/dist-packages (from pyasn1-modules>=0.2.1->google-auth<3,>=1.6.3->tensorboard<2.16,>=2.15->tensorflow) (0.6.0)\n",
            "Requirement already satisfied: oauthlib>=3.0.0 in /usr/local/lib/python3.10/dist-packages (from requests-oauthlib>=0.7.0->google-auth-oauthlib<2,>=0.5->tensorboard<2.16,>=2.15->tensorflow) (3.2.2)\n",
            "Requirement already satisfied: keras in /usr/local/lib/python3.10/dist-packages (2.15.0)\n"
          ]
        }
      ],
      "source": [
        "# Install TensorFlow and Keras\n",
        "!pip install tensorflow\n",
        "!pip install keras"
      ]
    },
    {
      "cell_type": "code",
      "source": [
        "# Load TensorFlow and Keras\n",
        "import tensorflow as tf\n",
        "import keras"
      ],
      "metadata": {
        "id": "sjnw7pa5RET5"
      },
      "execution_count": 2,
      "outputs": []
    },
    {
      "cell_type": "code",
      "source": [
        "# Print versions\n",
        "print(\"TensorFlow version:\", tf.__version__)\n",
        "print(\"Keras version:\", keras.__version__)"
      ],
      "metadata": {
        "colab": {
          "base_uri": "https://localhost:8080/"
        },
        "id": "XuBB7iAkREZQ",
        "outputId": "da3fa311-9b37-4bfb-8331-3624000727af"
      },
      "execution_count": 3,
      "outputs": [
        {
          "output_type": "stream",
          "name": "stdout",
          "text": [
            "TensorFlow version: 2.15.0\n",
            "Keras version: 2.15.0\n"
          ]
        }
      ]
    },
    {
      "cell_type": "markdown",
      "source": [
        "# Q2. Load the Wine Quality dataset and explore its dimensions."
      ],
      "metadata": {
        "id": "rgvXcq72R3hJ"
      }
    },
    {
      "cell_type": "code",
      "source": [
        "import pandas as pd\n",
        "\n",
        "# Load the dataset\n",
        "wine_quality_data = pd.read_csv(\"wine.csv\")\n",
        "\n",
        "# Display the dimensions of the dataset\n",
        "print(\"Dimensions of the Wine Quality dataset:\")\n",
        "print(\"Number of rows:\", wine_quality_data.shape[0])\n",
        "print(\"Number of columns:\", wine_quality_data.shape[1])"
      ],
      "metadata": {
        "colab": {
          "base_uri": "https://localhost:8080/"
        },
        "id": "ubGwafesREdo",
        "outputId": "38f9b667-f097-4791-949c-a458c80acbb9"
      },
      "execution_count": 5,
      "outputs": [
        {
          "output_type": "stream",
          "name": "stdout",
          "text": [
            "Dimensions of the Wine Quality dataset:\n",
            "Number of rows: 1599\n",
            "Number of columns: 12\n"
          ]
        }
      ]
    },
    {
      "cell_type": "markdown",
      "source": [
        "# Q3. Check for null values, identify categorical variables, and encode them."
      ],
      "metadata": {
        "id": "I8z_vz9JSQ3T"
      }
    },
    {
      "cell_type": "code",
      "source": [
        "# Check for null values\n",
        "print(\"Null values in the dataset:\")\n",
        "print(wine_quality_data.isnull().sum())\n",
        "\n",
        "# Identify categorical variables\n",
        "categorical_vars = wine_quality_data.select_dtypes(include=['object']).columns\n",
        "print(\"\\nCategorical variables in the dataset:\")\n",
        "print(categorical_vars)\n",
        "\n",
        "# Encode categorical variables\n",
        "wine_quality_data_encoded = pd.get_dummies(wine_quality_data, columns=categorical_vars)\n",
        "\n",
        "# Display the encoded dataset\n",
        "print(\"\\nEncoded dataset:\")\n",
        "print(wine_quality_data_encoded.head())"
      ],
      "metadata": {
        "colab": {
          "base_uri": "https://localhost:8080/"
        },
        "id": "0aU4He58SPz7",
        "outputId": "b40a9b4a-666f-437f-9166-27b79d56d967"
      },
      "execution_count": 6,
      "outputs": [
        {
          "output_type": "stream",
          "name": "stdout",
          "text": [
            "Null values in the dataset:\n",
            "fixed acidity           0\n",
            "volatile acidity        0\n",
            "citric acid             0\n",
            "residual sugar          0\n",
            "chlorides               0\n",
            "free sulfur dioxide     0\n",
            "total sulfur dioxide    0\n",
            "density                 0\n",
            "pH                      0\n",
            "sulphates               0\n",
            "alcohol                 0\n",
            "quality                 0\n",
            "dtype: int64\n",
            "\n",
            "Categorical variables in the dataset:\n",
            "Index(['quality'], dtype='object')\n",
            "\n",
            "Encoded dataset:\n",
            "   fixed acidity  volatile acidity  citric acid  residual sugar  chlorides  \\\n",
            "0            7.4              0.70         0.00             1.9      0.076   \n",
            "1            7.8              0.88         0.00             2.6      0.098   \n",
            "2            7.8              0.76         0.04             2.3      0.092   \n",
            "3           11.2              0.28         0.56             1.9      0.075   \n",
            "4            7.4              0.70         0.00             1.9      0.076   \n",
            "\n",
            "   free sulfur dioxide  total sulfur dioxide  density    pH  sulphates  \\\n",
            "0                 11.0                  34.0   0.9978  3.51       0.56   \n",
            "1                 25.0                  67.0   0.9968  3.20       0.68   \n",
            "2                 15.0                  54.0   0.9970  3.26       0.65   \n",
            "3                 17.0                  60.0   0.9980  3.16       0.58   \n",
            "4                 11.0                  34.0   0.9978  3.51       0.56   \n",
            "\n",
            "   alcohol  quality_bad  quality_good  \n",
            "0      9.4         True         False  \n",
            "1      9.8         True         False  \n",
            "2      9.8         True         False  \n",
            "3      9.8        False          True  \n",
            "4      9.4         True         False  \n"
          ]
        }
      ]
    },
    {
      "cell_type": "markdown",
      "source": [
        "# Q4. Separate the features and target variables from the dataset."
      ],
      "metadata": {
        "id": "_DMFe5IMTDDr"
      }
    },
    {
      "cell_type": "code",
      "source": [
        "# Separate features and target variable\n",
        "X = wine_quality_data.drop(columns=['quality'])  # Features\n",
        "y = wine_quality_data['quality']  # Target variable"
      ],
      "metadata": {
        "id": "0uhV2ihPREgg"
      },
      "execution_count": 8,
      "outputs": []
    },
    {
      "cell_type": "markdown",
      "source": [
        "# Q5. Perform a train-test split, dividing the data into training, validation, and test datasets."
      ],
      "metadata": {
        "id": "1PjpjT4qTLE4"
      }
    },
    {
      "cell_type": "code",
      "source": [
        "from sklearn.model_selection import train_test_split\n",
        "\n",
        "# Perform train-test split (80% train, 20% test)\n",
        "X_train, X_test, y_train, y_test = train_test_split(X, y, test_size=0.2, random_state=42)\n",
        "\n",
        "# Further split the training data into train and validation sets (80% train, 20% validation)\n",
        "X_train, X_val, y_train, y_val = train_test_split(X_train, y_train, test_size=0.2, random_state=42)\n",
        "\n",
        "# Display the dimensions of each set\n",
        "print(\"Dimensions of training set (X_train):\", X_train.shape)\n",
        "print(\"Dimensions of validation set (X_val):\", X_val.shape)\n",
        "print(\"Dimensions of test set (X_test):\", X_test.shape)\n",
        "print(\"Dimensions of training target variable (y_train):\", y_train.shape)\n",
        "print(\"Dimensions of validation target variable (y_val):\", y_val.shape)\n",
        "print(\"Dimensions of test target variable (y_test):\", y_test.shape)"
      ],
      "metadata": {
        "colab": {
          "base_uri": "https://localhost:8080/"
        },
        "id": "i4ysvm2dREjY",
        "outputId": "87cf872a-1b9d-4c33-a62e-8764a0001eb1"
      },
      "execution_count": 9,
      "outputs": [
        {
          "output_type": "stream",
          "name": "stdout",
          "text": [
            "Dimensions of training set (X_train): (1023, 11)\n",
            "Dimensions of validation set (X_val): (256, 11)\n",
            "Dimensions of test set (X_test): (320, 11)\n",
            "Dimensions of training target variable (y_train): (1023,)\n",
            "Dimensions of validation target variable (y_val): (256,)\n",
            "Dimensions of test target variable (y_test): (320,)\n"
          ]
        }
      ]
    },
    {
      "cell_type": "markdown",
      "source": [
        "# Q6. Scale the dataset using an appropriate scaling technique."
      ],
      "metadata": {
        "id": "ejxKCtqATq5R"
      }
    },
    {
      "cell_type": "code",
      "source": [
        "from sklearn.preprocessing import MinMaxScaler\n",
        "\n",
        "# Initialize the MinMaxScaler\n",
        "scaler = MinMaxScaler()\n",
        "\n",
        "# Fit the scaler on the training data and transform it\n",
        "X_train_scaled = scaler.fit_transform(X_train)\n",
        "# Transform the validation and test data using the same scaler\n",
        "X_val_scaled = scaler.transform(X_val)\n",
        "X_test_scaled = scaler.transform(X_test)\n",
        "\n",
        "# Display the dimensions of scaled data\n",
        "print(\"Dimensions of scaled training set (X_train_scaled):\", X_train_scaled.shape)\n",
        "print(\"Dimensions of scaled validation set (X_val_scaled):\", X_val_scaled.shape)\n",
        "print(\"Dimensions of scaled test set (X_test_scaled):\", X_test_scaled.shape)"
      ],
      "metadata": {
        "colab": {
          "base_uri": "https://localhost:8080/"
        },
        "id": "svMTRq42REmb",
        "outputId": "c91fa1ed-8257-479f-d291-88df02167aff"
      },
      "execution_count": 10,
      "outputs": [
        {
          "output_type": "stream",
          "name": "stdout",
          "text": [
            "Dimensions of scaled training set (X_train_scaled): (1023, 11)\n",
            "Dimensions of scaled validation set (X_val_scaled): (256, 11)\n",
            "Dimensions of scaled test set (X_test_scaled): (320, 11)\n"
          ]
        }
      ]
    },
    {
      "cell_type": "markdown",
      "source": [
        "# Q7. Design and implement at least two hidden layers and an output layer for the binary categorical variables.\n",
        "\n",
        "# Q8. Create a Sequential model in Keras and add the previously designed layers to it."
      ],
      "metadata": {
        "id": "BZo-SY-iUDaq"
      }
    },
    {
      "cell_type": "code",
      "source": [
        "from keras.models import Sequential\n",
        "from keras.layers import Dense\n",
        "\n",
        "# Create a Sequential model\n",
        "model = Sequential()\n",
        "\n",
        "# Add the layers to the model\n",
        "model.add(Dense(64, activation='relu', input_shape=(X_train_scaled.shape[1],)))  # First hidden layer\n",
        "model.add(Dense(32, activation='relu'))  # Second hidden layer\n",
        "model.add(Dense(1, activation='sigmoid'))  # Output layer"
      ],
      "metadata": {
        "id": "D1KMPA9CREpS"
      },
      "execution_count": 12,
      "outputs": []
    },
    {
      "cell_type": "markdown",
      "source": [
        "# Q9. Print the summary of the model architecture."
      ],
      "metadata": {
        "id": "FWUF2KBEUjTy"
      }
    },
    {
      "cell_type": "code",
      "source": [
        "# Print the summary of the model architecture\n",
        "print(model.summary())\n"
      ],
      "metadata": {
        "colab": {
          "base_uri": "https://localhost:8080/"
        },
        "id": "MqCfoVQ8UiiH",
        "outputId": "0e0d0fed-a531-43d3-fcf7-58507f0ca539"
      },
      "execution_count": 13,
      "outputs": [
        {
          "output_type": "stream",
          "name": "stdout",
          "text": [
            "Model: \"sequential_1\"\n",
            "_________________________________________________________________\n",
            " Layer (type)                Output Shape              Param #   \n",
            "=================================================================\n",
            " dense_3 (Dense)             (None, 64)                768       \n",
            "                                                                 \n",
            " dense_4 (Dense)             (None, 32)                2080      \n",
            "                                                                 \n",
            " dense_5 (Dense)             (None, 1)                 33        \n",
            "                                                                 \n",
            "=================================================================\n",
            "Total params: 2881 (11.25 KB)\n",
            "Trainable params: 2881 (11.25 KB)\n",
            "Non-trainable params: 0 (0.00 Byte)\n",
            "_________________________________________________________________\n",
            "None\n"
          ]
        }
      ]
    },
    {
      "cell_type": "markdown",
      "source": [
        "# Q10. Set the loss function(‘binary_crossentropy’), optimizer, and include the accuracy metric in the model.\n",
        "\n",
        "# Q11. Compile the model with the specified loss function, optimizer, and metrics."
      ],
      "metadata": {
        "id": "qzK0_RUFVKMh"
      }
    },
    {
      "cell_type": "code",
      "source": [
        "# Compile the model with specified loss function, optimizer, and metrics\n",
        "model.compile(optimizer='adam', loss='binary_crossentropy', metrics=['accuracy'])\n"
      ],
      "metadata": {
        "id": "fCjMcwkbREsR"
      },
      "execution_count": 14,
      "outputs": []
    },
    {
      "cell_type": "markdown",
      "source": [
        "# Q12. Fit the model to the training data using appropriate batch size and number of epochs."
      ],
      "metadata": {
        "id": "nqI3hYi1Vk5A"
      }
    },
    {
      "cell_type": "code",
      "source": [
        "from sklearn.preprocessing import LabelEncoder\n",
        "\n",
        "# Initialize LabelEncoder\n",
        "label_encoder = LabelEncoder()\n",
        "\n",
        "# Encode the target variable\n",
        "y_train_encoded = label_encoder.fit_transform(y_train)\n",
        "y_val_encoded = label_encoder.transform(y_val)\n",
        "y_test_encoded = label_encoder.transform(y_test)\n",
        "\n",
        "# Fit the model to the training data with encoded target variable\n",
        "history = model.fit(X_train_scaled, y_train_encoded, batch_size=64, epochs=10, validation_data=(X_val_scaled, y_val_encoded))\n"
      ],
      "metadata": {
        "colab": {
          "base_uri": "https://localhost:8080/"
        },
        "id": "tVhcTq_FVqoq",
        "outputId": "f48b26c5-09a7-415e-d321-306701e83fe3"
      },
      "execution_count": 16,
      "outputs": [
        {
          "output_type": "stream",
          "name": "stdout",
          "text": [
            "Epoch 1/10\n",
            "16/16 [==============================] - 6s 38ms/step - loss: 0.6844 - accuracy: 0.5826 - val_loss: 0.6739 - val_accuracy: 0.6562\n",
            "Epoch 2/10\n",
            "16/16 [==============================] - 0s 10ms/step - loss: 0.6554 - accuracy: 0.7195 - val_loss: 0.6514 - val_accuracy: 0.7109\n",
            "Epoch 3/10\n",
            "16/16 [==============================] - 0s 10ms/step - loss: 0.6269 - accuracy: 0.7234 - val_loss: 0.6304 - val_accuracy: 0.7188\n",
            "Epoch 4/10\n",
            "16/16 [==============================] - 0s 16ms/step - loss: 0.6006 - accuracy: 0.7165 - val_loss: 0.6095 - val_accuracy: 0.7305\n",
            "Epoch 5/10\n",
            "16/16 [==============================] - 0s 8ms/step - loss: 0.5749 - accuracy: 0.7273 - val_loss: 0.5906 - val_accuracy: 0.7383\n",
            "Epoch 6/10\n",
            "16/16 [==============================] - 0s 10ms/step - loss: 0.5559 - accuracy: 0.7370 - val_loss: 0.5729 - val_accuracy: 0.7500\n",
            "Epoch 7/10\n",
            "16/16 [==============================] - 0s 8ms/step - loss: 0.5400 - accuracy: 0.7331 - val_loss: 0.5632 - val_accuracy: 0.7578\n",
            "Epoch 8/10\n",
            "16/16 [==============================] - 0s 19ms/step - loss: 0.5308 - accuracy: 0.7341 - val_loss: 0.5581 - val_accuracy: 0.7539\n",
            "Epoch 9/10\n",
            "16/16 [==============================] - 0s 9ms/step - loss: 0.5238 - accuracy: 0.7351 - val_loss: 0.5580 - val_accuracy: 0.7500\n",
            "Epoch 10/10\n",
            "16/16 [==============================] - 0s 11ms/step - loss: 0.5208 - accuracy: 0.7361 - val_loss: 0.5566 - val_accuracy: 0.7617\n"
          ]
        }
      ]
    },
    {
      "cell_type": "markdown",
      "source": [
        "# Q13. Obtain the model's parameters (weights and biases)."
      ],
      "metadata": {
        "id": "PtdO1GCQWq6D"
      }
    },
    {
      "cell_type": "code",
      "source": [
        "# Get the model's parameters (weights and biases)\n",
        "model_params = model.get_weights()\n",
        "\n",
        "# Print the parameters\n",
        "for i, layer_params in enumerate(model_params):\n",
        "    print(\"Layer\", i+1)\n",
        "    print(\"Weights shape:\", layer_params[0].shape)\n",
        "    if len(layer_params) > 1:  # Check if biases exist for the layer\n",
        "        print(\"Biases shape:\", layer_params[1].shape)\n",
        "    else:\n",
        "        print(\"No biases for this layer\")\n",
        "    print()\n"
      ],
      "metadata": {
        "colab": {
          "base_uri": "https://localhost:8080/"
        },
        "id": "cbOpGP8tWH6x",
        "outputId": "b9602aec-8ff1-4991-d53e-205966c7b771"
      },
      "execution_count": 18,
      "outputs": [
        {
          "output_type": "stream",
          "name": "stdout",
          "text": [
            "Layer 1\n",
            "Weights shape: (64,)\n",
            "Biases shape: (64,)\n",
            "\n",
            "Layer 2\n",
            "Weights shape: ()\n",
            "Biases shape: ()\n",
            "\n",
            "Layer 3\n",
            "Weights shape: (32,)\n",
            "Biases shape: (32,)\n",
            "\n",
            "Layer 4\n",
            "Weights shape: ()\n",
            "Biases shape: ()\n",
            "\n",
            "Layer 5\n",
            "Weights shape: (1,)\n",
            "Biases shape: (1,)\n",
            "\n",
            "Layer 6\n",
            "Weights shape: ()\n",
            "No biases for this layer\n",
            "\n"
          ]
        }
      ]
    },
    {
      "cell_type": "markdown",
      "source": [
        "# Q14. Store the model's training history as a Pandas DataFrame."
      ],
      "metadata": {
        "id": "7NJU8LlUXPGu"
      }
    },
    {
      "cell_type": "code",
      "source": [
        "# Convert training history to a DataFrame\n",
        "history_df = pd.DataFrame(history.history)\n",
        "\n",
        "# Print the DataFrame\n",
        "print(history_df)"
      ],
      "metadata": {
        "colab": {
          "base_uri": "https://localhost:8080/"
        },
        "id": "T5E5cmLoWxMT",
        "outputId": "9e013ba2-6bfa-4297-d683-67ee34ba0413"
      },
      "execution_count": 19,
      "outputs": [
        {
          "output_type": "stream",
          "name": "stdout",
          "text": [
            "       loss  accuracy  val_loss  val_accuracy\n",
            "0  0.684410  0.582600  0.673915      0.656250\n",
            "1  0.655423  0.719453  0.651400      0.710938\n",
            "2  0.626885  0.723363  0.630406      0.718750\n",
            "3  0.600581  0.716520  0.609486      0.730469\n",
            "4  0.574876  0.727273  0.590611      0.738281\n",
            "5  0.555856  0.737048  0.572939      0.750000\n",
            "6  0.540045  0.733138  0.563242      0.757812\n",
            "7  0.530796  0.734115  0.558062      0.753906\n",
            "8  0.523777  0.735093  0.558011      0.750000\n",
            "9  0.520767  0.736070  0.556565      0.761719\n"
          ]
        }
      ]
    },
    {
      "cell_type": "markdown",
      "source": [
        "# Q15. Plot the training history (e.g., accuracy and loss) using suitable visualization techniques."
      ],
      "metadata": {
        "id": "-yt8JACtXZRp"
      }
    },
    {
      "cell_type": "code",
      "source": [
        "import matplotlib.pyplot as plt\n",
        "\n",
        "# Plot training history\n",
        "plt.figure(figsize=(12, 6))\n",
        "\n",
        "# Plot training & validation accuracy values\n",
        "plt.subplot(1, 2, 1)\n",
        "plt.plot(history.history['accuracy'], label='Training Accuracy')\n",
        "plt.plot(history.history['val_accuracy'], label='Validation Accuracy')\n",
        "plt.title('Model Accuracy')\n",
        "plt.xlabel('Epoch')\n",
        "plt.ylabel('Accuracy')\n",
        "plt.legend()\n",
        "\n",
        "# Plot training & validation loss values\n",
        "plt.subplot(1, 2, 2)\n",
        "plt.plot(history.history['loss'], label='Training Loss')\n",
        "plt.plot(history.history['val_loss'], label='Validation Loss')\n",
        "plt.title('Model Loss')\n",
        "plt.xlabel('Epoch')\n",
        "plt.ylabel('Loss')\n",
        "plt.legend()\n",
        "\n",
        "plt.tight_layout()\n",
        "plt.show()\n"
      ],
      "metadata": {
        "colab": {
          "base_uri": "https://localhost:8080/",
          "height": 627
        },
        "id": "D2-zno63XSDp",
        "outputId": "1f11922c-1529-46ea-c416-2500f3816aa8"
      },
      "execution_count": 20,
      "outputs": [
        {
          "output_type": "display_data",
          "data": {
            "text/plain": [
              "<Figure size 1200x600 with 2 Axes>"
            ],
            "image/png": "[encoded data removed]"
          },
          "metadata": {}
        }
      ]
    },
    {
      "cell_type": "markdown",
      "source": [
        "# Q16. Evaluate the model's performance using the test dataset and report relevant metrics."
      ],
      "metadata": {
        "id": "t72yRJR9Xnl7"
      }
    },
    {
      "cell_type": "code",
      "source": [
        "# Evaluate the model on the test data\n",
        "loss, accuracy = model.evaluate(X_test_scaled, y_test_encoded)\n",
        "\n",
        "# Print the test loss and accuracy\n",
        "print(\"Test Loss:\", loss)\n",
        "print(\"Test Accuracy:\", accuracy)\n"
      ],
      "metadata": {
        "colab": {
          "base_uri": "https://localhost:8080/"
        },
        "id": "zBqctjESXfsK",
        "outputId": "58b82f98-a0d9-47bf-c085-24a8b7333763"
      },
      "execution_count": 21,
      "outputs": [
        {
          "output_type": "stream",
          "name": "stdout",
          "text": [
            "10/10 [==============================] - 1s 7ms/step - loss: 0.5213 - accuracy: 0.7500\n",
            "Test Loss: 0.5213141441345215\n",
            "Test Accuracy: 0.75\n"
          ]
        }
      ]
    },
    {
      "cell_type": "code",
      "source": [],
      "metadata": {
        "id": "pm_kFVz0XsT_"
      },
      "execution_count": null,
      "outputs": []
    }
  ]
}