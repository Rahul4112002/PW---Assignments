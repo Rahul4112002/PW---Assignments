{
 "cells": [
  {
   "cell_type": "markdown",
   "id": "f64bb61b-4efc-4a2e-a359-a7d76d71a860",
   "metadata": {},
   "source": [
    "Q1. What are the three measures of central tendency?"
   ]
  },
  {
   "cell_type": "markdown",
   "id": "e1663af1-c99f-41c3-a26e-2cabc5ee411b",
   "metadata": {},
   "source": [
    "--> The three measures of central tendency are the mean, median, and mode.\n",
    "\n",
    "    Mean: The average of all the values in the dataset.\n",
    "    Median: The middle value in the dataset, when the values are arranged in order from smallest to largest.\n",
    "    Mode: The most frequent value in the dataset.\n"
   ]
  },
  {
   "cell_type": "code",
   "execution_count": null,
   "id": "5d3a9863-41dd-4bd6-863f-acd31796d03b",
   "metadata": {},
   "outputs": [],
   "source": []
  },
  {
   "cell_type": "markdown",
   "id": "8a4d519c-2811-41bc-ae7b-31d783788e96",
   "metadata": {},
   "source": [
    "Q2. What is the difference between the mean, median, and mode? How are they used to measure the\n",
    "central tendency of a dataset?"
   ]
  },
  {
   "cell_type": "markdown",
   "id": "acf1d549-09e0-4264-91ee-3d239dda7f51",
   "metadata": {},
   "source": [
    "--> The mean is calculated by adding all the values in the dataset and dividing by the number of values. The median is found by arranging the values in order from smallest to largest and taking the middle value. The mode is the most frequent value in the dataset.\n",
    "\n",
    "To measure the central tendency of a dataset, you can use any of the three measures of central tendency. However, the mean is the most commonly used measure of central tendency, because it is the most sensitive to changes in the data."
   ]
  },
  {
   "cell_type": "markdown",
   "id": "b72e34f3-f835-46b9-a2fa-92d844747ec7",
   "metadata": {},
   "source": [
    "Q3. Measure the three measures of central tendency for the given height data:\n",
    "[178,177,176,177,178.2,178,175,179,180,175,178.9,176.2,177,172.5,178,176.5]"
   ]
  },
  {
   "cell_type": "markdown",
   "id": "bb534c67-d165-440c-9bae-0f3fe982ccdf",
   "metadata": {},
   "source": [
    "--> To calculate the mean, median, and mode of the given height data, we first need to order the data from smallest to largest:\n",
    "\n",
    "172.5, 175, 175, 176, 176.2, 176.5, 177, 177, 177, 178, 178, 178.2, 178.9, 180\n",
    "\n",
    "The mean is calculated by adding all the values in the dataset and dividing by the number of values:\n",
    "\n",
    "Mean = (172.5 + 175 + 175 + 176 + 176.2 + 176.5 + 177 + 177 + 177 + 178 + 178 + 178.2 + 178.9 + 180) / 16 = 177.1\n",
    "\n",
    "The median is the middle value in the dataset:\n",
    "\n",
    "Median = 177.5\n",
    "\n",
    "The mode is the most frequent value in the dataset:\n",
    "\n",
    "Mode = 178\n",
    "\n",
    "Therefore, the mean, median, and mode of the given height data are 177.1, 177.5, and 178, respectively."
   ]
  },
  {
   "cell_type": "code",
   "execution_count": null,
   "id": "5d0fa29d-553b-44b3-9d06-9d566d5de3da",
   "metadata": {},
   "outputs": [],
   "source": []
  },
  {
   "cell_type": "markdown",
   "id": "d21f20ab-f037-434c-893d-82997cabe96c",
   "metadata": {},
   "source": [
    "Q4. Find the standard deviation for the given data:\n",
    "[178,177,176,177,178.2,178,175,179,180,175,178.9,176.2,177,172.5,178,176.5]"
   ]
  },
  {
   "cell_type": "markdown",
   "id": "dec272a5-cb0c-485f-9ba7-49848f7ac4a3",
   "metadata": {},
   "source": [
    "To calculate the standard deviation, we first need to calculate the variance. The variance is calculated by taking the average of the squared deviations from the mean:\n",
    "\n",
    "Variance = (1.21 + 0.01 + 1.44 + 0.01 + 0.25 + 0.01 + 4.41 + 3.61 + 8.41 + 4.41 + 2.89 + 0.09 + 0.01 + 25.09) / 15 = 3.48\n",
    "\n",
    "The standard deviation is calculated by taking the square root of the variance:\n",
    "\n",
    "Standard deviation = √3.48 = 1.87\n",
    "\n",
    "Therefore, the standard deviation for the given height data is 1.87."
   ]
  },
  {
   "cell_type": "markdown",
   "id": "9d70d857-1454-4238-9859-7930ce315797",
   "metadata": {},
   "source": [
    "Q5. How are measures of dispersion such as range, variance, and standard deviation used to describe\n",
    "the spread of a dataset? Provide an example."
   ]
  },
  {
   "cell_type": "markdown",
   "id": "5f6398fe-2fb3-4bda-97f6-1838465a00f7",
   "metadata": {},
   "source": [
    "Measures of dispersion such as range, variance, and standard deviation are used to describe how spread out the values in a dataset are. A dataset with a high measure of dispersion has values that are spread out over a wide range, while a dataset with a low measure of dispersion has values that are closely clustered around the mean."
   ]
  },
  {
   "cell_type": "code",
   "execution_count": null,
   "id": "ee4fc2dd-2295-4cb2-bdd4-acbbc532a612",
   "metadata": {},
   "outputs": [],
   "source": []
  },
  {
   "cell_type": "markdown",
   "id": "25699c5d-25e3-4f63-a345-4810e66c2722",
   "metadata": {},
   "source": [
    "Q6. What is a Venn diagram?"
   ]
  },
  {
   "cell_type": "markdown",
   "id": "75125a18-ae8f-4586-9c3e-78f5002d0115",
   "metadata": {},
   "source": [
    "-->\n",
    "A Venn diagram is a graphical representation of the relationships between sets. It is a useful tool for visualizing and understanding the relationships between different categories of data.\n",
    "\n",
    "Venn diagrams are typically represented as overlapping circles, where each circle represents a different set. The overlap between the circles represents the elements that are common to both sets."
   ]
  },
  {
   "cell_type": "code",
   "execution_count": null,
   "id": "b4dadb24-2bd4-4a26-9ccf-357a987279e1",
   "metadata": {},
   "outputs": [],
   "source": []
  },
  {
   "cell_type": "markdown",
   "id": "0f6d9d03-18b7-4d00-8a24-364499bfac0c",
   "metadata": {},
   "source": [
    "Q7. For the two given sets A = (2,3,4,5,6,7) & B = (0,2,6,8,10). Find:\n",
    "(i) A intersection  B\n",
    "(ii) A ⋃ B"
   ]
  },
  {
   "cell_type": "markdown",
   "id": "3c630250-0cf4-42b9-bb7d-a248e29f73ed",
   "metadata": {},
   "source": [
    "--> (i) A intersection B\n",
    "\n",
    "The intersection of two sets A and B is the set of elements that are common to both sets. In this case, the intersection of A and B is the set {2,6}.\n",
    "\n",
    "(ii) A ⋃ B\n",
    "\n",
    "The union of two sets A and B is the set of elements that are in either set A or set B, or both. In this case, the union of A and B is the set {0,2,3,4,5,6,7,8,10}."
   ]
  },
  {
   "cell_type": "code",
   "execution_count": null,
   "id": "85693513-34fc-40f2-97db-519ff63541c4",
   "metadata": {},
   "outputs": [],
   "source": []
  },
  {
   "cell_type": "markdown",
   "id": "768a61c0-9978-483b-b94d-b9e72d127510",
   "metadata": {},
   "source": [
    "Q8. What do you understand about skewness in data?"
   ]
  },
  {
   "cell_type": "markdown",
   "id": "8a9cd029-b638-4e8f-a4e1-e747e23b25fb",
   "metadata": {},
   "source": [
    "--> There are two types of skewness: positive skewness and negative skewness.\n",
    "\n",
    "    Positive skewness: A distribution is positively skewed if the tail of the distribution is longer on the right than on the left. This means that there are more values above the mean than below the mean.\n",
    "    \n",
    "    Negative skewness: A distribution is negatively skewed if the tail of the distribution is longer on the left than on the right. This means that there are more values below the mean than above the mean.\n",
    "\n",
    "Skewness can be caused by a number of factors, such as outliers, data collection methods, or the nature of the data itself."
   ]
  },
  {
   "cell_type": "code",
   "execution_count": null,
   "id": "7657db2f-94d6-4d3d-84ba-c1e3c8635d1e",
   "metadata": {},
   "outputs": [],
   "source": []
  },
  {
   "cell_type": "markdown",
   "id": "55e7670b-dd08-40d1-bde5-160889704da1",
   "metadata": {},
   "source": [
    "Q9. If a data is right skewed then what will be the position of median with respect to mean?"
   ]
  },
  {
   "cell_type": "markdown",
   "id": "1030e445-921c-4ae7-9578-792533ef85f8",
   "metadata": {},
   "source": [
    "--> In a right-skewed distribution, the median is less than the mean. This is because there are more values below the mean than above the mean."
   ]
  },
  {
   "cell_type": "code",
   "execution_count": null,
   "id": "fa62900e-0682-4d96-bd51-fdb6eefc87d9",
   "metadata": {},
   "outputs": [],
   "source": []
  },
  {
   "cell_type": "markdown",
   "id": "021f915b-ebc2-461d-834c-828ddee1cdb6",
   "metadata": {},
   "source": [
    "Q10. Explain the difference between covariance and correlation. How are these measures used in\n",
    "statistical analysis?"
   ]
  },
  {
   "cell_type": "markdown",
   "id": "61f9260e-b510-4af5-990e-ddec0f64c938",
   "metadata": {},
   "source": [
    "--> Covariance and correlation are both measures of the relationship between two variables. However, there are some important differences between the two measures.\n",
    "\n",
    "    Covariance: Covariance is a measure of the linear relationship between two variables. It is calculated by taking the average of the product of the deviations from the mean for each variable.\n",
    "    \n",
    "    Correlation: Correlation is a measure of the strength and direction of the linear relationship between two variables. It is calculated by dividing the covariance by the product of the standard deviations of the two variables.\n",
    "\n",
    "Covariance and correlation are both used in statistical analysis to measure the relationship between two variables. However, correlation is more commonly used because it is a standardized measure, which means that it is not affected by the scale of the variables."
   ]
  },
  {
   "cell_type": "code",
   "execution_count": null,
   "id": "5965c0ff-fac5-4ff2-882f-3dc38afb4956",
   "metadata": {},
   "outputs": [],
   "source": []
  },
  {
   "cell_type": "markdown",
   "id": "939cccde-baf5-43dc-8126-16fc9a6f96d3",
   "metadata": {},
   "source": [
    "Q11. What is the formula for calculating the sample mean? Provide an example calculation for a dataset."
   ]
  },
  {
   "cell_type": "markdown",
   "id": "b8f44bfc-4364-43d1-9b47-f37aa331077b",
   "metadata": {},
   "source": [
    "--> The sample mean is calculated by adding all the values in the sample and dividing by the number of values in the sample.\n",
    "\n",
    "Sample mean = (x1 + x2 + ... + xn) / n\n",
    "\n",
    "where x1, x2, ..., xn are the values in the sample.\n",
    "\n",
    "For example, suppose you have a sample of 10 students' heights:\n",
    "\n",
    "[178,177,176,177,178.2,178,175,179,180,175]\n",
    "\n",
    "The sample mean is calculated as follows:\n",
    "\n",
    "Sample mean = (178 + 177 + 176 + 177 + 178.2 + 178 + 175 + 179 + 180 + 175) / 10 = 177.1\n",
    "\n",
    "Therefore, the sample mean height of the students is 177.1 cm."
   ]
  },
  {
   "cell_type": "code",
   "execution_count": null,
   "id": "9482f4a6-6094-49d9-bb60-48b32725a17d",
   "metadata": {},
   "outputs": [],
   "source": []
  },
  {
   "cell_type": "markdown",
   "id": "90717d35-d7ef-401f-865f-5c54f879a562",
   "metadata": {},
   "source": [
    "Q12. For a normal distribution data what is the relationship between its measure of central tendency?"
   ]
  },
  {
   "cell_type": "markdown",
   "id": "c92ca4ed-e867-4b7a-a216-0d43dae23b16",
   "metadata": {},
   "source": [
    "--> In a normal distribution, the mean, median, and mode are all equal. This is because the normal distribution is symmetric and bell-shaped, with the mean, median, and mode all located at the center of the distribution."
   ]
  },
  {
   "cell_type": "code",
   "execution_count": null,
   "id": "6796df8c-f106-402c-b22c-6847435619e9",
   "metadata": {},
   "outputs": [],
   "source": []
  },
  {
   "cell_type": "markdown",
   "id": "54920971-7d9d-40ab-be62-55de2280cdfa",
   "metadata": {},
   "source": [
    "Q13. How is covariance different from correlation?"
   ]
  },
  {
   "cell_type": "markdown",
   "id": "be126d79-b67f-4f53-aa99-d1855dfc4150",
   "metadata": {},
   "source": [
    "--> Q13. How is covariance different from correlation?\n",
    "\n",
    "Covariance is a measure of the linear relationship between two variables, while correlation is a measure of the strength and direction of the linear relationship between two variables.\n",
    "\n",
    "Covariance is calculated by taking the average of the product of the deviations from the mean for each variable. Correlation is calculated by dividing the covariance by the product of the standard deviations of the two variables.\n",
    "\n",
    "Example:\n",
    "\n",
    "Suppose you have two variables: height and weight. You can calculate the covariance and correlation between height and weight to measure the relationship between the two variables.\n",
    "\n",
    "A positive covariance indicates that the two variables tend to increase or decrease together. A negative covariance indicates that one variable increases as the other decreases.\n",
    "\n",
    "A correlation coefficient of 1 indicates a perfect positive correlation, while a correlation coefficient of -1 indicates a perfect negative correlation. A correlation coefficient of 0 indicates no correlation between the two variables.\n",
    "\n",
    "Uses of covariance and correlation in statistical analysis:\n",
    "\n",
    "Covariance and correlation are both used in statistical analysis to measure the relationship between two variables. However, correlation is more commonly used because it is a standardized measure, which means that it is not affected by the scale of the variables.\n",
    "\n",
    "Correlation can be used to:\n",
    "\n",
    "    Identify potential relationships between variables\n",
    "    Predict the value of one variable based on the value of another variable\n",
    "    Test the significance of the relationship between two variables\n"
   ]
  },
  {
   "cell_type": "code",
   "execution_count": null,
   "id": "f4c9b03c-566f-4c20-89f6-8d8be5f04291",
   "metadata": {},
   "outputs": [],
   "source": []
  },
  {
   "cell_type": "markdown",
   "id": "b7076098-6a17-4eb3-b245-edea89fb18e0",
   "metadata": {},
   "source": [
    "Q14. How do outliers affect measures of central tendency and dispersion? Provide an example."
   ]
  },
  {
   "cell_type": "markdown",
   "id": "1c19b038-1bf0-4864-bc6f-059e5a05a418",
   "metadata": {},
   "source": [
    "--> Outliers can have a significant impact on measures of central tendency and dispersion.\n",
    "\n",
    "For example, suppose you have a dataset of student heights with one outlier (a very tall student). The outlier will increase the mean and median of the dataset, but it will have a much larger impact on the mean than the median. The outlier will also increase the standard deviation of the dataset.\n",
    "\n",
    "Here is an example:\n",
    "\n",
    "Dataset without outlier: [178, 177, 176, 177, 178.2, 178, 175, 179, 180, 175]\n",
    "\n",
    "Mean: 177.1\n",
    "Median: 177.5\n",
    "Standard deviation: 1.87\n",
    "\n",
    "Dataset with outlier: [178, 177, 176, 177, 178.2, 178, 175, 179, 180, 175, 200]\n",
    "\n",
    "Mean: 177.8\n",
    "Median: 177.5\n",
    "Standard deviation: 9.23\n",
    "\n",
    "As you can see, the outlier has a much larger impact on the mean and standard deviation than on the median.\n",
    "\n",
    "It is important to be aware of the impact of outliers on measures of central tendency and dispersion, and to take appropriate steps to address outliers if necessary."
   ]
  },
  {
   "cell_type": "code",
   "execution_count": null,
   "id": "cab576e4-7a79-4853-8994-80fb2ab36f26",
   "metadata": {},
   "outputs": [],
   "source": []
  }
 ],
 "metadata": {
  "kernelspec": {
   "display_name": "Python 3 (ipykernel)",
   "language": "python",
   "name": "python3"
  },
  "language_info": {
   "codemirror_mode": {
    "name": "ipython",
    "version": 3
   },
   "file_extension": ".py",
   "mimetype": "text/x-python",
   "name": "python",
   "nbconvert_exporter": "python",
   "pygments_lexer": "ipython3",
   "version": "3.10.8"
  }
 },
 "nbformat": 4,
 "nbformat_minor": 5
}
