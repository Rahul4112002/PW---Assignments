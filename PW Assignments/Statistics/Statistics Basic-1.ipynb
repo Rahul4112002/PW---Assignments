{
 "cells": [
  {
   "cell_type": "markdown",
   "id": "930369a4-056d-48e3-b4a3-ff842d32233d",
   "metadata": {},
   "source": [
    "Q1. What is Statistics?\n"
   ]
  },
  {
   "cell_type": "markdown",
   "id": "f6bd4238-83e0-4c25-8b91-66694728870a",
   "metadata": {},
   "source": [
    "--> Statistics is the study of how to collect, analyze, and interpret data. It is used in almost every field, from business to science to medicine."
   ]
  },
  {
   "cell_type": "markdown",
   "id": "07fbd246-ffb2-4722-a628-f30b3a4a82c9",
   "metadata": {},
   "source": [
    "Q2. Define the different types of statistics and give an example of when each type might be used."
   ]
  },
  {
   "cell_type": "markdown",
   "id": "6680eca2-4da7-48dd-83cf-bc54c5e89054",
   "metadata": {},
   "source": [
    "-->\n",
    "There are two main types of statistics: descriptive and inferential.\n",
    "\n",
    "    Descriptive statistics is used to summarize and describe data. For example, you might use descriptive statistics to find the average height of students in your class, or the percentage of people who voted in a recent election.\n",
    "    \n",
    "    Inferential statistics is used to make conclusions about a population based on a sample. For example, you might use inferential statistics to estimate the average height of all adults in the United States, based on a sample of adults.\n"
   ]
  },
  {
   "cell_type": "markdown",
   "id": "83e99cf1-6f53-421a-bc76-2c70809dfa17",
   "metadata": {},
   "source": [
    "Q3. What are the different types of data and how do they differ from each other? Provide an example of each type of data."
   ]
  },
  {
   "cell_type": "markdown",
   "id": "04a3213f-eb7d-439f-93dd-1201cf1aeea9",
   "metadata": {},
   "source": [
    "-->\n",
    "There are four main types of data: nominal, ordinal, interval, and ratio.\n",
    "\n",
    "    Nominal data is categorical data that cannot be ranked in any order. For example, eye color, blood type, and political party affiliation are all nominal data.\n",
    "    \n",
    "    Ordinal data is categorical data that can be ranked in order, but the difference between each rank is not necessarily equal. For example, customer satisfaction ratings (e.g., very satisfied, satisfied, neutral, dissatisfied, very dissatisfied) are ordinal data.\n",
    "    \n",
    "    Interval data is numerical data that can be ranked in order and the difference between each rank is equal. For example, temperature in degrees Celsius is interval data.\n",
    "    \n",
    "    Ratio data is numerical data that has a true zero point. For example, height and weight are ratio data.\n"
   ]
  },
  {
   "cell_type": "markdown",
   "id": "ad316fab-ce2c-49b8-b17b-9f59c29300ac",
   "metadata": {},
   "source": [
    "Q5. Explain the concept of levels of measurement and give an example of a variable for each level."
   ]
  },
  {
   "cell_type": "markdown",
   "id": "612de1c0-80d7-42b2-af7d-6e095c4d9d6a",
   "metadata": {},
   "source": [
    "-->\n",
    "The level of measurement of a variable refers to how the data can be used.\n",
    "\n",
    "    Nominal variables: Can only be used to identify and categorize data.\n",
    "    Ordinal variables: Can be used to identify, categorize, and rank data.\n",
    "    Interval variables: Can be used to identify, categorize, rank, and compare data.\n",
    "    Ratio variables: Can be used to identify, categorize, rank, compare, and calculate ratios of data.\n",
    "\n",
    "Examples of variables for each level:\n",
    "\n",
    "    Nominal variable: Eye color\n",
    "    Ordinal variable: Customer satisfaction rating\n",
    "    Interval variable: Temperature in degrees Celsius\n",
    "    Ratio variable: Height\n"
   ]
  },
  {
   "cell_type": "markdown",
   "id": "a43102bd-047f-4f0b-a71a-079e218681d6",
   "metadata": {},
   "source": [
    "Q6. Why is it important to understand the level of measurement when analyzing data? Provide an example to illustrate your answer."
   ]
  },
  {
   "cell_type": "markdown",
   "id": "04a0c052-19c9-463f-8d2c-d9103339ce84",
   "metadata": {},
   "source": [
    "-->\n",
    "t is important to understand the level of measurement of a variable when analyzing data because it determines what statistical tests you can use. For example, you cannot calculate the mean of nominal data, because nominal data does not have a meaningful ranking.\n",
    "\n",
    "Example:\n",
    "\n",
    "Suppose you want to compare the average heights of men and women. Height is a ratio variable, so you can use statistical tests such as the t-test to compare the means of the two groups.\n",
    "\n",
    "However, if you wanted to compare the average customer satisfaction ratings of men and women, you could not use the t-test, because customer satisfaction rating is an ordinal variable."
   ]
  },
  {
   "cell_type": "markdown",
   "id": "e86cdf0d-528a-4830-bc0f-cedfd40de0e9",
   "metadata": {},
   "source": [
    "Q7. How nominal data type is different from ordinal data type."
   ]
  },
  {
   "cell_type": "markdown",
   "id": "12ed801e-3728-477f-b099-0753741ea0b0",
   "metadata": {},
   "source": [
    "--> Nominal data is categorical data that cannot be ranked in any order. Ordinal data is categorical data that can be ranked in order, but the difference between each rank is not necessarily equal.\n",
    "\n",
    "For example, eye color is nominal data. You can categorize people by eye color (e.g., blue, brown, green, etc.), but you cannot rank eye colors in any meaningful way.\n",
    "\n",
    "Customer satisfaction ratings are ordinal data. You can rank customer satisfaction ratings (e.g., very satisfied, satisfied, neutral, dissatisfied, very dissatisfied), but the difference between each rank is not necessarily equal. For example, the difference between \"very satisfied\" and \"satisfied\" may not be the same as the difference between \"dissatisfied\" and \"very dissatisfied.\""
   ]
  },
  {
   "cell_type": "markdown",
   "id": "99491075-6d1a-47a4-819d-3d3e4eda1d4b",
   "metadata": {},
   "source": [
    "Q8. Which type of plot can be used to display data in terms of range?"
   ]
  },
  {
   "cell_type": "markdown",
   "id": "a87b6f2d-3f6f-4e05-b900-42f59e932ae9",
   "metadata": {},
   "source": [
    "--> A boxplot can be used to display data in terms of range. A boxplot shows the median, quartiles, and outliers of a dataset. The range of a dataset is the difference between the largest and smallest values in the dataset."
   ]
  },
  {
   "cell_type": "markdown",
   "id": "858c9a82-6b97-4ea2-8811-5af3b6d337bc",
   "metadata": {},
   "source": [
    "Q9. Describe the difference between descriptive and inferential statistics."
   ]
  },
  {
   "cell_type": "markdown",
   "id": "5eab0d14-a8b1-47d7-b201-df9a6ed68aa1",
   "metadata": {},
   "source": [
    "-->\n",
    "Descriptive statistics is used to summarize and describe data. For example, you might use descriptive statistics to find the average height of students in your class, or the percentage of people who voted in a recent election.\n",
    "\n",
    "Inferential statistics is used to make conclusions about a population based on a sample. For example, you might use inferential statistics to estimate the average height of all adults in the United States, based on a sample of adults.\n",
    "\n",
    "Example of descriptive statistics:\n",
    "\n",
    "Suppose you collect data on the heights of all the students in your class. You can use descriptive statistics to calculate the average height, the median height, and the standard deviation of the heights. This information can be used to describe the overall characteristics of the heights of the students in your class.\n",
    "\n",
    "Example of inferential statistics:\n",
    "\n",
    "Suppose you want to estimate the average height of all adults in the United States. You cannot measure the height of every adult in the United States, so you instead collect data on a sample of adults. You can then use inferential statistics to estimate the average height of all adults in the United States based on the sample data."
   ]
  },
  {
   "cell_type": "markdown",
   "id": "df9f70c3-a803-40cc-8c5a-6d3dd7fcd787",
   "metadata": {},
   "source": [
    "Q10. What are some common measures of central tendency and variability used in statistics? Explain how each measure can be used to describe a dataset."
   ]
  },
  {
   "cell_type": "markdown",
   "id": "9d89eb34-40a9-48b5-8400-717b9e399173",
   "metadata": {},
   "source": [
    "--->\n",
    "Measures of central tendency are used to summarize the central value of a dataset. Some common measures of central tendency include:\n",
    "\n",
    "    Mean: The average of all the values in the dataset.\n",
    "    Median: The middle value in the dataset, when the values are arranged in order from smallest to largest.\n",
    "    Mode: The most frequent value in the dataset.\n",
    "\n",
    "Measures of variability are used to summarize how spread out the values in a dataset are. Some common measures of variability include:\n",
    "\n",
    "    Range: The difference between the largest and smallest values in the dataset.\n",
    "    Standard deviation: A measure of how spread out the values in a dataset are around the mean.\n",
    "\n",
    "How to use measures of central tendency and variability to describe a dataset:\n",
    "\n",
    "Measures of central tendency and variability can be used to describe a dataset in a number of ways. For example, you can use the mean to describe the average value of a variable, such as the average height of students in your class. You can use the median to describe the middle value of a variable, such as the middle height of students in your class. And you can use the mode to describe the most frequent value of a variable, such as the most frequent eye color of students in your class.\n",
    "\n",
    "You can also use measures of variability to describe how spread out the values in a dataset are. For example, you can use the range to describe the range of heights of students in your class. And you can use the standard deviation to describe how spread out the heights of students in your class are around the mean.\n",
    "\n",
    "By using measures of central tendency and variability, you can get a good understanding of the overall characteristics of a dataset."
   ]
  },
  {
   "cell_type": "code",
   "execution_count": null,
   "id": "68915dea-3f6d-4beb-9773-26803cb3a090",
   "metadata": {},
   "outputs": [],
   "source": []
  }
 ],
 "metadata": {
  "kernelspec": {
   "display_name": "Python 3 (ipykernel)",
   "language": "python",
   "name": "python3"
  },
  "language_info": {
   "codemirror_mode": {
    "name": "ipython",
    "version": 3
   },
   "file_extension": ".py",
   "mimetype": "text/x-python",
   "name": "python",
   "nbconvert_exporter": "python",
   "pygments_lexer": "ipython3",
   "version": "3.10.8"
  }
 },
 "nbformat": 4,
 "nbformat_minor": 5
}
