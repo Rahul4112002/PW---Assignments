{
 "cells": [
  {
   "cell_type": "markdown",
   "id": "8316bf72",
   "metadata": {},
   "source": [
    "# Q1: What is the difference between a t-test and a z-test? Provide an example scenario where you would use each type of test."
   ]
  },
  {
   "cell_type": "markdown",
   "id": "cfd5c539",
   "metadata": {},
   "source": [
    "Ans:\n",
    "\n",
    "t-test: Used to compare the means of two independent samples when the population standard deviation is unknown.\n",
    "\n",
    "z-test: Used to compare the means of two independent samples when the population standard deviation is known, or when the sample size is large (n > 30).\n",
    "\n",
    "Example:\n",
    "\n",
    "t-test: A researcher wants to compare the average height of men and women. They collect a sample of 100 men and 100 women and measure their heights. They do not know the population standard deviation for either group, so they use a t-test to compare the means.\n",
    "\n",
    "z-test: A researcher wants to compare the average weight of two groups of students who are taking different diets. They randomly assign students to each diet group and measure their weights at the beginning and end of the study. They know the population standard deviation for weight, so they use a z-test to compare the mean weight loss of the two groups."
   ]
  },
  {
   "cell_type": "markdown",
   "id": "12499c3f",
   "metadata": {},
   "source": [
    "# Q2: Differentiate between one-tailed and two-tailed tests."
   ]
  },
  {
   "cell_type": "markdown",
   "id": "c036a52e",
   "metadata": {},
   "source": [
    "Ans:\n",
    "\n",
    "One-tailed test: Used to test whether the population mean is greater than or less than a specific value.\n",
    "\n",
    "Two-tailed test: Used to test whether the population mean is different from a specific value in either direction (greater than or less than).\n",
    "\n",
    "Example:\n",
    "\n",
    "One-tailed test: A researcher wants to test whether a new drug is effective at reducing cholesterol. They collect a sample of patients and give them the drug for a period of time. They then measure their cholesterol levels again. The researcher hypothesizes that the drug will reduce cholesterol levels, so they use a one-tailed test to test whether the mean cholesterol level after taking the drug is lower than the mean cholesterol level before taking the drug.\n",
    "\n",
    "Two-tailed test: A researcher wants to test whether a new teaching method is effective at improving student test scores. They collect a sample of students and randomly assign them to either the new teaching method or the traditional teaching method. They then measure the students' test scores at the end of the semester. The researcher does not have a specific hypothesis about the direction of the effect, so they use a two-tailed test to test whether the mean test score of the students who received the new teaching method is different from the mean test score of the students who received the traditional teaching method.\n",
    "    "
   ]
  },
  {
   "cell_type": "markdown",
   "id": "7a46661c",
   "metadata": {},
   "source": [
    "# Q3: Explain the concept of Type 1 and Type 2 errors in hypothesis testing. Provide an example scenario for each type of error."
   ]
  },
  {
   "cell_type": "markdown",
   "id": "3b8f8821",
   "metadata": {},
   "source": [
    "Ans:\n",
    "Type 1 error: Rejecting the null hypothesis when it is true.\n",
    "\n",
    "Type 2 error: Failing to reject the null hypothesis when it is false.\n",
    "\n",
    "Example:\n",
    "\n",
    "Type 1 error: A researcher is testing a new drug for cancer treatment. They conduct a clinical trial and find that the drug is effective. However, the drug was not actually effective, and the researcher has made a Type 1 error.\n",
    "\n",
    "Type 2 error: A researcher is testing a new teaching method for elementary school students. They conduct a study and find that the new teaching method is not effective. However, the new teaching method was actually effective, and the researcher has made a Type 2 error."
   ]
  },
  {
   "cell_type": "markdown",
   "id": "c8bdf244",
   "metadata": {},
   "source": [
    "# Q4: Explain Bayes's theorem with an example."
   ]
  },
  {
   "cell_type": "markdown",
   "id": "746f36c9",
   "metadata": {},
   "source": [
    "Ans: \n",
    "\n",
    "Bayes' theorem: A mathematical formula that describes how to update our beliefs about a hypothesis in light of new evidence.\n",
    "\n",
    "Example:\n",
    "\n",
    "A doctor is trying to diagnose a patient's illness. The doctor knows that the patient has a 10% chance of having the illness. The doctor then orders a test, which comes back positive. The doctor knows that the test is 90% accurate, meaning that it has a 90% chance of being positive if the patient has the illness and a 10% chance of being positive if the patient does not have the illness.\n",
    "\n",
    "Using Bayes' theorem, the doctor can calculate the probability that the patient has the illness given the positive test result. This probability is 90%."
   ]
  },
  {
   "cell_type": "markdown",
   "id": "85091bf2",
   "metadata": {},
   "source": [
    "# Q5: What is a confidence interval? How to calculate the confidence interval, explain with an example."
   ]
  },
  {
   "cell_type": "markdown",
   "id": "a55ceb64",
   "metadata": {},
   "source": [
    "Ans:\n",
    "\n",
    "    Confidence interval: A range of values that is likely to contain the true population mean.\n",
    "\n",
    "How to calculate the confidence interval:\n",
    "\n",
    "To calculate a confidence interval, we need to know the following:\n",
    "\n",
    "    The sample mean\n",
    "    The sample standard deviation\n",
    "    The sample size\n",
    "    The desired confidence level\n",
    "\n",
    "Once we have this information, we can use the following formula to calculate the confidence interval:\n",
    "\n",
    "Confidence interval = sample mean +/- (t-score * standard error)\n",
    "\n",
    "The t-score is a value that we can find in a t-score table based on the sample size and the desired confidence level. The standard error is calculated as follows:\n",
    "\n",
    "Standard error = sample standard deviation / sqrt(sample size)\n",
    "\n",
    "Example:\n",
    "\n",
    "We want to calculate a 95% confidence interval for the mean height of men. We collect a sample of 100 men and measure their heights. The sample mean is 175 cm and the sample standard deviation is 5 cm.\n",
    "\n",
    "To calculate the confidence interval, we first need to find the t-score for a 95% confidence level with a sample size of 100. We can find this t-score in a t-score table. The t-score is 1.984.\n",
    "\n",
    "Next, we need to calculate the standard error. The standard error is 5 cm / sqrt(100) = 0.5 cm.\n",
    "\n",
    "Finally, we can calculate the confidence interval:\n",
    "\n",
    "Confidence interval = 175 cm +/- (1.984 * 0.5 cm)\n",
    "\n",
    "Confidence interval = 175 cm +/- 0.99 cm\n",
    "\n",
    "Therefore, we can be 95% confident that the true mean height of men is between 174.01 cm and 175.99 cm.\n"
   ]
  },
  {
   "cell_type": "markdown",
   "id": "85cd2033",
   "metadata": {},
   "source": [
    "# Q6. Use Bayes' Theorem to calculate the probability of an event occurring given prior knowledge of the event's probability and new evidence. Provide a sample problem and solution."
   ]
  },
  {
   "cell_type": "markdown",
   "id": "22f1628e",
   "metadata": {},
   "source": [
    "Ans:\n",
    "    \n",
    "To calculate the probability of an event occurring given prior knowledge of the event's probability and new evidence using Bayes' theorem, we can use the following formula:\n",
    "\n",
    "P(event | evidence) = (P(evidence | event) * P(event)) / P(evidence)\n",
    "\n",
    "Example:\n",
    "\n",
    "A doctor is trying to diagnose a patient's illness. The doctor knows that the patient has a 10% chance of having the illness. The doctor then orders a test, which comes back positive. The doctor knows that the test is 90% accurate, meaning that it has a 90% chance of being positive if the patient has the illness and a 10% chance of being positive if the patient does not have the illness.\n",
    "\n",
    "To calculate the probability that the patient has the illness given the positive test result, we can use Bayes' theorem:\n",
    "\n",
    "P(illness | positive test result) = (P(positive test result | illness) * P(illness)) / P(positive test result)\n",
    "\n",
    "P(illness | positive test result) = (0.90 * 0.10) / 0.20\n",
    "\n",
    "P(illness | positive test result) = 90%\n",
    "\n",
    "Therefore, the probability that the patient has the illness given the positive test result is 90%."
   ]
  },
  {
   "cell_type": "markdown",
   "id": "b4fba743",
   "metadata": {},
   "source": [
    "# Q7. Calculate the 95% confidence interval for a sample of data with a mean of 50 and a standard deviation of 5. Interpret the results."
   ]
  },
  {
   "cell_type": "markdown",
   "id": "4606c211",
   "metadata": {},
   "source": [
    "Ans:\n",
    "To calculate the 95% confidence interval for a sample of data with a mean of 50 and a standard deviation of 5, we can use the following formula:\n",
    "\n",
    "Confidence interval = sample mean +/- (t-score * standard error)\n",
    "\n",
    "The t-score for a 95% confidence level with a sample size of infinity is 1.96. The standard error is calculated as follows:\n",
    "\n",
    "Standard error = sample standard deviation / sqrt(sample size)\n",
    "\n",
    "Standard error = 5 / sqrt(infinity)\n",
    "\n",
    "Standard error = 0\n",
    "\n",
    "Therefore, the 95% confidence interval for the sample of data with a mean of 50 and a standard deviation of 5 is 50 +/- (1.96 * 0) = 50.\n",
    "\n",
    "This means that we can be 95% confident that the true population mean is equal to 50.\n",
    "\n",
    "Interpretation:\n",
    "\n",
    "The confidence interval tells us that we can be 95% confident that the true population mean is between 49.5 and 50.5. This means that if we were to collect a large number of samples from the population, 95% of the samples would have means that fall within this range."
   ]
  },
  {
   "cell_type": "markdown",
   "id": "00aa2411",
   "metadata": {},
   "source": [
    "# Q8. What is the margin of error in a confidence interval? How does sample size affect the margin of error? Provide an example of a scenario where a larger sample size would result in a smaller margin of error.\n"
   ]
  },
  {
   "cell_type": "markdown",
   "id": "b3d31de8",
   "metadata": {},
   "source": [
    "Ans: The margin of error in a confidence interval is the difference between the sample mean and the upper or lower endpoint of the confidence interval. It is a measure of the precision of the confidence interval.\n",
    "\n",
    "The sample size affects the margin of error in the following way: as the sample size increases, the margin of error decreases. This is because a larger sample size provides more information about the population mean.\n",
    "\n",
    "Example:\n",
    "\n",
    "Suppose we want to calculate a 95% confidence interval for the mean height of men. We collect a sample of 100 men and measure their heights. The sample mean is 175 cm and the sample standard deviation is 5 cm.\n",
    "\n",
    "The margin of error for this confidence interval is 175 cm - 174.01 cm = 0.99 cm or 175.99 cm - 175 cm = 0.99 cm.\n",
    "\n",
    "Now, suppose we collect a sample of 1000 men and measure their heights. The sample mean is still 175 cm and the sample standard deviation is still 5 cm.\n",
    "\n",
    "The margin of error for this confidence interval is 175 cm - 174.98 cm = 0.02 cm or 175.02 cm - 175 cm = 0.02 cm.\n",
    "\n",
    "As you can see, the margin of error for the confidence interval with a sample size of 1000 is much smaller than the margin of error for the confidence interval with a sample size of 100. This is because the larger sample size provides more information about the population mean."
   ]
  },
  {
   "cell_type": "markdown",
   "id": "dc9573aa",
   "metadata": {},
   "source": [
    "# Q9. Calculate the z-score for a data point with a value of 75, a population mean of 70, and a population standard deviation of 5. Interpret the results.\n"
   ]
  },
  {
   "cell_type": "markdown",
   "id": "74477c88",
   "metadata": {},
   "source": [
    "Ans: To calculate the z-score for a data point with a value of 75, a population mean of 70, and a population standard deviation of 5, we can use the following formula:\n",
    "\n",
    "z-score = (data point - population mean) / population standard deviation\n",
    "\n",
    "z-score = (75 - 70) / 5\n",
    "\n",
    "z-score = 1\n",
    "\n",
    "Interpretation:\n",
    "\n",
    "The z-score tells us how many standard deviations the data point is away from the population mean. A z-score of 1 means that the data point is 1 standard deviation above the population mean."
   ]
  },
  {
   "cell_type": "markdown",
   "id": "65633f78",
   "metadata": {},
   "source": [
    "# Q10. In a study of the effectiveness of a new weight loss drug, a sample of 50 participants lost an average of 6 pounds with a standard deviation of 2.5 pounds. Conduct a hypothesis test to determine if the drug is significantly effective at a 95% confidence level using a t-test.\n"
   ]
  },
  {
   "cell_type": "markdown",
   "id": "3da31d9e",
   "metadata": {},
   "source": [
    "Ans: To conduct a hypothesis test to determine if the new weight loss drug is significantly effective at a 95% confidence level using a t-test, we can follow these steps:\n",
    "\n",
    "    State the null hypothesis and the alternative hypothesis.\n",
    "    Calculate the t-statistic.\n",
    "    Find the p-value.\n",
    "    Compare the p-value to the significance level.\n",
    "    Make a decision.\n",
    "\n",
    "Null hypothesis: The new weight loss drug is not effective.\n",
    "\n",
    "Alternative hypothesis: The new weight loss drug is effective.\n",
    "\n",
    "T-statistic:\n",
    "\n",
    "t-statistic = (sample mean - population mean) / (standard error)\n",
    "\n",
    "t-statistic = (6 - 0) / (2.5 / sqrt(50))\n",
    "\n",
    "t-statistic = 4.80\n",
    "\n",
    "P-value:\n",
    "\n",
    "We can find the p-value using a t-table. The p-value for a t-statistic of 4.80 with 49 degrees of freedom is less than 0.001.\n",
    "\n",
    "Significance level:\n",
    "\n",
    "The significance level is 0.05.\n",
    "\n",
    "Decision:\n",
    "\n",
    "The p-value is less than the significance level, so we reject the null hypothesis and conclude that the new weight loss drug is significantly effective at a 95% confidence level."
   ]
  },
  {
   "cell_type": "markdown",
   "id": "ad68c0aa",
   "metadata": {},
   "source": [
    "# Q11. In a survey of 500 people, 65% reported being satisfied with their current job. Calculate the 95% confidence interval for the true proportion of people who are satisfied with their job."
   ]
  },
  {
   "cell_type": "markdown",
   "id": "1a34e0dc",
   "metadata": {},
   "source": [
    "Ans:\n",
    "   To calculate the 95% confidence interval for the true proportion of people who are satisfied with their job, we can use the following formula:\n",
    "\n",
    "Confidence interval = proportion +/- (z-score * standard error)\n",
    "\n",
    "The z-score for a 95% confidence level is 1.96. The standard error is calculated as follows:\n",
    "\n",
    "Standard error = sqrt((proportion * (1 - proportion)) / sample size)\n",
    "\n",
    "Standard error = sqrt((0.65 * (1 - 0.65)) / 500)\n",
    "\n",
    "Standard error = 0.03\n",
    "\n",
    "Therefore, the 95% confidence interval for the true proportion of people who are satisfied with their job is 0.65 +/- (1.96 * 0.03) = 0.65 +/- 0.06.\n",
    "\n",
    "This means that we can be 95% confident that the true proportion of people who are satisfied with their job is between 59% and 71%."
   ]
  },
  {
   "cell_type": "markdown",
   "id": "aa969d2b",
   "metadata": {},
   "source": [
    "# Q12. A researcher is testing the effectiveness of two different teaching methods on student performance.Sample A has a mean score of 85 with a standard deviation of 6, while sample B has a mean score of 82 with a standard deviation of 5. Conduct a hypothesis test to determine if the two teaching methods have a significant difference in student performance using a t-test with a significance level of 0.01."
   ]
  },
  {
   "cell_type": "markdown",
   "id": "1ee8473b",
   "metadata": {},
   "source": [
    "Ans: To conduct a hypothesis test to determine if the two teaching methods have a significant difference in student performance using a t-test with a significance level of 0.01, we can follow these steps:\n",
    "\n",
    "    State the null hypothesis and the alternative hypothesis.\n",
    "    Calculate the t-statistic.\n",
    "    Find the p-value.\n",
    "    Compare the p-value to the significance level.\n",
    "    Make a decision.\n",
    "\n",
    "Null hypothesis: There is no significant difference in student performance between the two teaching methods.\n",
    "Alternative hypothesis: There is a significant difference in student performance between the two teaching methods.\n",
    "\n",
    "T-statistic:\n",
    "\n",
    "t-statistic = (sample mean 1 - sample mean 2) / (pooled standard error)\n",
    "\n",
    "The pooled standard error is calculated as follows:\n",
    "\n",
    "Pooled standard error = sqrt(((n1 - 1) * s1^2 + (n2 - 1) * s2^2) / (n1 + n2 - 2))\n",
    "\n",
    "Where:\n",
    "\n",
    "    n1 is the sample size of the first group (sample A)\n",
    "    n2 is the sample size of the second group (sample B)\n",
    "    s1 is the standard deviation of the first group\n",
    "    s2 is the standard deviation of the second group\n",
    "\n",
    "Pooled standard error = sqrt(((100 - 1) * 6^2 + (100 - 1) * 5^2) / (100 + 100 - 2))\n",
    "\n",
    "Pooled standard error = 0.70\n",
    "\n",
    "t-statistic = (85 - 82) / 0.70\n",
    "\n",
    "t-statistic = 4.29\n",
    "\n",
    "P-value:\n",
    "\n",
    "We can find the p-value using a t-table. The p-value for a t-statistic of 4.29 with 198 degrees of freedom is less than 0.001.\n",
    "\n",
    "Significance level:\n",
    "\n",
    "The significance level is 0.01.\n",
    "\n",
    "Decision:\n",
    "\n",
    "The p-value is less than the significance level, so we reject the null hypothesis and conclude that there is a significant difference in student performance between the two teaching methods."
   ]
  },
  {
   "cell_type": "markdown",
   "id": "2e73e8a2",
   "metadata": {},
   "source": [
    "# Q13. A population has a mean of 60 and a standard deviation of 8. A sample of 50 observations has a mean of 65. Calculate the 90% confidence interval for the true population mean."
   ]
  },
  {
   "cell_type": "markdown",
   "id": "9ebf13ec",
   "metadata": {},
   "source": [
    "Ans: \n",
    "To calculate the 90% confidence interval for the true population mean given a sample of 50 observations with a mean of 65 and a standard deviation of 8, we can use the following formula:\n",
    "\n",
    "Confidence interval = sample mean +/- (t-score * standard error)\n",
    "\n",
    "The t-score for a 90% confidence level with a sample size of 49 is 1.676. The standard error is calculated as follows:\n",
    "\n",
    "Standard error = sample standard deviation / sqrt(sample size)\n",
    "\n",
    "Standard error = 8 / sqrt(50)\n",
    "\n",
    "Standard error = 1.13\n",
    "\n",
    "Therefore, the 90% confidence interval for the true population mean is 65 +/- (1.676 * 1.13) = 65 +/- 1.91.\n",
    "\n",
    "This means that we can be 90% confident that the true population mean is between 63.09 and 66.91."
   ]
  },
  {
   "cell_type": "markdown",
   "id": "4514841f",
   "metadata": {},
   "source": [
    "# Q14. In a study of the effects of caffeine on reaction time, a sample of 30 participants had an average reaction time of 0.25 seconds with a standard deviation of 0.05 seconds. Conduct a hypothesis test to determine if the caffeine has a significant effect on reaction time at a 90% confidence level using a t-test."
   ]
  },
  {
   "cell_type": "markdown",
   "id": "8d4715bb",
   "metadata": {},
   "source": [
    "Ans: To conduct a hypothesis test to determine if the caffeine has a significant effect on reaction time at a 90% confidence level using a t-test, we can follow these steps:\n",
    "\n",
    "    State the null hypothesis and the alternative hypothesis.\n",
    "    Calculate the t-statistic.\n",
    "    Find the p-value.\n",
    "    Compare the p-value to the significance level.\n",
    "    Make a decision.\n",
    "\n",
    "Null hypothesis: Caffeine has no significant effect on reaction time.\n",
    "\n",
    "Alternative hypothesis: Caffeine has a significant effect on reaction time.\n",
    "\n",
    "T-statistic:\n",
    "\n",
    "t-statistic = (sample mean - population mean) / (standard error)\n",
    "\n",
    "t-statistic = (0.25 - 0.30) / (0.05 / sqrt(30))\n",
    "\n",
    "t-statistic = -1.00\n",
    "\n",
    "P-value:\n",
    "\n",
    "We can find the p-value using a t-table. The p-value for a t-statistic of -1.00 with 29 degrees of freedom is 0.161.\n",
    "\n",
    "Significance level:\n",
    "\n",
    "The significance level is 0.10.\n",
    "\n",
    "Decision:\n",
    "\n",
    "The p-value is greater than the significance level, so we fail to reject the null hypothesis and conclude that there is not enough evidence to support the claim that caffeine has a significant effect on reaction time at a 90% confidence level.\n"
   ]
  },
  {
   "cell_type": "code",
   "execution_count": null,
   "id": "209cec57",
   "metadata": {},
   "outputs": [],
   "source": []
  }
 ],
 "metadata": {
  "kernelspec": {
   "display_name": "Python 3 (ipykernel)",
   "language": "python",
   "name": "python3"
  },
  "language_info": {
   "codemirror_mode": {
    "name": "ipython",
    "version": 3
   },
   "file_extension": ".py",
   "mimetype": "text/x-python",
   "name": "python",
   "nbconvert_exporter": "python",
   "pygments_lexer": "ipython3",
   "version": "3.10.5"
  }
 },
 "nbformat": 4,
 "nbformat_minor": 5
}
