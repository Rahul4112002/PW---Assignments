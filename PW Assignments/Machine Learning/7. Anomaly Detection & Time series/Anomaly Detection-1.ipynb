{
 "cells": [
  {
   "cell_type": "markdown",
   "id": "2c11c4b9",
   "metadata": {},
   "source": [
    "\n",
    "**Q1. What is anomaly detection and what is its purpose?**\n",
    "\n",
    "* **Anomaly detection** is the process of finding data points or patterns that don't fit the normal or expected behavior.\n",
    "* Its purpose is to identify unusual events or activities that might be important or need attention.\n",
    "* It's like finding the odd ones out in a group.\n",
    "\n",
    "**Q2. What are the key challenges in anomaly detection?**\n",
    "\n",
    "* **Defining \"normal\" behavior:** It can be hard to know exactly what \"normal\" looks like, especially in complex systems.\n",
    "* **Rare anomalies:** Anomalies can be rare and hard to spot, like finding a needle in a haystack.\n",
    "* **Evolving data:** Data can change over time, so what was normal yesterday might not be normal today.\n",
    "* **High-dimensional data:** Data with many features can make it harder to find anomalies.\n",
    "\n",
    "**Q3. How does unsupervised anomaly detection differ from supervised anomaly detection?**\n",
    "\n",
    "* **Unsupervised anomaly detection** doesn't need labeled data (data that says which points are normal and which are anomalies). It learns patterns on its own.\n",
    "* **Supervised anomaly detection** needs labeled data to train a model to recognize anomalies.\n",
    "\n",
    "**Q4. What are the main categories of anomaly detection algorithms?**\n",
    "\n",
    "* **Statistical methods:** These look for data points that fall outside of expected statistical patterns.\n",
    "* **Distance-based methods:** These measure how far away a data point is from its neighbors.\n",
    "* **Density-based methods:** These look for areas where data points are less dense (more spread out).\n",
    "* **Model-based methods:** These build a model of normal behavior and then flag anything that doesn't fit the model.\n",
    "\n",
    "**Q5. What are the main assumptions made by distance-based anomaly detection methods?**\n",
    "\n",
    "* **Distance matters:** They assume that anomalies are far away from other data points.\n",
    "* **Meaningful distance:** They assume the way you measure distance makes sense for the problem.\n",
    "\n",
    "**Q6. How does the LOF algorithm compute anomaly scores?**\n",
    "\n",
    "* **Local outlier factor (LOF):** It looks at how much more isolated a data point is compared to its neighbors.\n",
    "* **Higher scores:** More isolated points get higher scores.\n",
    "\n",
    "**Q7. What are the key parameters of the Isolation Forest algorithm?**\n",
    "\n",
    "* **Number of trees:** More trees can make the algorithm more accurate but slower.\n",
    "* **Subsampling size:** This controls how much data is used to build each tree.\n",
    "\n",
    "**Q8. If a data point has only 2 neighbors of the same class within a radius of 0.5, what is its anomaly score using KNN with K=10?**\n",
    "\n",
    "* **High anomaly score:** 0.8 (8 out of 10 neighbors are far away).\n",
    "\n",
    "**Q9. Using the Isolation Forest algorithm with 100 trees and a dataset of 3000 data points, what is the anomaly score for a data point that has an average path length of 5.0 compared to the average path length of the trees?**\n",
    "\n",
    "* **Anomaly score:** 0.95 (likely an anomaly because it's isolated).\n"
   ]
  },
  {
   "cell_type": "code",
   "execution_count": null,
   "id": "2c7a62f0",
   "metadata": {},
   "outputs": [],
   "source": []
  }
 ],
 "metadata": {
  "kernelspec": {
   "display_name": "Python 3 (ipykernel)",
   "language": "python",
   "name": "python3"
  },
  "language_info": {
   "codemirror_mode": {
    "name": "ipython",
    "version": 3
   },
   "file_extension": ".py",
   "mimetype": "text/x-python",
   "name": "python",
   "nbconvert_exporter": "python",
   "pygments_lexer": "ipython3",
   "version": "3.10.5"
  }
 },
 "nbformat": 4,
 "nbformat_minor": 5
}
