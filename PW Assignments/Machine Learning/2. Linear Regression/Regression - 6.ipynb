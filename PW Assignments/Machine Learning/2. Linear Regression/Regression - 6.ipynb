{
 "cells": [
  {
   "cell_type": "markdown",
   "id": "c2935ac9",
   "metadata": {},
   "source": [
    "**QI. What are the key steps involved in building an end-to-end web application, from development to\n",
    "deployment on the cloud?**\n",
    "-   Requirements gathering and analysis: Understand the business needs and user requirements for the web application.\n",
    "   - Design: Create a high-level design of the web application, including the user interface, database, and backend logic.\n",
    "   - Development: Implement the web application using a programming language and web framework.\n",
    "   - Testing: Test the web application thoroughly to ensure that it meets the requirements and is free of bugs.\n",
    "   - Deployment: Deploy the web application to a cloud hosting provider.\n",
    "   \n",
    "**Q2. Explain the difference between traditional web hosting and cloud hosting.**\n",
    "- The difference between traditional web hosting and cloud hosting is that traditional web hosting is a shared hosting environment, while cloud hosting is a virtualized hosting environment. This means that with traditional web hosting, multiple websites are hosted on the same server, while with cloud hosting, each website is hosted on its own virtual server. Cloud hosting is generally more scalable and reliable than traditional web hosting.\n",
    "\n",
    "**Q3. How do you choose the right cloud provider for your application deployment, and what factors\n",
    "should you consider?**\n",
    "   - Pricing: Compare the pricing of different cloud providers to find the best deal for your needs.\n",
    "   - Features: Consider the features that are important to you, such as the types of storage and compute resources that are available, as well as the security and support features that are offered.\n",
    "   - Scalability: Choose a cloud provider that can scale with your needs as your web application grows.\n",
    "   - Reliability: Choose a cloud provider with a good track record of reliability and uptime.\n",
    "   \n",
    "**Q4. How do you design and build a responsive user interface for your web application, and what are\n",
    "some best practices to follow?**\n",
    "- Flask RESTful: Flask RESTful is a Flask extension that allows you to easily create REST APIs.\n",
    "\n"
   ]
  }
 ],
 "metadata": {
  "kernelspec": {
   "display_name": "Python 3 (ipykernel)",
   "language": "python",
   "name": "python3"
  },
  "language_info": {
   "codemirror_mode": {
    "name": "ipython",
    "version": 3
   },
   "file_extension": ".py",
   "mimetype": "text/x-python",
   "name": "python",
   "nbconvert_exporter": "python",
   "pygments_lexer": "ipython3",
   "version": "3.10.5"
  }
 },
 "nbformat": 4,
 "nbformat_minor": 5
}
