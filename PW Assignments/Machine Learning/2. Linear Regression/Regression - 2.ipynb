{
 "cells": [
  {
   "cell_type": "markdown",
   "id": "8dfad1de",
   "metadata": {},
   "source": [
    "# Q1. Explain the concept of R-squared in linear regression models. How is it calculated, and what does it represent?"
   ]
  },
  {
   "cell_type": "markdown",
   "id": "e84b97f1",
   "metadata": {},
   "source": [
    "- R-squared is a measure of how well a regression model explains the variance in the dependent variable. It is calculated as the proportion of the variance in the dependent variable that is explained by the independent variables. A higher R-squared value indicates a better fit."
   ]
  },
  {
   "cell_type": "markdown",
   "id": "d4fe1e1c",
   "metadata": {},
   "source": [
    "# Q2. Define adjusted R-squared and explain how it differs from the regular R-squared."
   ]
  },
  {
   "cell_type": "markdown",
   "id": "caff5a31",
   "metadata": {},
   "source": [
    "- Adjusted R-squared is a modification of R-squared that takes into account the number of independent variables in the model. It is a more appropriate measure to use when comparing models with different numbers of independent variables."
   ]
  },
  {
   "cell_type": "markdown",
   "id": "b4a40162",
   "metadata": {},
   "source": [
    "# Q3. When is it more appropriate to use adjusted R-squared?"
   ]
  },
  {
   "cell_type": "markdown",
   "id": "e37f31e7",
   "metadata": {},
   "source": [
    "- Adjusted R-squared should be used whenever you are comparing models with different numbers of independent variables. This is because R-squared can artificially increase when more independent variables are added to the model, even if they do not explain any additional variance in the dependent variable."
   ]
  },
  {
   "cell_type": "markdown",
   "id": "5d18bc14",
   "metadata": {},
   "source": [
    "# Q4. What are RMSE, MSE, and MAE in the context of regression analysis? How are these metrics calculated, and what do they represent?"
   ]
  },
  {
   "cell_type": "markdown",
   "id": "3c9b132f",
   "metadata": {},
   "source": [
    "   -  RMSE (Root Mean Squared Error): The square root of the average squared difference between the predicted values and the actual values.\n",
    "   -  MSE (Mean Squared Error): The average squared difference between the predicted values and the actual values.\n",
    "   -  MAE (Mean Absolute Error): The average of the absolute differences between the predicted values and the actual values."
   ]
  },
  {
   "cell_type": "markdown",
   "id": "fe3bf894",
   "metadata": {},
   "source": [
    "# Q5. Discuss the advantages and disadvantages of using RMSE, MSE, and MAE as evaluation metrics in regression analysis."
   ]
  },
  {
   "cell_type": "markdown",
   "id": "0a6d3471",
   "metadata": {},
   "source": [
    "   - RMSE: Sensitive to outliers.\n",
    "   - MSE: Sensitive to outliers.\n",
    "   - MAE: Less sensitive to outliers."
   ]
  },
  {
   "cell_type": "markdown",
   "id": "11403b19",
   "metadata": {},
   "source": [
    "# Q6. Explain the concept of Lasso regularization. How does it differ from Ridge regularization, and when is it more appropriate to use?"
   ]
  },
  {
   "cell_type": "markdown",
   "id": "21419d92",
   "metadata": {},
   "source": [
    "  -  Lasso regularization: Shrinks some of the coefficients to zero, effectively removing them from the model. This can help to prevent overfitting.\n",
    "  -  Ridge regularization: Shrinks all of the coefficients, but does not remove any of them from the model."
   ]
  },
  {
   "cell_type": "markdown",
   "id": "80d01d2a",
   "metadata": {},
   "source": [
    "# Q7. How do regularized linear models help to prevent overfitting in machine learning? Provide an example to illustrate."
   ]
  },
  {
   "cell_type": "markdown",
   "id": "2dfe8e7e",
   "metadata": {},
   "source": [
    "- Regularized linear models help to prevent overfitting by penalizing large coefficients. This makes the model less likely to fit the training data too closely, which can lead to poor performance on new data."
   ]
  },
  {
   "cell_type": "markdown",
   "id": "dae03747",
   "metadata": {},
   "source": [
    "# Q8. Discuss the limitations of regularized linear models and explain why they may not always be the best choice for regression analysis."
   ]
  },
  {
   "cell_type": "markdown",
   "id": "5d712bb9",
   "metadata": {},
   "source": [
    "   - Can introduce bias: Regularization can shrink coefficients to zero, which can remove important information from the model. This can lead to biased predictions.\n",
    "   - Not always the best choice: Regularized linear models may not be the best choice for datasets with a lot of irrelevant or redundant features."
   ]
  },
  {
   "cell_type": "markdown",
   "id": "81e36827",
   "metadata": {},
   "source": [
    "# Q9. You are comparing the performance of two regression models using different evaluation metrics. Model A has an RMSE of 10, while Model B has an MAE of 8. Which model would you choose as the better performer, and why? Are there any limitations to your choice of metric?"
   ]
  },
  {
   "cell_type": "markdown",
   "id": "ac10b23b",
   "metadata": {},
   "source": [
    "- RMSE is more sensitive to outliers than MAE. If there are outliers in the data, then MAE may be a better choice. However, if there are no outliers, then RMSE is a better choice because it is more sensitive to small changes in the predictions."
   ]
  },
  {
   "cell_type": "markdown",
   "id": "b95928e5",
   "metadata": {},
   "source": [
    "# Q10. You are comparing the performance of two regularized linear models using different types of regularization. Model A uses Ridge regularization with a regularization parameter of 0.1, while Model B uses Lasso regularization with a regularization parameter of 0.5. Which model would you choose as the better performer, and why? Are there any trade-offs or limitations to your choice of regularization method?"
   ]
  },
  {
   "cell_type": "markdown",
   "id": "947ef750",
   "metadata": {},
   "source": [
    "- Lasso regularization is more likely to remove irrelevant or redundant features from the model than Ridge regularization. This can make the model more stable and less likely to overfit. However, Lasso regularization can also introduce more bias into the model."
   ]
  },
  {
   "cell_type": "code",
   "execution_count": null,
   "id": "ed5ac08c",
   "metadata": {},
   "outputs": [],
   "source": []
  }
 ],
 "metadata": {
  "kernelspec": {
   "display_name": "Python 3 (ipykernel)",
   "language": "python",
   "name": "python3"
  },
  "language_info": {
   "codemirror_mode": {
    "name": "ipython",
    "version": 3
   },
   "file_extension": ".py",
   "mimetype": "text/x-python",
   "name": "python",
   "nbconvert_exporter": "python",
   "pygments_lexer": "ipython3",
   "version": "3.10.5"
  }
 },
 "nbformat": 4,
 "nbformat_minor": 5
}
