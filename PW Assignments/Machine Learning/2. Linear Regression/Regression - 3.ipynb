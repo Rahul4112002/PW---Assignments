{
 "cells": [
  {
   "cell_type": "markdown",
   "id": "16f9e51b",
   "metadata": {},
   "source": [
    "**QI. What is Ridge Regression, and how does it differ from ordinary least squares regression?**\n",
    "- Ridge regression is a regularized linear regression model that shrinks the coefficients towards zero, reducing overfitting and improving predictive performance.\n",
    "- Differs from ordinary least squares regression by adding a penalty term to the loss function\n",
    "\n",
    "**Q2. What are the assumptions of Ridge Regression?**\n",
    "   - Linearity: The relationship between the dependent and independent variables should be linear.\n",
    "   - Homoscedasticity: The variance of the residuals should be constant.\n",
    "   - Normality: The residuals should be normally distributed.\n",
    "\n",
    "**Q3. How do you select the value of the tuning parameter (lambda) in Ridge Regression?**\n",
    "- To select the value of the tuning parameter (lambda) in ridge regression, you can use a cross-validation technique such as k-fold cross-validation or leave-one-out cross-validation.\n",
    "\n",
    "**Q4. Can Ridge Regression be used for feature selection? If yes, how?**\n",
    "- Yes, ridge regression can be used for feature selection by shrinking the coefficients of irrelevant features towards zero.\n",
    "\n",
    "**Q5. How does the Ridge Regression model perform in the presence of multicollinearity?**\n",
    "- Ridge regression performs well in the presence of multicollinearity because it shrinks the coefficients of correlated features, reducing the impact of multicollinearity on the model's predictions.\n",
    "\n",
    "**Q6. Can Ridge Regression handle both categorical and continuous independent variables?**\n",
    "- Yes, ridge regression can handle both categorical and continuous independent variables. Categorical variables can be converted to dummy variables before fitting the model.\n",
    "\n",
    "**Q7. How do you interpret the coefficients of Ridge Regression?**\n",
    "- The coefficients of ridge regression can be interpreted similarly to the coefficients of ordinary least squares regression, but they should be interpreted with caution as they are biased.\n",
    "\n",
    "**Q8. Can Ridge Regression be used for time-series data analysis? If yes, how?**\n",
    "- Yes, ridge regression can be used for time-series data analysis by modeling the dependent variable as a function of the lagged independent variables."
   ]
  }
 ],
 "metadata": {
  "kernelspec": {
   "display_name": "Python 3 (ipykernel)",
   "language": "python",
   "name": "python3"
  },
  "language_info": {
   "codemirror_mode": {
    "name": "ipython",
    "version": 3
   },
   "file_extension": ".py",
   "mimetype": "text/x-python",
   "name": "python",
   "nbconvert_exporter": "python",
   "pygments_lexer": "ipython3",
   "version": "3.10.5"
  }
 },
 "nbformat": 4,
 "nbformat_minor": 5
}
