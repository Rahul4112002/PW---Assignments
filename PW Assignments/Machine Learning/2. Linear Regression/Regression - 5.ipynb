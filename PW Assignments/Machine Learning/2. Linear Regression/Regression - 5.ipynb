{
 "cells": [
  {
   "cell_type": "markdown",
   "id": "ac651c54",
   "metadata": {},
   "source": [
    "**QI. What is Elastic Net Regression and how does it differ from other regression techniques?**\n",
    "- Elastic Net Regression is a regularized linear regression model that combines the L1 and L2 penalties. It differs from other regression techniques by being able to both shrink coefficients and perform feature selection.\n",
    "\n",
    "**Q2. How do you choose the optimal values of the regularization parameters for Elastic Net Regression?**\n",
    "- The optimal values of the regularization parameters for Elastic Net Regression can be chosen using cross-validation.\n",
    "\n",
    "**Q3. What are the advantages and disadvantages of Elastic Net Regression?**\n",
    "   - It can reduce overfitting.\n",
    "   - It can select important features.\n",
    "   - It is robust to multicollinearity.\n",
    "   - It is computationally efficient.\n",
    "   \n",
    "**Q4. What are some common use cases for Elastic Net Regression?**\n",
    "   - Predicting continuous variables (e.g., house prices, customer churn)\n",
    "   - Classifying data (e.g., email spam or not spam)\n",
    "   - Feature selection (e.g., identifying the most important genes associated with a disease)\n",
    "   \n",
    "**Q5. How do you interpret the coefficients in Elastic Net Regression?**\n",
    "- The coefficients in Elastic Net Regression can be interpreted similarly to the coefficients in other regression models, but they should be interpreted with caution as they are biased.\n",
    "\n",
    "**Q6. How do you handle missing values when using Elastic Net Regression?**\n",
    "- Missing values in Elastic Net Regression can be handled using imputation techniques such as mean imputation or median imputation\n",
    "\n",
    "**Q7. How do you use Elastic Net Regression for feature selection?**\n",
    "- Elastic Net Regression can be used for feature selection by shrinking the coefficients of irrelevant features to zero."
   ]
  },
  {
   "cell_type": "markdown",
   "id": "4ac6c3f6",
   "metadata": {},
   "source": [
    "**Q8. How do you pickle and unpickle a trained Elastic Net Regression model in Python?**"
   ]
  },
  {
   "cell_type": "code",
   "execution_count": null,
   "id": "e7853177",
   "metadata": {},
   "outputs": [],
   "source": [
    "# Pickle the model\n",
    "import pickle\n",
    "\n",
    "with open(\"elastic_net_model.pkl\", \"wb\") as f:\n",
    "    pickle.dump(model, f)\n",
    "\n",
    "# Unpickle the model\n",
    "with open(\"elastic_net_model.pkl\", \"rb\") as f:\n",
    "    model = pickle.load(f)"
   ]
  },
  {
   "cell_type": "markdown",
   "id": "ca5b879c",
   "metadata": {},
   "source": [
    "**Q9. What is the purpose of pickling a model in machine learning?**\n",
    "- The purpose of pickling a model in machine learning is to save the model to a file so that it can be loaded and used later without having to retrain it. This can be useful for deploying models to production or for sharing models with other researchers."
   ]
  }
 ],
 "metadata": {
  "kernelspec": {
   "display_name": "Python 3 (ipykernel)",
   "language": "python",
   "name": "python3"
  },
  "language_info": {
   "codemirror_mode": {
    "name": "ipython",
    "version": 3
   },
   "file_extension": ".py",
   "mimetype": "text/x-python",
   "name": "python",
   "nbconvert_exporter": "python",
   "pygments_lexer": "ipython3",
   "version": "3.10.5"
  }
 },
 "nbformat": 4,
 "nbformat_minor": 5
}
