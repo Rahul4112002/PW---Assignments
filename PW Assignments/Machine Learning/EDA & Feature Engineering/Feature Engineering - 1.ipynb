{
 "cells": [
  {
   "cell_type": "markdown",
   "id": "a1e532de",
   "metadata": {},
   "source": [
    "# Q1. What is the Filter method in feature selection, and how does it work?"
   ]
  },
  {
   "cell_type": "markdown",
   "id": "2b3f4d04",
   "metadata": {},
   "source": [
    "==> 1) The Filter method is a statistical approach to feature selection that evaluates features independently of any machine learning algorithm. \n",
    "    2) It works by calculating a score for each feature based on its correlation with the target variable or other features. Features with high scores are selected, and those with low scores are discarded."
   ]
  },
  {
   "cell_type": "markdown",
   "id": "93f9c90c",
   "metadata": {},
   "source": [
    "# Q2. How does the Wrapper method differ from the Filter method in feature selection?"
   ]
  },
  {
   "cell_type": "markdown",
   "id": "4286d337",
   "metadata": {},
   "source": [
    "==> 1) The Wrapper method is a search-based approach to feature selection that evaluates features by training a machine learning model on different subsets of features and selecting the subset that produces the best performance. \n",
    "    2) Wrapper methods are typically more computationally expensive than Filter methods, but they can lead to better performance."
   ]
  },
  {
   "cell_type": "markdown",
   "id": "48aad28d",
   "metadata": {},
   "source": [
    "# Q3. What are some common techniques used in Embedded feature selection methods?"
   ]
  },
  {
   "cell_type": "markdown",
   "id": "5b9fb506",
   "metadata": {},
   "source": [
    "==> Common techniques used in Embedded feature selection methods include:\n",
    "\n",
    "    Lasso: Lasso is a linear regression algorithm that penalizes large coefficients, which can lead to feature selection.\n",
    "    Ridge: Ridge is another linear regression algorithm that penalizes large coefficients, but to a lesser extent than Lasso.\n",
    "    Decision trees: Decision trees can be used for feature selection by identifying features that are important for splitting the data into different groups.\n"
   ]
  },
  {
   "cell_type": "markdown",
   "id": "9e085523",
   "metadata": {},
   "source": [
    "# Q4. What are some drawbacks of using the Filter method for feature selection?"
   ]
  },
  {
   "cell_type": "markdown",
   "id": "ff65195b",
   "metadata": {},
   "source": [
    "==>  Some drawbacks of using the Filter method for feature selection include:\n",
    "\n",
    "    It can be difficult to choose the right statistical test for evaluating features.\n",
    "    Filter methods can discard features that are important for the machine learning algorithm, but not for the statistical test.\n",
    "    Filter methods cannot take into account the interactions between features.\n"
   ]
  },
  {
   "cell_type": "markdown",
   "id": "749ece32",
   "metadata": {},
   "source": [
    "# Q5. In which situations would you prefer using the Filter method over the Wrapper method for feature selection?"
   ]
  },
  {
   "cell_type": "markdown",
   "id": "b9ebd8cd",
   "metadata": {},
   "source": [
    "==> You would prefer using the Filter method over the Wrapper method for feature selection in the following situations:\n",
    "\n",
    "    1) You have a large dataset and cannot afford the computational cost of the Wrapper method.\n",
    "    2) You are unsure which features to include in the model and want to use a statistical approach to select features.\n",
    "    3) You are concerned about overfitting and want to use a method that is less likely to overfit the data.\n"
   ]
  },
  {
   "cell_type": "markdown",
   "id": "de7dc09f",
   "metadata": {},
   "source": [
    "# Q6. In a telecom company, you are working on a project to develop a predictive model for customer churn. You are unsure of which features to include in the model because the dataset contains several different ones. Describe how you would choose the most pertinent attributes for the model using the Filter Method."
   ]
  },
  {
   "cell_type": "markdown",
   "id": "8aaf68cf",
   "metadata": {},
   "source": [
    "==> To choose the most pertinent attributes for the customer churn model using the Filter Method, I would follow these steps:\n",
    "\n",
    "    1) Calculate the correlation between each feature and the target variable (customer churn).\n",
    "    2) Select the features with the highest correlation with the target variable.\n",
    "    3) Remove any features that are highly correlated with each other.\n"
   ]
  },
  {
   "cell_type": "markdown",
   "id": "ea1edf4e",
   "metadata": {},
   "source": [
    "# Q7. You are working on a project to predict the outcome of a soccer match. You have a large dataset with many features, including player statistics and team rankings. Explain how you would use the Embedded method to select the most relevant features for the model."
   ]
  },
  {
   "cell_type": "markdown",
   "id": "1784c43c",
   "metadata": {},
   "source": [
    "==> To select the most relevant features for the soccer match prediction model using the Embedded method, I would use a decision tree algorithm. Decision trees are able to identify features that are important for splitting the data into different groups.\n",
    "\n",
    "To do this, I would train a decision tree model on the dataset, using the outcome of the soccer match as the target variable. The decision tree algorithm would then identify the features that are most important for predicting the outcome of the match.\n",
    "\n",
    "I would then select the most important features identified by the decision tree algorithm and use them to train a final predictive model."
   ]
  },
  {
   "cell_type": "markdown",
   "id": "151e2794",
   "metadata": {},
   "source": [
    "# Q8. You are working on a project to predict the price of a house based on its features, such as size, location, and age. You have a limited number of features, and you want to ensure that you select the most important ones for the model."
   ]
  },
  {
   "cell_type": "markdown",
   "id": "630a85fb",
   "metadata": {},
   "source": [
    "==> Since I have a limited number of features for the house price prediction model, I would use the Filter Method to select the most important features.\n",
    "\n",
    "To do this, I would calculate the correlation between each feature and the target variable (house price). I would then select the features with the highest correlation with the target variable.\n",
    "\n",
    "I would also remove any features that are highly correlated with each other.\n",
    "\n",
    "By using the Filter Method, I can ensure that I select the most important features for the model, even with a limited number of features."
   ]
  },
  {
   "cell_type": "code",
   "execution_count": null,
   "id": "94dc91b5",
   "metadata": {},
   "outputs": [],
   "source": []
  },
  {
   "cell_type": "code",
   "execution_count": null,
   "id": "a4bb3822",
   "metadata": {},
   "outputs": [],
   "source": []
  }
 ],
 "metadata": {
  "kernelspec": {
   "display_name": "Python 3 (ipykernel)",
   "language": "python",
   "name": "python3"
  },
  "language_info": {
   "codemirror_mode": {
    "name": "ipython",
    "version": 3
   },
   "file_extension": ".py",
   "mimetype": "text/x-python",
   "name": "python",
   "nbconvert_exporter": "python",
   "pygments_lexer": "ipython3",
   "version": "3.10.5"
  }
 },
 "nbformat": 4,
 "nbformat_minor": 5
}
