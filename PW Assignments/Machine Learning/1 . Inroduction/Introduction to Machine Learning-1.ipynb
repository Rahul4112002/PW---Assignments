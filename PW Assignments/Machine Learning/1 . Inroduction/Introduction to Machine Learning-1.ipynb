{
 "cells": [
  {
   "cell_type": "markdown",
   "id": "8d6abd5d",
   "metadata": {},
   "source": [
    "# Q1: Explain the following with an example:\n",
    "1. Artificial Intelligence\n",
    "2. Machine Learning\n",
    "3. Deep Learning"
   ]
  },
  {
   "cell_type": "markdown",
   "id": "376842b5",
   "metadata": {},
   "source": [
    "==>\n",
    "    Artificial Intelligence (AI): AI is the ability of a machine to simulate human intelligence. AI systems are able to learn, reason, and make decisions without human intervention.\n",
    "    Example: A self-driving car is an example of AI. It is able to learn the rules of the road, navigate its environment, and make decisions about how to drive safely without human input.\n",
    "\n",
    "   Machine Learning (ML): ML is a subset of AI that focuses on developing algorithms that can learn from data and improve their performance over time without being explicitly programmed.\n",
    "    Example: A spam filter is an example of ML. It is able to learn to identify spam emails based on a dataset of labeled emails.\n",
    "\n",
    "   Deep Learning (DL): DL is a subset of ML that uses artificial neural networks to learn from data. Neural networks are inspired by the human brain and are able to learn complex patterns from data.\n",
    "    Example: A facial recognition system is an example of DL. It is able to learn to identify faces in images based on a dataset of labeled images.\n"
   ]
  },
  {
   "cell_type": "markdown",
   "id": "c094b371",
   "metadata": {},
   "source": [
    "# Q2: What is supervised learning? List some examples of supervised learning."
   ]
  },
  {
   "cell_type": "markdown",
   "id": "c5ceced4",
   "metadata": {},
   "source": [
    "==> Supervised learning is a type of ML where the algorithm is trained on a set of labeled data. The labeled data consists of input examples and their corresponding outputs. The algorithm learns the relationship between the inputs and outputs and is then able to predict the outputs for new, unseen inputs.\n",
    "                                    OR\n",
    "Supervised learning is when a computer learns from labeled data to make predictions or classifications.\n",
    "\n",
    "Examples of supervised learning:\n",
    "\n",
    "    Image classification: predicting the label of an image (e.g., cat, dog, car)\n",
    "    Spam filtering: predicting whether an email is spam or not\n",
    "    Sentiment analysis: predicting the sentiment of a text (e.g., positive, negative, neutral)\n",
    "    Regression: predicting a continuous value (e.g., the price of a house)\n"
   ]
  },
  {
   "cell_type": "markdown",
   "id": "4f84b3f6",
   "metadata": {},
   "source": [
    "# Q3: What is unsupervised learning? List some examples of unsupervised learning."
   ]
  },
  {
   "cell_type": "markdown",
   "id": "3748041f",
   "metadata": {},
   "source": [
    "==> Unsupervised learning is when a computer learns from unlabeled data to find patterns or group similar data.\n",
    "\n",
    "Examples of unsupervised learning:\n",
    "\n",
    "    Clustering: grouping similar data points together\n",
    "    Anomaly detection: identifying unusual or unexpected data points\n",
    "    Association rule learning: discovering relationships between different items in a dataset\n"
   ]
  },
  {
   "cell_type": "markdown",
   "id": "0ca8edcb",
   "metadata": {},
   "source": [
    "# Q4: What is the difference between AI, ML, DL, and DS?"
   ]
  },
  {
   "cell_type": "markdown",
   "id": "2951593d",
   "metadata": {},
   "source": [
    "==> AI is the ability of a machine to simulate human intelligence.\n",
    "ML is a subset of AI that focuses on developing algorithms that can learn from data and improve their performance over time without being explicitly programmed.\n",
    "DL is a subset of ML that uses artificial neural networks to learn from data.\n",
    "DS is the process of collecting, cleaning, and analyzing data to extract meaningful insights."
   ]
  },
  {
   "cell_type": "markdown",
   "id": "2cedcb17",
   "metadata": {},
   "source": [
    "# Q5: What are the main differences between supervised, unsupervised, and semi-supervised learning?"
   ]
  },
  {
   "cell_type": "markdown",
   "id": "b5d63fe7",
   "metadata": {},
   "source": [
    "==>\n",
    "Supervised learning: The algorithm is trained on a set of labeled data.\n",
    "Unsupervised learning: The algorithm is trained on a set of unlabeled data.\n",
    "Semi-supervised learning: The algorithm is trained on a set of labeled and unlabeled data."
   ]
  },
  {
   "cell_type": "markdown",
   "id": "4ea2bfce",
   "metadata": {},
   "source": [
    "# Q6: What is train, test and validation split? Explain the importance of each term."
   ]
  },
  {
   "cell_type": "markdown",
   "id": "03941d4b",
   "metadata": {},
   "source": [
    "==>\n",
    "Train split: The train split is used to train the machine learning model. The model learns from the data in the train split and builds a model that can predict the outputs for new data.\n",
    "Test split: The test split is used to evaluate the performance of the trained model. The model is given the data in the test split and its predictions are compared to the actual outputs. This helps to measure how well the model will generalize to new data.\n",
    "Validation split: The validation split is used to tune the hyperparameters of the machine learning model. Hyperparameters are parameters that control the training process of the model. The validation split is used to evaluate the performance of the model with different hyperparameter settings. This helps to find the best hyperparameter settings for the model.\n",
    "\n",
    "                                                    OR\n",
    "Train, test, and validation split is dividing data into three parts for ML model training, testing, and tuning. Training teaches the model, testing checks its performance, and validation helps fine-tune it."
   ]
  },
  {
   "cell_type": "markdown",
   "id": "50ec8129",
   "metadata": {},
   "source": [
    "# Q7: How can unsupervised learning be used in anomaly detection?"
   ]
  },
  {
   "cell_type": "markdown",
   "id": "296459fd",
   "metadata": {},
   "source": [
    "==> Unsupervised learning can find anomalies by identifying data points that don't fit well within discovered patterns or clusters. For example, detecting fraudulent transactions in a dataset of financial transactions."
   ]
  },
  {
   "cell_type": "markdown",
   "id": "0f8ad212",
   "metadata": {},
   "source": [
    "# Q8: List down some commonly used supervised learning algorithms and unsupervised learning algorithms."
   ]
  },
  {
   "cell_type": "markdown",
   "id": "10601e88",
   "metadata": {},
   "source": [
    "==> \n",
    "Supervised learning algorithms:\n",
    "\n",
    "    Linear regression\n",
    "    Logistic regression\n",
    "    Support vector machines\n",
    "    Decision trees\n",
    "    Random forests\n",
    "\n",
    "Unsupervised learning algorithms:\n",
    "\n",
    "    K-means clustering\n",
    "    Hierarchical clustering\n",
    "    Principal component analysis\n",
    "    Anomaly detection algorithms\n"
   ]
  }
 ],
 "metadata": {
  "kernelspec": {
   "display_name": "Python 3 (ipykernel)",
   "language": "python",
   "name": "python3"
  },
  "language_info": {
   "codemirror_mode": {
    "name": "ipython",
    "version": 3
   },
   "file_extension": ".py",
   "mimetype": "text/x-python",
   "name": "python",
   "nbconvert_exporter": "python",
   "pygments_lexer": "ipython3",
   "version": "3.10.5"
  }
 },
 "nbformat": 4,
 "nbformat_minor": 5
}
