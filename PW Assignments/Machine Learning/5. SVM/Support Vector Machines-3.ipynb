{
 "cells": [
  {
   "cell_type": "markdown",
   "id": "9fc7e7c7",
   "metadata": {},
   "source": [
    "**QI. In order to predict house price based on several characteristics, such as location, square footage, number of bedrooms, etc., you are developing an SVM regression model. Which regression metric in this situation would be the best to employ?**\n",
    "\n",
    "Mean Squared Error (MSE) would be the best regression metric to employ in this situation. This is because MSE is sensitive to outliers and therefore will not be as affected by the presence of outliers as other metrics, such as R-squared.\n",
    "\n",
    "**Q2. You have built an SVM regression model and are trying to decide between using MSE or R-squared as your evaluation metric. Which metric would be more appropriate if your goal is to predict the actual price of a house as accurately as possible?**\n",
    "\n",
    "MSE would be the more appropriate metric to use in this situation. This is because MSE is a measure of the difference between the predicted and actual values of the target variable, while R-squared is a measure of the proportion of the variance in the target variable that is predictable from the independent variables. In other words, MSE is more concerned with how accurate the predictions are, while R-squared is more concerned with how well the model explains the relationship between the independent and dependent variables.\n",
    "\n",
    "**Q3. You have a dataset with a significant number of outliers and are trying to select an appropriate regression metric to use with your SVM model. Which metric would be the most appropriate in this scenario?**\n",
    "\n",
    "Median Absolute Error (MAE) would be the most appropriate metric to use in this scenario. This is because MAE is less sensitive to outliers than MSE or R-squared. MAE measures the median of the absolute differences between the predicted and actual values of the target variable. This means that it is not affected by outliers as much as MSE, which is based on the squared differences between the predicted and actual values.\n",
    "\n",
    "**Q4. You have built an SVM regression model using a polynomial kernel and are trying to select the best metric to evaluate its performance. You have calculated both MSE and RMSE and found that both values are very close. Which metric should you choose to use in this case?**\n",
    "\n",
    "RMSE would be the more appropriate metric to use in this case. This is because RMSE is a measure of the square root of the mean squared error, which means that it is more sensitive to larger errors. In other words, RMSE will give more weight to larger errors, which is important when evaluating the performance of a model that uses a polynomial kernel.\n",
    "\n",
    "**Q5. You are comparing the performance of different SVM regression models using different kernels (linear, polynomial, and RBF) and are trying to select the best evaluation metric. Which metric would be most appropriate if your goal is to measure how well the model explains the variance in the target variable?**\n",
    "\n",
    "R-squared would be the most appropriate metric to use in this situation. This is because R-squared measures the proportion of the variance in the target variable that is predictable from the independent variables. In other words, R-squared tells you how much of the variation in the target variable can be explained by the model."
   ]
  },
  {
   "cell_type": "code",
   "execution_count": null,
   "id": "b2706159",
   "metadata": {},
   "outputs": [],
   "source": []
  }
 ],
 "metadata": {
  "kernelspec": {
   "display_name": "Python 3 (ipykernel)",
   "language": "python",
   "name": "python3"
  },
  "language_info": {
   "codemirror_mode": {
    "name": "ipython",
    "version": 3
   },
   "file_extension": ".py",
   "mimetype": "text/x-python",
   "name": "python",
   "nbconvert_exporter": "python",
   "pygments_lexer": "ipython3",
   "version": "3.10.5"
  }
 },
 "nbformat": 4,
 "nbformat_minor": 5
}
