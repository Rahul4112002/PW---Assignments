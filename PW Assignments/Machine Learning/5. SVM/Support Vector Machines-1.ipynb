{
 "cells": [
  {
   "cell_type": "markdown",
   "id": "08de0059",
   "metadata": {},
   "source": [
    "**QI. What is the mathematical formula for a linear SVM?**\n",
    "\n",
    "A linear SVM finds a hyperplane that maximizes the margin between the positive and negative examples. The formula for the hyperplane is w'x + b = 0, where w is the weight vector, x is the input vector, and b is the bias.\n",
    "\n",
    "**Q2. What is the objective function of a linear SVM?**\n",
    "\n",
    "The objective function of a linear SVM is to minimize the sum of the squared hinge losses of the training examples. The hinge loss of an example is 0 if the example is correctly classified and max(0, 1 - y(w'x + b)) otherwise, where y is the true label of the example.\n",
    "\n",
    "**Q3. What is the kernel trick in SVM?**\n",
    "\n",
    "The kernel trick is a technique that allows SVMs to be used for nonlinear classification problems. The kernel trick maps the input vectors into a higher-dimensional feature space, where the data can be separated by a linear hyperplane.\n",
    "\n",
    "**Q4. What is the role of support vectors in SVM Explain with example**\n",
    "\n",
    "Support vectors are the training examples that lie closest to the hyperplane. They are the most important examples for determining the hyperplane and are the only examples that affect the objective function of the SVM.\n",
    "\n",
    "For example, in the case of a binary classification problem with two features, the support vectors would be the points that lie on the decision boundary between the two classes.\n",
    "\n",
    "**Q5. Illustrate with examples and graphs of Hyperplane, Marginal plane, Soft margin and Hard margin in SVM?**\n",
    "\n",
    "* **Hyperplane:** A hyperplane is a decision boundary that separates the data into two classes. In the case of a linear SVM, the hyperplane is a line or a plane.\n",
    "\n",
    "* **Marginal plane:** The marginal planes are the two parallel planes that are closest to the hyperplane and contain no training examples. The margin is the distance between the two marginal planes.\n",
    "\n",
    "* **Soft margin:** A soft margin is used to allow for some training examples to fall on the wrong side of the hyperplane. This is done by adding a regularization term to the objective function.\n",
    "\n",
    "* **Hard margin:** A hard margin is used to force all training examples to fall on the correct side of the hyperplane. This is done by setting the regularization term to 0.\n",
    "\n",
    "**Q6. SVM Implementation through Iris dataset.**\n"
   ]
  },
  {
   "cell_type": "code",
   "execution_count": 1,
   "id": "37a22fd7",
   "metadata": {},
   "outputs": [
    {
     "name": "stdout",
     "output_type": "stream",
     "text": [
      "Accuracy: 0.9666666666666667\n"
     ]
    }
   ],
   "source": [
    "from sklearn.datasets import load_iris\n",
    "from sklearn.model_selection import train_test_split\n",
    "from sklearn.svm import SVC\n",
    "\n",
    "# Load the iris dataset\n",
    "iris = load_iris()\n",
    "\n",
    "# Split the data into a training set and a testing set\n",
    "X = iris.data\n",
    "y = iris.target\n",
    "X_train, X_test, y_train, y_test = train_test_split(X, y, test_size=0.2)\n",
    "\n",
    "# Train a linear SVM classifier\n",
    "clf = SVC(kernel='linear')\n",
    "clf.fit(X_train, y_train)\n",
    "\n",
    "# Predict the labels for the testing set\n",
    "y_pred = clf.predict(X_test)\n",
    "\n",
    "# Compute the accuracy of the model on the testing set\n",
    "accuracy = clf.score(X_test, y_test)\n",
    "print('Accuracy:', accuracy)\n"
   ]
  },
  {
   "cell_type": "code",
   "execution_count": null,
   "id": "86886c9e",
   "metadata": {},
   "outputs": [],
   "source": []
  }
 ],
 "metadata": {
  "kernelspec": {
   "display_name": "Python 3 (ipykernel)",
   "language": "python",
   "name": "python3"
  },
  "language_info": {
   "codemirror_mode": {
    "name": "ipython",
    "version": 3
   },
   "file_extension": ".py",
   "mimetype": "text/x-python",
   "name": "python",
   "nbconvert_exporter": "python",
   "pygments_lexer": "ipython3",
   "version": "3.10.5"
  }
 },
 "nbformat": 4,
 "nbformat_minor": 5
}
