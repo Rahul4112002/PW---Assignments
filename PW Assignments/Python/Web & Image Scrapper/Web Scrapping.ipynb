{
 "cells": [
  {
   "cell_type": "markdown",
   "metadata": {},
   "source": [
    "# Q1. What is Web Scraping? Why is it Used? Give three areas where Web Scraping is used to get data."
   ]
  },
  {
   "cell_type": "markdown",
   "metadata": {},
   "source": [
    "Web Scraping is like a virtual assistant that collects specific information from websites, saving you time and effort from manual copy-pasting. It's like a robot that can read and gather data for you.\n",
    "\n",
    "Used for:\n",
    "- Gathering data that isn't easily available through other means (like APIs)\n",
    "- Creating datasets for research, analysis, or business intelligence\n",
    "- Building applications that rely on real-time web data\n",
    "\n",
    "Three areas where it's used:\n",
    "- Price Comparison: Comparing prices across different online stores to find the best deals (like price tracking apps)\n",
    "- Job Listings: Collecting job postings from multiple websites to create a comprehensive job board\n",
    "- News Aggregation: Gathering news articles from various sources to create a news aggregator app"
   ]
  },
  {
   "cell_type": "markdown",
   "metadata": {},
   "source": [
    "# Q2. What are the different methods used for Web Scraping?"
   ]
  },
  {
   "cell_type": "markdown",
   "metadata": {},
   "source": [
    "- HTML Parsing: Analyzing the HTML structure of a webpage to extract data elements (like using libraries like Beautiful Soup)\n",
    "- Regular Expressions: Using patterns to match and extract specific text snippets\n",
    "- APIs: If a website provides an API, it's often a preferred method for structured data access (like Twitter's API)"
   ]
  },
  {
   "cell_type": "markdown",
   "metadata": {},
   "source": [
    "# Q3. What is Beautiful Soup? Why is it used?"
   ]
  },
  {
   "cell_type": "markdown",
   "metadata": {},
   "source": [
    "Beautiful Soup is a Python library that makes it easy to navigate and parse HTML and XML documents. It's like a translator that helps you understand and extract data from the messy language of web pages.\n",
    "\n",
    "Used for:\n",
    "- Cleaning up messy HTML code\n",
    "- Finding specific elements within a page (like product prices, article headlines, etc.)\n",
    "- Extracting text and data in a structured format"
   ]
  },
  {
   "cell_type": "markdown",
   "metadata": {},
   "source": [
    "# Q4. Why is Flask used in this Web Scraping project?"
   ]
  },
  {
   "cell_type": "markdown",
   "metadata": {},
   "source": [
    "Flask is a lightweight Python web framework used to create web applications. It's like a toolkit for building websites quickly and easily.\n",
    "\n",
    "Used in this project for:\n",
    "- Creating a user interface to interact with the web scraper (like submitting search terms or displaying results)\n",
    "- Structuring the web scraping logic and handling user requests"
   ]
  },
  {
   "cell_type": "markdown",
   "metadata": {},
   "source": [
    "# Q5. Write the names of AWS services used in this project. Also, explain the use of each service."
   ]
  },
  {
   "cell_type": "markdown",
   "metadata": {},
   "source": [
    "- EC2 (Elastic Compute Cloud): Running the web scraping scripts and Flask application on virtual servers.\n",
    "Scaling up or down computing resources as needed based on scraping workload.\n",
    "- S3 (Simple Storage Service): Storing scraped data (product reviews, ratings, etc.) in a scalable and durable object storage.\n",
    "Facilitating data analysis or integration with other applications.\n"
   ]
  },
  {
   "cell_type": "code",
   "execution_count": null,
   "metadata": {},
   "outputs": [],
   "source": []
  }
 ],
 "metadata": {
  "kernelspec": {
   "display_name": "Python 3",
   "language": "python",
   "name": "python3"
  },
  "language_info": {
   "codemirror_mode": {
    "name": "ipython",
    "version": 3
   },
   "file_extension": ".py",
   "mimetype": "text/x-python",
   "name": "python",
   "nbconvert_exporter": "python",
   "pygments_lexer": "ipython3",
   "version": "3.7.1"
  }
 },
 "nbformat": 4,
 "nbformat_minor": 2
}
