{
 "cells": [
  {
   "cell_type": "markdown",
   "metadata": {},
   "source": [
    "\n",
    "## Q1. What is multithreading in Python, and why is it used?Module used to handle threads in Python?\n",
    "\n",
    "Multithreading allows a program to execute multiple threads concurrently within a single process. It's used for:\n",
    "- Improving responsiveness: Handling multiple tasks simultaneously, making applications more responsive.\n",
    "- Efficient resource utilization: Keeping CPU busy while waiting for I/O operations.\n",
    "- Parallelizing tasks: Breaking down tasks into smaller, independent units to execute them concurrently.\n",
    " The module used for managing threads in Python is: threading"
   ]
  },
  {
   "cell_type": "markdown",
   "metadata": {},
   "source": [
    "# Q2. Why threading module used? rite the use of the following functions\n",
    " - 1 - activeCount\n",
    " - 2 - currentThread\n",
    " - 3 - enumerate"
   ]
  },
  {
   "cell_type": "markdown",
   "metadata": {},
   "source": [
    "The threading module is used to create and manage threads in Python for the following reasons:\n",
    "\n",
    "- Thread creation: It provides the Thread class to define and start new threads within your program.\n",
    "- Thread management: It offers functions to control thread execution, such as starting, stopping, joining, and checking thread status.\n",
    "- Synchronization: It includes tools like locks and events to coordinate thread access to shared resources, preventing race conditions.\n",
    "\n",
    "Here are the uses of the specified functions:\n",
    "\n",
    "- activeCount(): Returns the number of currently active threads in the program. This helps you understand how many threads are running at any given time.\n",
    "- currentThread(): Returns the current thread object, representing the thread that's executing the code. This is useful for identifying the thread you're working within and accessing its specific attributes or methods.\n",
    "- enumerate(): Returns an enumerate object that allows you to iterate over all active threads in the program. You can use it to get information about each thread, such as its name and state."
   ]
  },
  {
   "cell_type": "markdown",
   "metadata": {},
   "source": [
    "# Q4. Explanation of run(), start(), join(), and isAlive()"
   ]
  },
  {
   "cell_type": "markdown",
   "metadata": {},
   "source": [
    " - run(): Contains the code executed by the thread.\n",
    " - start(): Starts the thread's execution.\n",
    " - join(): Waits for the thread to finish.\n",
    " - isAlive(): Checks if the thread is still running."
   ]
  },
  {
   "cell_type": "markdown",
   "metadata": {},
   "source": [
    "# Q5. Python program to create two threads (squares and cubes):"
   ]
  },
  {
   "cell_type": "code",
   "execution_count": 1,
   "metadata": {},
   "outputs": [
    {
     "name": "stdout",
     "output_type": "stream",
     "text": [
      "Square of 1 is 1\n",
      "Square of 2 is 4\n",
      "Square of 3 is 9\n",
      "Square of 4 is 16\n",
      "Square of 5 is 25\n",
      "Cube of 1 is 1\n",
      "Cube of 2 is 8\n",
      "Cube of 3 is 27\n",
      "Cube of 4 is 64\n",
      "Cube of 5 is 125\n",
      "All threads finished!\n"
     ]
    }
   ],
   "source": [
    "import threading\n",
    "\n",
    "def print_squares(n):\n",
    "    for i in range(1, n+1):\n",
    "        print(f\"Square of {i} is {i*i}\")\n",
    "\n",
    "def print_cubes(n):\n",
    "    for i in range(1, n+1):\n",
    "        print(f\"Cube of {i} is {i*i*i}\")\n",
    "\n",
    "# Create threads\n",
    "thread1 = threading.Thread(target=print_squares, args=(5,))\n",
    "thread2 = threading.Thread(target=print_cubes, args=(5,))\n",
    "\n",
    "# Start threads\n",
    "thread1.start()\n",
    "thread2.start()\n",
    "\n",
    "# Wait for threads to finish\n",
    "thread1.join()\n",
    "thread2.join()\n",
    "\n",
    "print(\"All threads finished!\")\n"
   ]
  },
  {
   "cell_type": "markdown",
   "metadata": {},
   "source": [
    "# Q6. Advantages and disadvantages of multithreading"
   ]
  },
  {
   "cell_type": "markdown",
   "metadata": {},
   "source": [
    "Advantages:\n",
    " - Increased responsiveness\n",
    " - Efficient resource utilization\n",
    " - Improved performance for I/O-bound tasks\n",
    "\n",
    "Disadvantages:\n",
    " - Increased complexity\n",
    " - Potential for race conditions and deadlocks\n",
    " - Overhead of thread management"
   ]
  },
  {
   "cell_type": "markdown",
   "metadata": {},
   "source": [
    "# Q7. Deadlocks and race conditions"
   ]
  },
  {
   "cell_type": "code",
   "execution_count": null,
   "metadata": {},
   "outputs": [],
   "source": []
  }
 ],
 "metadata": {
  "kernelspec": {
   "display_name": "Python 3",
   "language": "python",
   "name": "python3"
  },
  "language_info": {
   "codemirror_mode": {
    "name": "ipython",
    "version": 3
   },
   "file_extension": ".py",
   "mimetype": "text/x-python",
   "name": "python",
   "nbconvert_exporter": "python",
   "pygments_lexer": "ipython3",
   "version": "3.7.1"
  }
 },
 "nbformat": 4,
 "nbformat_minor": 2
}
