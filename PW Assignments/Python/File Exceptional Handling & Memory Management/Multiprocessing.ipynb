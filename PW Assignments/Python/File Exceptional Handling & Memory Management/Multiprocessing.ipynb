{
 "cells": [
  {
   "cell_type": "markdown",
   "metadata": {},
   "source": [
    "# Q1. What is multiprocessing in Python? Why is it useful?"
   ]
  },
  {
   "cell_type": "markdown",
   "metadata": {},
   "source": [
    "Multiprocessing allows you to run multiple tasks simultaneously within a Python program, each using a separate CPU core. It's like having multiple workers to complete jobs faster.\n",
    "Useful for:\n",
    "- Speeding up CPU-intensive tasks (like calculations, data processing, simulations)\n",
    "- Taking advantage of multi-core processors\n",
    "- Running tasks that might block each other if run in a single thread"
   ]
  },
  {
   "cell_type": "markdown",
   "metadata": {},
   "source": [
    "# Q2. What are the differences between multiprocessing and multithreading?"
   ]
  },
  {
   "cell_type": "markdown",
   "metadata": {},
   "source": [
    "Multiprocessing creates separate processes with their own memory spaces.\n",
    "- Pros: Better for CPU-bound tasks, avoids Global Interpreter Lock (GIL)\n",
    "- Cons: More overhead for communication and memory usage\n",
    "\n",
    "Multithreading creates multiple threads within a single process, sharing memory.\n",
    "- Pros: Good for I/O-bound tasks (like network requests, file access), less overhead\n",
    "- Cons: Limited by GIL for CPU-bound tasks"
   ]
  },
  {
   "cell_type": "markdown",
   "metadata": {},
   "source": [
    "# Q3. Write a Python code to create a process using the multiprocessing module."
   ]
  },
  {
   "cell_type": "code",
   "execution_count": 1,
   "metadata": {},
   "outputs": [],
   "source": [
    "import multiprocessing\n",
    "\n",
    "def my_function(num):\n",
    "    print(\"Process\", num)\n",
    "\n",
    "if __name__ == \"__main__\":\n",
    "    process = multiprocessing.Process(target=my_function, args=(1,))\n",
    "    process.start()\n",
    "    process.join()  # Wait for the process to finish\n"
   ]
  },
  {
   "cell_type": "markdown",
   "metadata": {},
   "source": [
    "# Q4. What is a multiprocessing pool in Python? Why is it used?"
   ]
  },
  {
   "cell_type": "markdown",
   "metadata": {},
   "source": [
    "A multiprocessing pool manages a group of worker processes for efficient task execution.\n",
    "\n",
    "Useful for:\n",
    "- Distributing tasks across multiple cores for faster processing\n",
    "- Handling large numbers of tasks efficiently"
   ]
  },
  {
   "cell_type": "markdown",
   "metadata": {},
   "source": [
    "# Q5. How can we create a pool of worker processes in Python using the multiprocessing module?"
   ]
  },
  {
   "cell_type": "code",
   "execution_count": null,
   "metadata": {},
   "outputs": [],
   "source": [
    "import multiprocessing\n",
    "\n",
    "def my_task(data):\n",
    "    # Process the data\n",
    "    pass\n",
    "\n",
    "if __name__ == \"__main__\":\n",
    "    with multiprocessing.Pool() as pool:  # Use all available cores by default\n",
    "        results = pool.map(my_task, data_list)"
   ]
  },
  {
   "cell_type": "markdown",
   "metadata": {},
   "source": [
    "# Q6. Write a Python program to create 4 processes, each process should print a different number using the multiprocessing module in Python."
   ]
  },
  {
   "cell_type": "code",
   "execution_count": 3,
   "metadata": {},
   "outputs": [],
   "source": [
    "import multiprocessing\n",
    "\n",
    "def print_number(num):\n",
    "    print(\"Process\", num, \"says:\", num)\n",
    "\n",
    "if __name__ == \"__main__\":\n",
    "    processes = []\n",
    "    for i in range(4):\n",
    "        process = multiprocessing.Process(target=print_number, args=(i,))\n",
    "        processes.append(process)\n",
    "        process.start()\n",
    "\n",
    "    for process in processes:\n",
    "        process.join()  # Wait for all processes to finish\n"
   ]
  },
  {
   "cell_type": "code",
   "execution_count": null,
   "metadata": {},
   "outputs": [],
   "source": []
  }
 ],
 "metadata": {
  "kernelspec": {
   "display_name": "Python 3",
   "language": "python",
   "name": "python3"
  },
  "language_info": {
   "codemirror_mode": {
    "name": "ipython",
    "version": 3
   },
   "file_extension": ".py",
   "mimetype": "text/x-python",
   "name": "python",
   "nbconvert_exporter": "python",
   "pygments_lexer": "ipython3",
   "version": "3.7.1"
  }
 },
 "nbformat": 4,
 "nbformat_minor": 2
}
