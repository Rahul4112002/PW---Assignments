{
 "cells": [
  {
   "cell_type": "markdown",
   "id": "17e84d6f",
   "metadata": {},
   "source": [
    "# Q1. What is Abstraction in OOps? Explain with an example."
   ]
  },
  {
   "cell_type": "markdown",
   "id": "ac06c2be",
   "metadata": {},
   "source": [
    "===> Abstraction in OOPs means hiding complex details and showing only the necessary parts. For example, a car dashboard abstracts the internal engine workings, displaying only speed and fuel information."
   ]
  },
  {
   "cell_type": "markdown",
   "id": "d6618f0c",
   "metadata": {},
   "source": [
    "# Q2. Differentiate between Abstraction and Encapsulation. Explain with an example.\n"
   ]
  },
  {
   "cell_type": "markdown",
   "id": "c2cc1b99",
   "metadata": {},
   "source": [
    "===> Abstraction and encapsulation are two related concepts in OOps. Abstraction is the process of hiding unnecessary details, while encapsulation is the process of bundling together an object's data and behavior.\n",
    "\n",
    "Abstraction is about exposing only the essential features of an object, while encapsulation is about protecting the object's internal state from outside interference.\n",
    "\n",
    "Example: A bank account is a good example of abstraction and encapsulation. We can deposit and withdraw money from our account, but we don't need to know how the bank stores and manages our money. The bank account is an abstraction of a financial instrument, and the bank's internal systems are encapsulated within the account object."
   ]
  },
  {
   "cell_type": "markdown",
   "id": "6722f67b",
   "metadata": {},
   "source": [
    "# Q3. What is abc module in python? Why is it used?\n"
   ]
  },
  {
   "cell_type": "markdown",
   "id": "411f6c41",
   "metadata": {},
   "source": [
    "===> The abc module in Python provides support for abstract classes and abstract methods. Abstract classes and methods are used to define a template for other classes to inherit from. They allow us to specify the general behavior of a class without having to implement all of the details.\n",
    "\n",
    "Why is it used?\n",
    "\n",
    "The abc module is used to create abstract base classes (ABCs). ABCs are used to define a common interface for a group of related classes. They can be used to enforce certain constraints on subclasses, and to provide default implementations for some methods."
   ]
  },
  {
   "cell_type": "markdown",
   "id": "02f2d819",
   "metadata": {},
   "source": [
    "# Q4. How can we achieve data abstraction?\n"
   ]
  },
  {
   "cell_type": "markdown",
   "id": "3888b841",
   "metadata": {},
   "source": [
    "==> There are two main ways to achieve data abstraction in OOps:\n",
    "\n",
    "    Abstract classes: Abstract classes are classes that cannot be instantiated directly. They must be subclassed and the subclasses must implement all of the abstract methods. Abstract classes can be used to define a common interface for a group of related classes.\n",
    "    Interfaces: Interfaces are similar to abstract classes, but they cannot contain any concrete methods. Interfaces are used to define a common set of methods that must be implemented by any class that implements the interface.\n",
    "\n",
    "Example:"
   ]
  },
  {
   "cell_type": "code",
   "execution_count": 1,
   "id": "602d8ce7",
   "metadata": {},
   "outputs": [
    {
     "name": "stdout",
     "output_type": "stream",
     "text": [
      "Woof!\n",
      "Meow!\n"
     ]
    }
   ],
   "source": [
    "from abc import ABC, abstractmethod\n",
    "\n",
    "class Animal(ABC):\n",
    "    @abstractmethod\n",
    "    def make_sound(self):\n",
    "        pass\n",
    "\n",
    "class Dog(Animal):\n",
    "    def make_sound(self):\n",
    "        print('Woof!')\n",
    "\n",
    "class Cat(Animal):\n",
    "    def make_sound(self):\n",
    "        print('Meow!')\n",
    "\n",
    "# Create a list of animals\n",
    "animals = [Dog(), Cat()]\n",
    "\n",
    "# Iterate over the list and call the make_sound() method on each animal\n",
    "for animal in animals:\n",
    "    animal.make_sound()\n"
   ]
  },
  {
   "cell_type": "markdown",
   "id": "851e3e05",
   "metadata": {},
   "source": [
    "In this example, we use an abstract class called Animal to define a common interface for Dog and Cat objects. The Animal class has one abstract method called make_sound(). Both Dog and Cat classes implement the make_sound() method with their own specific behavior.\n",
    "\n",
    "We can then use the Animal class to create a list of animals. When we iterate over the list and call the make_sound() method on each animal, the correct make_sound() method will be called depending on the type of animal."
   ]
  },
  {
   "cell_type": "markdown",
   "id": "0c5b0e77",
   "metadata": {},
   "source": [
    "# Q5. Can we create an instance of an abstract class? Explain your answer."
   ]
  },
  {
   "cell_type": "markdown",
   "id": "ad3cd7d0",
   "metadata": {},
   "source": [
    "==> No, we cannot create an instance of an abstract class. Abstract classes are meant to be used as templates for other classes to inherit from. They cannot be instantiated directly.\n",
    "\n",
    "The reason we cannot create an instance of an abstract class is because abstract classes may contain abstract methods. Abstract methods are methods that do not have an implementation. They must be implemented by the subclasses.\n",
    "\n",
    "If we were to try to create an instance of an abstract class, we would get an error because the abstract methods would not be implemente"
   ]
  }
 ],
 "metadata": {
  "kernelspec": {
   "display_name": "Python 3 (ipykernel)",
   "language": "python",
   "name": "python3"
  },
  "language_info": {
   "codemirror_mode": {
    "name": "ipython",
    "version": 3
   },
   "file_extension": ".py",
   "mimetype": "text/x-python",
   "name": "python",
   "nbconvert_exporter": "python",
   "pygments_lexer": "ipython3",
   "version": "3.10.5"
  }
 },
 "nbformat": 4,
 "nbformat_minor": 5
}
