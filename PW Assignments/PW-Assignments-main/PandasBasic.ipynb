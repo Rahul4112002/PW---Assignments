{
 "cells": [
  {
   "cell_type": "markdown",
   "id": "749e6c39-4f7c-45be-b14b-40d1fab9a211",
   "metadata": {},
   "source": [
    "Q1.Create a Pandas Series that contains the following data: 4, 8, 15, 16, 23, and 42. Then, print the series."
   ]
  },
  {
   "cell_type": "code",
   "execution_count": null,
   "id": "ec553c7f-460b-4c30-bd62-843d2e367c2f",
   "metadata": {},
   "outputs": [],
   "source": [
    "import pandas as pd\n",
    "data = [4,8,15,16,23,42]\n",
    "series = pd.Series(data)\n",
    "print(series)\n",
    "type(series)"
   ]
  },
  {
   "cell_type": "markdown",
   "id": "aed7a1b3-95d8-40a2-b9a9-0d4691946461",
   "metadata": {},
   "source": [
    "Q2. Create a variable of list type containing 10 elements in it, and apply pandas.Series function on the\n",
    "variable print it."
   ]
  },
  {
   "cell_type": "code",
   "execution_count": null,
   "id": "1d7e5cb1-a46f-4838-bc5d-cb5f5ac4cd0d",
   "metadata": {},
   "outputs": [],
   "source": [
    "variable = [1,2,3,4,5,6,7,8,9,10]\n",
    "series = pd.Series(variable)\n",
    "print(series)"
   ]
  },
  {
   "cell_type": "markdown",
   "id": "a2d5e4d1-6584-4b65-8fde-7fdc99780bc8",
   "metadata": {},
   "source": [
    "Q3. Create a Pandas DataFrame that contains the following data:"
   ]
  },
  {
   "cell_type": "code",
   "execution_count": null,
   "id": "e3e89b46-53a0-4ddd-868f-7394016551f1",
   "metadata": {},
   "outputs": [],
   "source": [
    "data = {'Name' : ['Alice', 'Bob' , 'Calire' ] , 'Age' : [25,30,27] , 'Gender' : ['Female' , 'Male' , 'Female']}\n",
    "dataframe = pd.DataFrame(data)\n",
    "print(dataframe)"
   ]
  },
  {
   "cell_type": "markdown",
   "id": "50a96b48-7628-45fd-9bba-80ee60c4a1ec",
   "metadata": {},
   "source": [
    "Q4. What is ‘DataFrame’ in pandas and how is it different from pandas.series? Explain with an example."
   ]
  },
  {
   "cell_type": "markdown",
   "id": "fc21d3c2-ce0e-43d5-8f66-5827777f1f60",
   "metadata": {},
   "source": [
    "-->\n",
    "1.  A DataFrame in pandas is a two-dimensional labeled tabular data structure with rows and columns.\n",
    "2.  A Series in pandas is a one-dimensional labeled array of data. It is similar to a DataFrame, but it only has one column.\n",
    "3.  The main difference between a DataFrame and a Series is that a DataFrame has two dimensions, while a Series only has one dimension. This means  that a DataFrame can store multiple columns of data, while a Series can only store one column of data."
   ]
  },
  {
   "cell_type": "code",
   "execution_count": null,
   "id": "0d28fc03-9fe3-42e6-93ea-6b1c61239ae5",
   "metadata": {},
   "outputs": [],
   "source": [
    "import pandas as pd\n",
    "data = [4,8,15,16,23,42]\n",
    "series = pd.Series(data)\n",
    "print(series)\n",
    "type(series)"
   ]
  },
  {
   "cell_type": "code",
   "execution_count": null,
   "id": "1e847957-f63d-4d52-b17b-3213b38a2157",
   "metadata": {},
   "outputs": [],
   "source": [
    "data = {'Name' : ['Alice', 'Bob' , 'Calire' ,'Rahul' ,'Umesh' , 'Kunal ' ,'Dev' , 'Krishna '] , 'Age' : [25,30,27,20,22,23,26] , 'Gender' : ['Female' , 'Male' , 'Female' ,, 'Male' , 'Male' , 'Male' , 'Male' , 'Male'   ]}\n",
    "dataframe = pd.DataFrame(data)\n",
    "print(dataframe)"
   ]
  },
  {
   "cell_type": "markdown",
   "id": "4e37c8f0-e8c9-47ea-a5b7-faeb4b8e8446",
   "metadata": {},
   "source": [
    "Q5. What are some common functions you can use to manipulate data in a Pandas DataFrame? Can\n",
    "you give an example of when you might use one of these functions?"
   ]
  },
  {
   "cell_type": "code",
   "execution_count": null,
   "id": "08a9b3a0-5edd-441d-8c1b-cc56e642c7ac",
   "metadata": {},
   "outputs": [],
   "source": [
    "data1 = {'Name' : ['Alice', 'Bob' , 'Calire' ,'Rahul' ,'Umesh' , 'Kunal ' ,'Dev' , 'Krishna '] , 'Age' : [25,30,27,20,22,23,26,15] , 'Gender' : ['Female' , 'Male' , 'Female' , 'Male' , 'Male' , 'Male' , 'Male' , 'Male'   ]}\n",
    "dataframe1 = pd.DataFrame(data1)\n",
    "print(dataframe1)"
   ]
  },
  {
   "cell_type": "code",
   "execution_count": null,
   "id": "1f8d2550-f371-4630-a776-b4df97be22e8",
   "metadata": {},
   "outputs": [],
   "source": [
    "dataframe1.head()"
   ]
  },
  {
   "cell_type": "code",
   "execution_count": null,
   "id": "e2180a4b-ff23-490a-91b4-a2278862d18f",
   "metadata": {},
   "outputs": [],
   "source": [
    "dataframe1.tail()"
   ]
  },
  {
   "cell_type": "code",
   "execution_count": null,
   "id": "b7f115c1-a3fe-4b03-a71c-5c92fb9a0b20",
   "metadata": {},
   "outputs": [],
   "source": [
    "dataframe1.describe()"
   ]
  },
  {
   "cell_type": "markdown",
   "id": "56101478-1a81-4946-b19c-9e7c192be157",
   "metadata": {},
   "source": [
    "Q6. Which of the following is mutable in nature Series, DataFrame, Panel?"
   ]
  },
  {
   "cell_type": "markdown",
   "id": "6e7b27a1-9fd2-4821-b75e-cf354ae7d104",
   "metadata": {},
   "source": [
    "--> All Pandas data structures are value mutable (can be changed) except Series. Series is size immutable."
   ]
  },
  {
   "cell_type": "markdown",
   "id": "fc104b06-ecd7-465e-8a76-3344a0a15c91",
   "metadata": {},
   "source": [
    "Q7. Create a DataFrame using multiple Series. Explain with an example."
   ]
  },
  {
   "cell_type": "code",
   "execution_count": null,
   "id": "c2649a11-470c-4094-b3fc-a78411389a9b",
   "metadata": {},
   "outputs": [],
   "source": [
    "import pandas as pd\n",
    "\n",
    "s1 = pd.Series([1, 2, 3], name='A')\n",
    "s2 = pd.Series([4, 5, 6], name='B')\n",
    "s3 = pd.Series([7, 8, 9], name='C')\n",
    "\n",
    "df = pd.DataFrame([s1, s2, s3])\n",
    "\n",
    "print(df)"
   ]
  },
  {
   "cell_type": "code",
   "execution_count": null,
   "id": "edcc30b7-e102-49ce-9579-49ee25e95e21",
   "metadata": {},
   "outputs": [],
   "source": []
  }
 ],
 "metadata": {
  "kernelspec": {
   "display_name": "Python 3 (ipykernel)",
   "language": "python",
   "name": "python3"
  },
  "language_info": {
   "codemirror_mode": {
    "name": "ipython",
    "version": 3
   },
   "file_extension": ".py",
   "mimetype": "text/x-python",
   "name": "python",
   "nbconvert_exporter": "python",
   "pygments_lexer": "ipython3",
   "version": "3.10.8"
  }
 },
 "nbformat": 4,
 "nbformat_minor": 5
}
