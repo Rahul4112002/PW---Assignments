{
 "cells": [
  {
   "cell_type": "markdown",
   "id": "b8f5a310-19a1-4ff9-955e-64672d44ef0b",
   "metadata": {},
   "source": [
    "Q1. How do you comment code in Python? What are the different types of comments?"
   ]
  },
  {
   "cell_type": "markdown",
   "id": "022bc134-747a-4fe4-a002-270bf65daf3f",
   "metadata": {},
   "source": [
    "-->  Single-line comments: These comments start with a hash (#) symbol and continue to the end of the line.\n",
    "     Multi-line comments: These comments are enclosed in triple quotes (\"\"\" or '''). \n"
   ]
  },
  {
   "cell_type": "markdown",
   "id": "187fb75e-9122-4a5f-a713-06d6f11b839a",
   "metadata": {},
   "source": [
    "Q2. What are variables in Python? How do you declare and assign values to variables?"
   ]
  },
  {
   "cell_type": "markdown",
   "id": "2034662e-b51d-48a7-867b-5aa58c84e482",
   "metadata": {},
   "source": [
    "--> A Variable is a named location in memory that stores a value. Variables are used to store data that can be used later in the program.\n",
    "To declare a variable in Python, you simply give it a name and assign it a value."
   ]
  },
  {
   "cell_type": "code",
   "execution_count": 1,
   "id": "8adae078-db84-42df-9411-2a1cd4b1b864",
   "metadata": {},
   "outputs": [],
   "source": [
    "name = \"Rahul\"\n",
    "age = 20\n",
    "height = 1.6"
   ]
  },
  {
   "cell_type": "markdown",
   "id": "477bec8c-c5a7-41ae-ab0b-3429cfdf3ebb",
   "metadata": {},
   "source": [
    "Q3. How do you convert one data type to another in Python?"
   ]
  },
  {
   "cell_type": "markdown",
   "id": "675efce3-32d3-4c31-a558-78cfb1f06d7f",
   "metadata": {},
   "source": [
    "--> int(): Converts a string or a floating-point number to an integer.\n",
    "float(): Converts a string or an integer to a floating-point number.\n",
    "str(): Converts an integer, a floating-point number, or a complex number to a string.\n",
    "list(): Converts a string, a tuple, or a range to a list.\n",
    "tuple(): Converts a list or a string to a tuple"
   ]
  },
  {
   "cell_type": "code",
   "execution_count": 2,
   "id": "52f9009f-cbbc-4af6-93a8-4b0a2bf8e6b5",
   "metadata": {},
   "outputs": [
    {
     "name": "stdout",
     "output_type": "stream",
     "text": [
      "<class 'str'>\n",
      "<class 'int'>\n"
     ]
    }
   ],
   "source": [
    "string = \"123\"\n",
    "print(type(string))\n",
    "integer = int(string)\n",
    "print(type(integer))\n"
   ]
  },
  {
   "cell_type": "markdown",
   "id": "40aada23-32d4-429c-981c-17fde932fbb5",
   "metadata": {},
   "source": [
    "Q4. How do you write and execute a Python script from the command line?"
   ]
  },
  {
   "cell_type": "markdown",
   "id": "8503776e-9082-4df1-93fe-174673729568",
   "metadata": {},
   "source": [
    "\n",
    "   --> python script_name.py\n",
    "       python hello.py\n",
    "       # This is a Python script that prints \"Hello, world!\"\n",
    "\n",
    "        print(\"Hello, world!\")\n",
    "        python hello.py\n",
    "        This would execute the Python script and print \"Hello, world!\" to the console.\n"
   ]
  },
  {
   "cell_type": "markdown",
   "id": "6f3a90e4-8cd5-4c66-8c7c-34549652fbe4",
   "metadata": {},
   "source": [
    "Q5. Given a list my_list = [1, 2, 3, 4, 5], write the code to slice the list and obtain the sub-list [2, 3]."
   ]
  },
  {
   "cell_type": "code",
   "execution_count": 4,
   "id": "de01c22e-3fd6-4436-a010-35fcdd408f83",
   "metadata": {},
   "outputs": [
    {
     "data": {
      "text/plain": [
       "[2, 3]"
      ]
     },
     "execution_count": 4,
     "metadata": {},
     "output_type": "execute_result"
    }
   ],
   "source": [
    "my_list = [1, 2, 3, 4, 5]\n",
    "my_list[1:3]"
   ]
  },
  {
   "cell_type": "markdown",
   "id": "db372fcd-701a-4691-9858-227be2e046fb",
   "metadata": {},
   "source": [
    "Q6. What is a complex number in mathematics, and how is it represented in Python?"
   ]
  },
  {
   "cell_type": "markdown",
   "id": "4b99de77-72f7-4e70-aa17-b32f98c4a846",
   "metadata": {},
   "source": [
    "--> Complex number is combination of Real number and Imaginary Number"
   ]
  },
  {
   "cell_type": "code",
   "execution_count": 9,
   "id": "176a0097-d4d6-4ad2-be45-dd339798eeb0",
   "metadata": {},
   "outputs": [
    {
     "name": "stdout",
     "output_type": "stream",
     "text": [
      "<class 'complex'>\n",
      "Real number :  9.0\n",
      "Imaginary number : 5.0\n"
     ]
    }
   ],
   "source": [
    "complex_no = 9 + 5j\n",
    "print(type(complex_no))\n",
    "print(\"Real number : \", complex_no.real)\n",
    "print(\"Imaginary number :\" ,complex_no.imag)"
   ]
  },
  {
   "cell_type": "markdown",
   "id": "7045df68-1edc-4f0f-a183-19da11db81c6",
   "metadata": {},
   "source": [
    "Q7. What is the correct way to declare a variable named age and assign the value 25 to it?"
   ]
  },
  {
   "cell_type": "code",
   "execution_count": 10,
   "id": "1ef953fb-ab7a-4493-9482-c18fab2ee39a",
   "metadata": {},
   "outputs": [
    {
     "name": "stdout",
     "output_type": "stream",
     "text": [
      "25\n"
     ]
    }
   ],
   "source": [
    "age = 25\n",
    "print(age)"
   ]
  },
  {
   "cell_type": "markdown",
   "id": "daf4e4f3-b392-4b9d-a1dd-d14004df553d",
   "metadata": {},
   "source": [
    "Q8. Declare a variable named price and assign the value 9.99 to it. What data type does this variable\n",
    "belong to?"
   ]
  },
  {
   "cell_type": "code",
   "execution_count": 11,
   "id": "ec86f127-8845-4016-9e09-5e2cfa3958fc",
   "metadata": {},
   "outputs": [
    {
     "name": "stdout",
     "output_type": "stream",
     "text": [
      "9.99\n",
      "<class 'float'>\n"
     ]
    }
   ],
   "source": [
    "price = 9.99\n",
    "print(price)\n",
    "print(type(price))"
   ]
  },
  {
   "cell_type": "markdown",
   "id": "78fd33d7-dc33-4693-b4c3-d10b44457699",
   "metadata": {},
   "source": [
    "Q9. Create a variable named name and assign your full name to it as a string. How would you print the\n",
    "value of this variable?"
   ]
  },
  {
   "cell_type": "code",
   "execution_count": 12,
   "id": "bda1296b-0c9b-4a99-8f69-dd66a362309e",
   "metadata": {},
   "outputs": [
    {
     "name": "stdout",
     "output_type": "stream",
     "text": [
      "Rahul Chauhan\n"
     ]
    }
   ],
   "source": [
    "name = \"Rahul Chauhan\"\n",
    "print(name)"
   ]
  },
  {
   "cell_type": "markdown",
   "id": "d9e995eb-ca1d-4de0-ac53-52777037545f",
   "metadata": {},
   "source": [
    "Q10. Given the string \"Hello, World!\", extract the substring \"World\"."
   ]
  },
  {
   "cell_type": "code",
   "execution_count": 16,
   "id": "85069e4e-12c1-48ab-afbb-63de191f6e75",
   "metadata": {},
   "outputs": [
    {
     "data": {
      "text/plain": [
       "'World'"
      ]
     },
     "execution_count": 16,
     "metadata": {},
     "output_type": "execute_result"
    }
   ],
   "source": [
    "string = \"Hello World!\"\n",
    "string[6:-1]"
   ]
  },
  {
   "cell_type": "markdown",
   "id": "79213c5a-6a3a-49fa-92fd-025cee9c7c2d",
   "metadata": {},
   "source": [
    "Q11. Create a variable named \"is_student\" and assign it a boolean value indicating whether you are\n",
    "currently a student or not."
   ]
  },
  {
   "cell_type": "code",
   "execution_count": null,
   "id": "99f14495-30ad-4c21-8d6a-bd2d9541ace4",
   "metadata": {},
   "outputs": [],
   "source": [
    "is_student = True"
   ]
  }
 ],
 "metadata": {
  "kernelspec": {
   "display_name": "Python 3 (ipykernel)",
   "language": "python",
   "name": "python3"
  },
  "language_info": {
   "codemirror_mode": {
    "name": "ipython",
    "version": 3
   },
   "file_extension": ".py",
   "mimetype": "text/x-python",
   "name": "python",
   "nbconvert_exporter": "python",
   "pygments_lexer": "ipython3",
   "version": "3.10.8"
  }
 },
 "nbformat": 4,
 "nbformat_minor": 5
}
