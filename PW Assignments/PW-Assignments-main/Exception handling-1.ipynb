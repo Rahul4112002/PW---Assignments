{
 "cells": [
  {
   "cell_type": "markdown",
   "id": "25324a04",
   "metadata": {},
   "source": [
    "# Q1. Exception and Syntax error in Python"
   ]
  },
  {
   "cell_type": "markdown",
   "id": "f76d3e92",
   "metadata": {},
   "source": [
    "An exception is an error that occurs during the execution of a Python program. It can be caused by a variety of factors, such as a bad input value, a network error, or a file not found error.\n",
    "\n",
    "A syntax error is a mistake in the code itself, such as a missing colon or a misspelled keyword. Syntax errors are detected by the Python interpreter before the code is even executed.\n",
    "\n",
    "Differences between exceptions and syntax errors:\n",
    "\n",
    "    Exceptions:\n",
    "       - Can occur during the execution of the program.\n",
    "       - Can be caused by a variety of factors, including bad input values, network errors, and files not found.\n",
    "       - Can be handled by the program using the try and except statements.\n",
    "    Syntax errors:\n",
    "        - Are detected by the Python interpreter before the code is even executed.\n",
    "        - Are caused by mistakes in the code itself, such as missing colons or misspelled keywords.\n",
    "        - Cannot be handled by the program.\n"
   ]
  },
  {
   "cell_type": "markdown",
   "id": "10d90b57",
   "metadata": {},
   "source": [
    "# Q2. What happens when an exception is not handled?"
   ]
  },
  {
   "cell_type": "markdown",
   "id": "bd3e6a8c",
   "metadata": {},
   "source": [
    "If an exception is not handled, the program will crash and print a traceback to the console. The traceback shows the stack of function calls that led to the exception."
   ]
  },
  {
   "cell_type": "markdown",
   "id": "be9cb449",
   "metadata": {},
   "source": [
    "# Q3. Python statements to catch and handle exceptions"
   ]
  },
  {
   "cell_type": "markdown",
   "id": "c823eaa7",
   "metadata": {},
   "source": [
    "The try and except statements are used to catch and handle exceptions in Python. The try statement identifies a block of code that may raise an exception. The except statement identifies the type of exception that the program should handle and the code that the program should execute if the exception is raised."
   ]
  },
  {
   "cell_type": "code",
   "execution_count": 3,
   "id": "a7e15f85",
   "metadata": {},
   "outputs": [
    {
     "name": "stdout",
     "output_type": "stream",
     "text": [
      "It is a Zero Division Error division by zero\n"
     ]
    }
   ],
   "source": [
    "def divide_by_zero(a,b):\n",
    "    try :\n",
    "        return a/b\n",
    "    except ZeroDivisionError as e:\n",
    "        print(\"It is a Zero Division Error\" , e)\n",
    "\n",
    "divide_by_zero(10,0)"
   ]
  },
  {
   "cell_type": "markdown",
   "id": "7afeadb7",
   "metadata": {},
   "source": [
    "# Q4. Explanation of try and else, finally, and raise with examples:"
   ]
  },
  {
   "cell_type": "markdown",
   "id": "58004276",
   "metadata": {},
   "source": [
    "Try and Else :"
   ]
  },
  {
   "cell_type": "code",
   "execution_count": 10,
   "id": "9ee79765",
   "metadata": {},
   "outputs": [
    {
     "name": "stdout",
     "output_type": "stream",
     "text": [
      "1.0\n"
     ]
    }
   ],
   "source": [
    "def divide_by_zero(a, b):\n",
    "    try:\n",
    "        return a / b\n",
    "    except ZeroDivisionError:\n",
    "        print(\"Cannot divide by zero.\")\n",
    "    else:\n",
    "        print(\"The result is:\", result)\n",
    "\n",
    "result = divide_by_zero(10, 10)\n",
    "\n",
    "print(result)\n"
   ]
  },
  {
   "cell_type": "markdown",
   "id": "cbabee3b",
   "metadata": {},
   "source": [
    "finally:"
   ]
  },
  {
   "cell_type": "code",
   "execution_count": 11,
   "id": "bf32b2d1",
   "metadata": {},
   "outputs": [
    {
     "name": "stdout",
     "output_type": "stream",
     "text": [
      "Cannot divide by zero.\n",
      "This code will always be executed.\n",
      "None\n"
     ]
    }
   ],
   "source": [
    "def divide_by_zero(a, b):\n",
    "    try:\n",
    "        return a / b\n",
    "    except ZeroDivisionError:\n",
    "        print(\"Cannot divide by zero.\")\n",
    "    finally:\n",
    "        print(\"This code will always be executed.\")\n",
    "\n",
    "# Divide by zero\n",
    "result = divide_by_zero(10, 0)\n",
    "\n",
    "# The finally block will be executed here\n",
    "print(result)\n"
   ]
  },
  {
   "cell_type": "markdown",
   "id": "a3ab1dee",
   "metadata": {},
   "source": [
    "raise:"
   ]
  },
  {
   "cell_type": "code",
   "execution_count": 13,
   "id": "a0bbae38",
   "metadata": {},
   "outputs": [],
   "source": [
    "def divide_by_zero(a, b):\n",
    "    if b == 0:\n",
    "        raise ZeroDivisionError(\"Cannot divide by\")\n",
    "divide_by_zero(5, 0)"
   ]
  },
  {
   "cell_type": "markdown",
   "id": "ee1c3fe4",
   "metadata": {},
   "source": [
    "# Q5. What are Custom Exceptions in python? Why do we need Custom Exceptions? Explain with an example."
   ]
  },
  {
   "cell_type": "markdown",
   "id": "4338a59e",
   "metadata": {},
   "source": [
    "- Custom exceptions are exceptions that we define ourselves. They are useful for handling specific errors that are not covered by the built-in exceptions.\n",
    "\n",
    "- For example, we could define a custom exception called InvalidUserInputException to handle errors that occur when the user enters invalid input."
   ]
  },
  {
   "cell_type": "code",
   "execution_count": 15,
   "id": "c4333ae0",
   "metadata": {},
   "outputs": [],
   "source": [
    "class InvalidUserInputException(Exception):\n",
    "      pass\n",
    "\n",
    "# Raise a custom exception\n",
    "raise InvalidUserInputException(\"Invalid input.\")\n"
   ]
  },
  {
   "cell_type": "markdown",
   "id": "c0c0688e",
   "metadata": {},
   "source": [
    "# Q6. Create a custom exception class. Use this class to handle an exception."
   ]
  },
  {
   "cell_type": "code",
   "execution_count": 20,
   "id": "35eea55b",
   "metadata": {},
   "outputs": [
    {
     "name": "stdout",
     "output_type": "stream",
     "text": [
      "The date is valid.\n"
     ]
    }
   ],
   "source": [
    "import datetime\n",
    "class InvalidDateFormatException(Exception):\n",
    "    pass\n",
    "\n",
    "def validate_date(date):\n",
    "    try:\n",
    "        datetime.datetime.strptime(date, \"%Y-%m-%d\")\n",
    "    except ValueError:\n",
    "        raise InvalidDateFormatException(\"Invalid date format.\")\n",
    "\n",
    "# Validate the date\n",
    "date = \"2023-10-11\"\n",
    "validate_date(date)\n",
    "\n",
    "# The program will not crash here\n",
    "print(\"The date is valid.\")\n"
   ]
  },
  {
   "cell_type": "code",
   "execution_count": null,
   "id": "afd48560",
   "metadata": {},
   "outputs": [],
   "source": []
  }
 ],
 "metadata": {
  "kernelspec": {
   "display_name": "Python 3 (ipykernel)",
   "language": "python",
   "name": "python3"
  },
  "language_info": {
   "codemirror_mode": {
    "name": "ipython",
    "version": 3
   },
   "file_extension": ".py",
   "mimetype": "text/x-python",
   "name": "python",
   "nbconvert_exporter": "python",
   "pygments_lexer": "ipython3",
   "version": "3.10.5"
  }
 },
 "nbformat": 4,
 "nbformat_minor": 5
}
