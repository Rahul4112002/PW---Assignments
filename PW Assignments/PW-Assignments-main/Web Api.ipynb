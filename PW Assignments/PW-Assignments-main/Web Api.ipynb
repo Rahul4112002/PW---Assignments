{
 "cells": [
  {
   "cell_type": "markdown",
   "id": "915e8d31",
   "metadata": {},
   "source": [
    "# Q1. What is an API? Give an example, where an API is used in real life."
   ]
  },
  {
   "cell_type": "markdown",
   "id": "93b11957",
   "metadata": {},
   "source": [
    "- An API (Application Programming Interface) is a set of rules and specifications that define how software components should interact with each other. APIs allow developers to build applications that can communicate with each other and share data.\n",
    "- For example, the Google Maps API allows developers to embed maps in their own applications. The Twitter API allows developers to build applications that can post tweets and retrieve user information.\n",
    "- Real-life example of API:\n",
    "\n",
    "    - When you use a weather app on your phone, the app uses an API to retrieve weather data from a weather service.\n",
    "    - When you book a flight online, the website uses an API to communicate with the airline's reservation system.\n",
    "    - When you use a social media app, the app uses an API to post updates and retrieve your friends' updates.\n"
   ]
  },
  {
   "cell_type": "markdown",
   "id": "1c8fe2fd",
   "metadata": {},
   "source": [
    "# Q2. Give advantages and disadvantages of using API."
   ]
  },
  {
   "cell_type": "markdown",
   "id": "a8b240a2",
   "metadata": {},
   "source": [
    "- Advantages of using APIs:\n",
    "\n",
    "    - Reduced development time: APIs can save developers time by providing them with pre-built functionality that they can use in their own applications.\n",
    "    - Improved scalability: APIs can help applications scale by allowing them to access data and resources from other servers.\n",
    "    - Increased flexibility: APIs can make applications more flexible by allowing them to be easily integrated with other applications and services.\n",
    "\n",
    "- Disadvantages of using APIs:\n",
    "\n",
    "    - Increased complexity: APIs can add complexity to applications, especially if they are not well-designed.\n",
    "    - Security risks: APIs can introduce security risks if they are not properly implemented.\n",
    "    - Reliance on third-party services: APIs can make applications reliant on third-party services, which can lead to problems if the services are unavailable or change their APIs.\n"
   ]
  },
  {
   "cell_type": "markdown",
   "id": "1d76c6d9",
   "metadata": {},
   "source": [
    "# Q3. What is a Web API? Differentiate between API and Web API."
   ]
  },
  {
   "cell_type": "markdown",
   "id": "6040cac3",
   "metadata": {},
   "source": [
    "- A Web API is an API that is exposed over the web. Web APIs are typically accessed using HTTP requests and responses.\n",
    "\n",
    "- The main difference between an API and a Web API is that a Web API can be accessed by any application over the web, while an API can only be accessed by applications that are running on the same server or local network."
   ]
  },
  {
   "cell_type": "markdown",
   "id": "e6943c79",
   "metadata": {},
   "source": [
    "# Q4. Explain REST and SOAP Architecture. Mention shortcomings of SOAP."
   ]
  },
  {
   "cell_type": "markdown",
   "id": "1d53ba85",
   "metadata": {},
   "source": [
    "- REST (Representational State Transfer) is a lightweight architectural style for designing web APIs. REST APIs are based on the following principles:\n",
    "\n",
    "    - Resources: REST APIs expose resources, which are data objects that can be created, read, updated, and deleted.\n",
    "    - Representations: REST APIs represent resources using standard data formats, such as XML and JSON.\n",
    "    - HTTP methods: REST APIs use standard HTTP methods, such as GET, POST, PUT, and DELETE, to perform operations on resources.\n",
    "\n",
    "- SOAP (Simple Object Access Protocol) is a heavyweight XML-based protocol for designing web APIs. SOAP APIs are typically more complex to develop and consume than REST APIs.\n",
    "\n",
    "- Shortcomings of SOAP:\n",
    "\n",
    "    - Complexity: SOAP APIs are typically more complex to develop and consume than REST APIs.\n",
    "    - Verbosity: SOAP messages are typically more verbose than REST messages.\n",
    "    - Performance: SOAP APIs can be slower than REST APIs.\n"
   ]
  },
  {
   "cell_type": "markdown",
   "id": "ebfdb171",
   "metadata": {},
   "source": [
    "# Q5. Differentiate between REST and SOAP."
   ]
  },
  {
   "cell_type": "markdown",
   "id": "f4c51fc9",
   "metadata": {},
   "source": [
    "![](one.png)"
   ]
  },
  {
   "cell_type": "code",
   "execution_count": null,
   "id": "cae2d1bc",
   "metadata": {},
   "outputs": [],
   "source": []
  }
 ],
 "metadata": {
  "kernelspec": {
   "display_name": "Python 3 (ipykernel)",
   "language": "python",
   "name": "python3"
  },
  "language_info": {
   "codemirror_mode": {
    "name": "ipython",
    "version": 3
   },
   "file_extension": ".py",
   "mimetype": "text/x-python",
   "name": "python",
   "nbconvert_exporter": "python",
   "pygments_lexer": "ipython3",
   "version": "3.10.5"
  }
 },
 "nbformat": 4,
 "nbformat_minor": 5
}
