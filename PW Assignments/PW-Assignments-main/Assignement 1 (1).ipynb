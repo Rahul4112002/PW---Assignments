{
 "cells": [
  {
   "cell_type": "markdown",
   "id": "f3c9d545-73da-4aa3-a5fa-6067c3f872fa",
   "metadata": {},
   "source": [
    "Q1. Create one variable containing following type of data:\n",
    "(i) string\n",
    "(ii) list\n",
    "(iii) float\n",
    "(iv) tuple"
   ]
  },
  {
   "cell_type": "code",
   "execution_count": 1,
   "id": "9f2b7c9d-f865-4bec-b3fa-a2f46a7e5716",
   "metadata": {},
   "outputs": [
    {
     "name": "stdout",
     "output_type": "stream",
     "text": [
      "This is a string.\n",
      "[1, 2, 3, 4, 5]\n",
      "3.14159\n",
      "(1, 2, 3, 4, 5)\n"
     ]
    }
   ],
   "source": [
    "string1 = \"This is a string.\"\n",
    "list1 = [1, 2, 3, 4, 5]\n",
    "float1 = 3.14159\n",
    "tuple1 = (1, 2, 3, 4, 5)\n",
    "\n",
    "print(string1)\n",
    "print(list1)\n",
    "print(float1)\n",
    "print(tuple1)"
   ]
  },
  {
   "cell_type": "raw",
   "id": "6ab82bbd-2585-4d1b-9ff8-b57c3895f2e7",
   "metadata": {},
   "source": [
    "Q2. Given are some following variables containing data:\n",
    "(i) var1 = ' '\n",
    "(ii) var2 = ‘[ DS , ML , Python]’\n",
    "(iii) var3 = [ ‘DS’ , ’ML’ , ‘Python’ ]\n",
    "(iv) var4 = 1.\n",
    "What will be the data type of the above given variable."
   ]
  },
  {
   "cell_type": "code",
   "execution_count": 9,
   "id": "9a5d4205-297e-49ac-8107-4adb80227bdc",
   "metadata": {},
   "outputs": [
    {
     "name": "stdout",
     "output_type": "stream",
     "text": [
      "<class 'str'>\n",
      "<class 'str'>\n",
      "<class 'list'>\n",
      "<class 'int'>\n"
     ]
    }
   ],
   "source": [
    "var1 = ''\n",
    "print(type(var1))\n",
    "var2 = ' DS , ML , Python]'\n",
    "print(type(var2))\n",
    "var3 = ['DS','ML','Python']\n",
    "print(type(var3))\n",
    "var4 = 1\n",
    "print(type(var4))"
   ]
  },
  {
   "cell_type": "raw",
   "id": "46ba843d-87c7-459c-bd19-9b702ad1b341",
   "metadata": {},
   "source": [
    "Q3. Explain the use of the following operators using an example:\n",
    "(i) /   :  It is used to perform division.\n",
    "(ii) %  :  It is is used to perform modulus.\n",
    "(iii) // : It is used to perform floor division.\n",
    "(iv) ** : It is used to perform exponentiation."
   ]
  },
  {
   "cell_type": "code",
   "execution_count": 10,
   "id": "43c5c2b4-0318-433a-b178-e623ce0010ac",
   "metadata": {},
   "outputs": [
    {
     "name": "stdout",
     "output_type": "stream",
     "text": [
      "2.5\n",
      "1\n",
      "2\n",
      "8\n"
     ]
    }
   ],
   "source": [
    "# Division\n",
    "print(5 / 2)  \n",
    "\n",
    "# Modulus\n",
    "print(5 % 2)  \n",
    "\n",
    "# Floor division\n",
    "print(5 // 2)  \n",
    "\n",
    "# Exponentiation\n",
    "print(2 ** 3)  "
   ]
  },
  {
   "cell_type": "raw",
   "id": "4ae1ca06-8aa8-47a2-8773-063b6c6eeb2e",
   "metadata": {},
   "source": [
    "Q4. Create a list of length 10 of your choice containing multiple types of data. Using for loop print the\n",
    "element and its data type."
   ]
  },
  {
   "cell_type": "code",
   "execution_count": 15,
   "id": "ed70ff02-d13d-4f8d-9848-bde2317923c1",
   "metadata": {},
   "outputs": [
    {
     "name": "stdout",
     "output_type": "stream",
     "text": [
      "1 : <class 'int'>\n",
      "3 : <class 'int'>\n",
      "4.5 : <class 'float'>\n",
      "Rahul : <class 'str'>\n",
      "(1, 5, 6) : <class 'tuple'>\n",
      "[2.3, 'R'] : <class 'list'>\n",
      "{'name': 'Bard', 'age': 10} : <class 'dict'>\n",
      "True : <class 'bool'>\n",
      "Assingment : <class 'str'>\n",
      "5.5 : <class 'float'>\n"
     ]
    }
   ],
   "source": [
    "list1 = [ 1 , 3 , 4.5 , \"Rahul\" , (1,5,6) , [2.3,\"R\"] , {\"name\": \"Bard\", \"age\": 10},True,\"Assingment\" , 5.5 ]\n",
    "for i in list1 :\n",
    "    print(i ,\":\", type(i))"
   ]
  },
  {
   "cell_type": "raw",
   "id": "629c4403-d5c1-44a5-862c-6a6a0ced78b7",
   "metadata": {},
   "source": [
    "Q5. Using a while loop, verify if the number A is purely divisible by number B and if so then how many\n",
    "times it can be divisible."
   ]
  },
  {
   "cell_type": "code",
   "execution_count": 17,
   "id": "454beae4-780d-4a70-8483-797747faa5a6",
   "metadata": {},
   "outputs": [
    {
     "name": "stdin",
     "output_type": "stream",
     "text": [
      " 8\n",
      " 2\n"
     ]
    },
    {
     "name": "stdout",
     "output_type": "stream",
     "text": [
      "A is divisible by B, and it can be divided 3 times.\n"
     ]
    }
   ],
   "source": [
    "A = int(input())\n",
    "B = int(input())\n",
    "\n",
    "count = 0 \n",
    "\n",
    "while A % B == 0:\n",
    "    A = A // B  \n",
    "    count += 1  \n",
    "\n",
    "if count > 0:\n",
    "    print(\"A is divisible by B, and it can be divided\", count, \"times.\")\n",
    "else:\n",
    "    print(\"A is not divisible by B.\")\n"
   ]
  },
  {
   "cell_type": "raw",
   "id": "19ceb241-8dcb-4067-9cf3-e5b5789e7468",
   "metadata": {},
   "source": [
    "Q6. Create a list containing 25 int type data. Using for loop and if-else condition print if the element is\n",
    "divisible by 3 or not."
   ]
  },
  {
   "cell_type": "code",
   "execution_count": 23,
   "id": "3b1d3ffe-a12c-411d-a039-16309d70cb43",
   "metadata": {},
   "outputs": [
    {
     "name": "stdout",
     "output_type": "stream",
     "text": [
      "0  :   Divisible By 3\n",
      "1  :   Not Divisible By 3\n",
      "2  :   Not Divisible By 3\n",
      "3  :   Divisible By 3\n",
      "4  :   Not Divisible By 3\n",
      "5  :   Not Divisible By 3\n",
      "6  :   Divisible By 3\n",
      "7  :   Not Divisible By 3\n",
      "8  :   Not Divisible By 3\n",
      "9  :   Divisible By 3\n",
      "10  :   Not Divisible By 3\n",
      "11  :   Not Divisible By 3\n",
      "12  :   Divisible By 3\n",
      "13  :   Not Divisible By 3\n",
      "14  :   Not Divisible By 3\n",
      "15  :   Divisible By 3\n",
      "16  :   Not Divisible By 3\n",
      "17  :   Not Divisible By 3\n",
      "18  :   Divisible By 3\n",
      "19  :   Not Divisible By 3\n",
      "20  :   Not Divisible By 3\n",
      "21  :   Divisible By 3\n",
      "22  :   Not Divisible By 3\n",
      "23  :   Not Divisible By 3\n",
      "24  :   Divisible By 3\n",
      "25  :   Not Divisible By 3\n"
     ]
    }
   ],
   "source": [
    "a = list(range(26))\n",
    "for i in a :\n",
    "    if i % 3 == 0:\n",
    "        print(i , \" : \" , \" Divisible By 3\")\n",
    "    else : \n",
    "        print(i , \" : \" , \" Not Divisible By 3\")"
   ]
  },
  {
   "cell_type": "raw",
   "id": "9a6fbe5f-c4f6-4fdd-891f-0172e8aec15e",
   "metadata": {},
   "source": [
    "Q7. What do you understand about mutable and immutable data types? Give examples for both showing\n",
    "this property."
   ]
  },
  {
   "cell_type": "raw",
   "id": "2f6ee99a-2224-439f-9adc-90153a830033",
   "metadata": {},
   "source": [
    "--> Mutable data type are those that can be changed or  modified at particular index.\n",
    "    List is Mutable data type\n",
    "--> Immutable data type are those that cannot be changed or modified at particular index.\n",
    "    string is Immutable data type"
   ]
  },
  {
   "cell_type": "code",
   "execution_count": 24,
   "id": "775a64bb-8390-4ca8-b4bd-eb1a98641695",
   "metadata": {},
   "outputs": [
    {
     "name": "stdout",
     "output_type": "stream",
     "text": [
      "[1, 2, 3]\n",
      "[1, 4, 3]\n"
     ]
    }
   ],
   "source": [
    "# Mutable data type example\n",
    "list1 = [1,2,3]\n",
    "print(list1)\n",
    "list1[1] = 4\n",
    "print(list1)"
   ]
  },
  {
   "cell_type": "code",
   "execution_count": 25,
   "id": "75c0a1bb-38da-455c-b858-724559f2aa65",
   "metadata": {},
   "outputs": [
    {
     "name": "stdout",
     "output_type": "stream",
     "text": [
      "Rahul\n"
     ]
    },
    {
     "ename": "TypeError",
     "evalue": "'str' object does not support item assignment",
     "output_type": "error",
     "traceback": [
      "\u001b[0;31m---------------------------------------------------------------------------\u001b[0m",
      "\u001b[0;31mTypeError\u001b[0m                                 Traceback (most recent call last)",
      "Cell \u001b[0;32mIn[25], line 4\u001b[0m\n\u001b[1;32m      2\u001b[0m str1 \u001b[38;5;241m=\u001b[39m \u001b[38;5;124m\"\u001b[39m\u001b[38;5;124mRahul\u001b[39m\u001b[38;5;124m\"\u001b[39m\n\u001b[1;32m      3\u001b[0m \u001b[38;5;28mprint\u001b[39m(str1)\n\u001b[0;32m----> 4\u001b[0m \u001b[43mstr1\u001b[49m\u001b[43m[\u001b[49m\u001b[38;5;241;43m1\u001b[39;49m\u001b[43m]\u001b[49m \u001b[38;5;241m=\u001b[39m \u001b[38;5;124m\"\u001b[39m\u001b[38;5;124mA\u001b[39m\u001b[38;5;124m\"\u001b[39m\n\u001b[1;32m      5\u001b[0m \u001b[38;5;28mprint\u001b[39m(str1)\n",
      "\u001b[0;31mTypeError\u001b[0m: 'str' object does not support item assignment"
     ]
    }
   ],
   "source": [
    "# Immutable data type example\n",
    "str1 = \"Rahul\"\n",
    "print(str1)\n",
    "str1[1] = \"A\"\n",
    "print(str1)"
   ]
  },
  {
   "cell_type": "code",
   "execution_count": null,
   "id": "74c26a5f-45d2-43d0-8902-e72d1a486c8b",
   "metadata": {},
   "outputs": [],
   "source": []
  }
 ],
 "metadata": {
  "kernelspec": {
   "display_name": "Python 3 (ipykernel)",
   "language": "python",
   "name": "python3"
  },
  "language_info": {
   "codemirror_mode": {
    "name": "ipython",
    "version": 3
   },
   "file_extension": ".py",
   "mimetype": "text/x-python",
   "name": "python",
   "nbconvert_exporter": "python",
   "pygments_lexer": "ipython3",
   "version": "3.10.8"
  }
 },
 "nbformat": 4,
 "nbformat_minor": 5
}
