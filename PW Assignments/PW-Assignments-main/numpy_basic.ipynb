{
 "cells": [
  {
   "cell_type": "markdown",
   "id": "5dc2f6b4-acc4-46b2-858b-96a7cb9fa35f",
   "metadata": {},
   "source": [
    "Consider the below code to answer further questions:"
   ]
  },
  {
   "cell_type": "code",
   "execution_count": 7,
   "id": "890a1c84-b21c-4112-a869-8db4ba808748",
   "metadata": {},
   "outputs": [],
   "source": [
    "import numpy as np\n",
    "list_ = [ '1' , '2' , '3', '4' , '5' ]\n",
    "array_list = np.array(object = list_)"
   ]
  },
  {
   "cell_type": "markdown",
   "id": "b3aee9d7-c7f1-41c2-8680-2cdf35ff587b",
   "metadata": {},
   "source": [
    "Q1. Is there any difference in the data type of variables list_ and array_list? If there is then write a code\n",
    "to print the data types of both the variables."
   ]
  },
  {
   "cell_type": "markdown",
   "id": "e25aa53b-66d3-45f0-abeb-fe8369d9cd38",
   "metadata": {},
   "source": [
    "-- > Yes there is a difference in the data type of variables list_ and array_list , variable list_ is a list and array_list is array."
   ]
  },
  {
   "cell_type": "code",
   "execution_count": 8,
   "id": "77fba004-1b10-46e3-9413-228fdac40651",
   "metadata": {},
   "outputs": [
    {
     "name": "stdout",
     "output_type": "stream",
     "text": [
      "Data type of list_: <class 'list'>\n",
      "Data type of array_list: <class 'numpy.ndarray'>\n"
     ]
    }
   ],
   "source": [
    "print(\"Data type of list_:\", type(list_))\n",
    "print(\"Data type of array_list:\", type(array_list))"
   ]
  },
  {
   "cell_type": "markdown",
   "id": "f9fae0bf-96e0-42c8-ae15-b1db261ab5b0",
   "metadata": {},
   "source": [
    "Q2. Write a code to print the data type of each and every element of both the variables list_ and\n",
    "arra_list."
   ]
  },
  {
   "cell_type": "code",
   "execution_count": 9,
   "id": "d05d9d8e-264b-4a3d-b4f0-a272ff43dd34",
   "metadata": {},
   "outputs": [
    {
     "name": "stdout",
     "output_type": "stream",
     "text": [
      "Data type of element in list_: 1 = <class 'str'>\n",
      "Data type of element in list_: 2 = <class 'str'>\n",
      "Data type of element in list_: 3 = <class 'str'>\n",
      "Data type of element in list_: 4 = <class 'str'>\n",
      "Data type of element in list_: 5 = <class 'str'>\n"
     ]
    }
   ],
   "source": [
    "for i in list_:\n",
    "    print(\"Data type of element in list_:\" , i , \"=\" , type(i))"
   ]
  },
  {
   "cell_type": "code",
   "execution_count": 10,
   "id": "315fd2ce-439c-4348-89a9-ae29f1881150",
   "metadata": {},
   "outputs": [
    {
     "name": "stdout",
     "output_type": "stream",
     "text": [
      "Data type of element in array_list: 1 = <class 'numpy.str_'>\n",
      "Data type of element in array_list: 2 = <class 'numpy.str_'>\n",
      "Data type of element in array_list: 3 = <class 'numpy.str_'>\n",
      "Data type of element in array_list: 4 = <class 'numpy.str_'>\n",
      "Data type of element in array_list: 5 = <class 'numpy.str_'>\n"
     ]
    }
   ],
   "source": [
    "for i in array_list:\n",
    "    print(\"Data type of element in array_list:\" , i , \"=\" , type(i))"
   ]
  },
  {
   "cell_type": "markdown",
   "id": "b2bf945d-0634-48a1-9e6b-417580422ca0",
   "metadata": {},
   "source": [
    "Q3. Considering the following changes in the variable, array_list:"
   ]
  },
  {
   "cell_type": "code",
   "execution_count": 11,
   "id": "43a58ef5-006c-4bb3-b7b3-2e930296db66",
   "metadata": {},
   "outputs": [],
   "source": [
    "array_list = np.array(object = list_, dtype = int)"
   ]
  },
  {
   "cell_type": "markdown",
   "id": "a772ab02-96a0-4c2c-ab49-65aa2752788c",
   "metadata": {},
   "source": [
    "Will there be any difference in the data type of the elements present in both the variables, list_ and\n",
    "arra_list? If so then print the data types of each and every element present in both the variables, list_\n",
    "and arra_list."
   ]
  },
  {
   "cell_type": "code",
   "execution_count": 13,
   "id": "cf49389e-d4c1-4a65-a5d6-358a53ab5d46",
   "metadata": {},
   "outputs": [
    {
     "name": "stdout",
     "output_type": "stream",
     "text": [
      "Data type of element in list_: 1 = <class 'str'>\n",
      "Data type of element in list_: 2 = <class 'str'>\n",
      "Data type of element in list_: 3 = <class 'str'>\n",
      "Data type of element in list_: 4 = <class 'str'>\n",
      "Data type of element in list_: 5 = <class 'str'>\n",
      "Data type of element in array_list: 1 = <class 'numpy.int64'>\n",
      "Data type of element in array_list: 2 = <class 'numpy.int64'>\n",
      "Data type of element in array_list: 3 = <class 'numpy.int64'>\n",
      "Data type of element in array_list: 4 = <class 'numpy.int64'>\n",
      "Data type of element in array_list: 5 = <class 'numpy.int64'>\n"
     ]
    }
   ],
   "source": [
    "for i in list_:\n",
    "    print(\"Data type of element in list_:\" , i , \"=\" , type(i))\n",
    "for i in array_list:\n",
    "    print(\"Data type of element in array_list:\" , i , \"=\" , type(i))"
   ]
  },
  {
   "cell_type": "markdown",
   "id": "1656799b-14f4-447b-99cf-8b61694a9423",
   "metadata": {},
   "source": [
    "Consider the below code to answer further questions:"
   ]
  },
  {
   "cell_type": "code",
   "execution_count": 14,
   "id": "f0ca210f-74be-4776-81dc-b97a032c672b",
   "metadata": {},
   "outputs": [],
   "source": [
    "import numpy as np\n",
    "num_list = [ [ 1 , 2 , 3 ] , [ 4 , 5 , 6 ] ]\n",
    "num_array = np.array(object = num_list)"
   ]
  },
  {
   "cell_type": "markdown",
   "id": "f025e19f-f52a-42cf-80dd-beefba774f4c",
   "metadata": {},
   "source": [
    "Q4. Write a code to find the following characteristics of variable, num_array:\n",
    "(i) shape\n",
    "(ii) size"
   ]
  },
  {
   "cell_type": "code",
   "execution_count": 15,
   "id": "a53f5a91-3b00-42a3-9b38-828d768e6b0b",
   "metadata": {},
   "outputs": [
    {
     "name": "stdout",
     "output_type": "stream",
     "text": [
      "Shape of num_array: (2, 3)\n",
      "Size of num_array: 6\n"
     ]
    }
   ],
   "source": [
    "print(\"Shape of num_array:\", num_array.shape)\n",
    "print(\"Size of num_array:\", num_array.size)"
   ]
  },
  {
   "cell_type": "markdown",
   "id": "df0ccf96-5a63-456a-830a-aaf565ac676d",
   "metadata": {},
   "source": [
    "Q5. Write a code to create numpy array of 3*3 matrix containing zeros only, using a numpy array\n",
    "creation function.\n",
    "[Hint: The size of the array will be 9 and the shape will be (3,3).]"
   ]
  },
  {
   "cell_type": "code",
   "execution_count": 16,
   "id": "f77de90e-eada-4593-a3a0-616fcac99204",
   "metadata": {},
   "outputs": [],
   "source": [
    "arr = np.zeros((3,3))"
   ]
  },
  {
   "cell_type": "code",
   "execution_count": 17,
   "id": "869d55c2-a7c4-43e1-9409-5430a1b178cb",
   "metadata": {},
   "outputs": [
    {
     "data": {
      "text/plain": [
       "array([[0., 0., 0.],\n",
       "       [0., 0., 0.],\n",
       "       [0., 0., 0.]])"
      ]
     },
     "execution_count": 17,
     "metadata": {},
     "output_type": "execute_result"
    }
   ],
   "source": [
    "arr"
   ]
  },
  {
   "cell_type": "code",
   "execution_count": 18,
   "id": "cb8484dc-c237-47e4-88f6-c21802d23192",
   "metadata": {},
   "outputs": [
    {
     "name": "stdout",
     "output_type": "stream",
     "text": [
      "shape: (3, 3)\n"
     ]
    }
   ],
   "source": [
    "print(\"shape:\" , arr.shape)"
   ]
  },
  {
   "cell_type": "code",
   "execution_count": 19,
   "id": "2071e8d1-2ba7-4923-b172-2099c78c9c92",
   "metadata": {},
   "outputs": [
    {
     "name": "stdout",
     "output_type": "stream",
     "text": [
      "size: 9\n"
     ]
    }
   ],
   "source": [
    "print(\"size:\" , arr.size)"
   ]
  },
  {
   "cell_type": "markdown",
   "id": "bbb4761d-764f-4cda-a49f-c5ac924cbdbd",
   "metadata": {},
   "source": [
    "Q6. Create an identity matrix of shape (5,5) using numpy functions?\n",
    "[Hint: An identity matrix is a matrix containing 1 diagonally and other elements will be 0.]"
   ]
  },
  {
   "cell_type": "code",
   "execution_count": 29,
   "id": "f02248ae-108c-4443-9f8f-ba09d93ae8f3",
   "metadata": {},
   "outputs": [],
   "source": [
    "diagonal1 = np.eye(5)"
   ]
  },
  {
   "cell_type": "code",
   "execution_count": 30,
   "id": "2824488f-c94d-438d-a789-2f2776177179",
   "metadata": {},
   "outputs": [
    {
     "data": {
      "text/plain": [
       "array([[1., 0., 0., 0., 0.],\n",
       "       [0., 1., 0., 0., 0.],\n",
       "       [0., 0., 1., 0., 0.],\n",
       "       [0., 0., 0., 1., 0.],\n",
       "       [0., 0., 0., 0., 1.]])"
      ]
     },
     "execution_count": 30,
     "metadata": {},
     "output_type": "execute_result"
    }
   ],
   "source": [
    "diagonal1"
   ]
  },
  {
   "cell_type": "code",
   "execution_count": null,
   "id": "755dd9ff-c2b2-4501-8e4d-0ba7d312c7d6",
   "metadata": {},
   "outputs": [],
   "source": []
  }
 ],
 "metadata": {
  "kernelspec": {
   "display_name": "Python 3 (ipykernel)",
   "language": "python",
   "name": "python3"
  },
  "language_info": {
   "codemirror_mode": {
    "name": "ipython",
    "version": 3
   },
   "file_extension": ".py",
   "mimetype": "text/x-python",
   "name": "python",
   "nbconvert_exporter": "python",
   "pygments_lexer": "ipython3",
   "version": "3.10.8"
  }
 },
 "nbformat": 4,
 "nbformat_minor": 5
}
