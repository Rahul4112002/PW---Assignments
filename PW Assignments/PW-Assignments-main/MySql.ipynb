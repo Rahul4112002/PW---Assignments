{
 "cells": [
  {
   "cell_type": "markdown",
   "id": "a19bab97",
   "metadata": {},
   "source": [
    "# Q1. Database and Difference between SQL and NoSQL Databases"
   ]
  },
  {
   "cell_type": "markdown",
   "id": "19c3a82a",
   "metadata": {},
   "source": [
    "- A database is a collection of data that is organized in a way that makes it easy to access and manipulate.\n",
    "\n",
    "- SQL databases use a structured query language (SQL) to access and manipulate data. SQL databases are typical-ly used for relational data, which is data that is organized in tables with rows and columns.\n",
    "\n",
    "- NoSQL databases use a variety of different data models, including document databases, key-value stores, and graph databases. NoSQL databases are typically used for non-relational data, such as JSON documents, key-value pairs, and graphs.\n"
   ]
  },
  {
   "cell_type": "markdown",
   "id": "8fffe0e0",
   "metadata": {},
   "source": [
    "# Q2. What is DDL? Explain why CREATE, DROP, ALTER, and TRUNCATE are used with an example."
   ]
  },
  {
   "cell_type": "markdown",
   "id": "095e2f91",
   "metadata": {},
   "source": [
    " - DDL (Data Definition Language) is used to create, modify, and delete database objects, such as tables, views, and indexes.\n",
    " \n",
    " **Examples of DDL statements:**\n",
    "\n",
    "    - CREATE TABLE customers (id INT PRIMARY KEY, name VARCHAR(255), email VARCHAR(255))\n",
    "    -  DROP TABLE customers\n",
    "    - ALTER TABLE customers ADD COLUMN phone VARCHAR(255)\n",
    "    - TRUNCATE TABLE customers\n",
    "    \n",
    "\n"
   ]
  },
  {
   "cell_type": "markdown",
   "id": "940942a1",
   "metadata": {},
   "source": [
    "# Q3. What is DML? Explain INSERT, UPDATE, and DELETE with an example."
   ]
  },
  {
   "cell_type": "markdown",
   "id": "f524dccc",
   "metadata": {},
   "source": [
    "- DML (Data Manipulation Language) is used to insert, update, and delete data in database tables.\n",
    " **Examples of DML statements:**\n",
    "\n",
    "    - INSERT INTO customers (name, email) VALUES ('John Doe', 'john.doe@example.com')\n",
    "    - UPDATE customers SET email = 'jane.doe@example.com' WHERE name = 'Jane Doe'\n",
    "    - DELETE FROM customers WHERE id = 1"
   ]
  },
  {
   "cell_type": "markdown",
   "id": "7ba997ca",
   "metadata": {},
   "source": [
    "# Q4. What is DQL? Explain SELECT with an example."
   ]
  },
  {
   "cell_type": "markdown",
   "id": "d14eebfe",
   "metadata": {},
   "source": [
    "- DQL (Data Query Language) is used to retrieve data from database tables.\n",
    "\n",
    "- The SELECT statement is the most important DQL statement. It is used to select specific columns of data from specific tables.\n",
    "\n",
    "**Example of a SELECT statement:**\n",
    "\n",
    "SELECT * FROM customers\n",
    "(This statement will select all columns of data from the customers table.)"
   ]
  },
  {
   "cell_type": "markdown",
   "id": "8d8cb98e",
   "metadata": {},
   "source": [
    "# Q5. Explain Primary Key and Foreign Key."
   ]
  },
  {
   "cell_type": "markdown",
   "id": "6953a8df",
   "metadata": {},
   "source": [
    "- A primary key is a column or combination of columns that uniquely identifies each row in a table.\n",
    "\n",
    "- A foreign key is a column or combination of columns that references the primary key of another table.\n",
    "\n",
    "- Foreign keys are used to create relationships between tables. For example, an orders table could have a foreign key to the customers table. This foreign key would reference the primary key of the customers table, which is the id column."
   ]
  },
  {
   "cell_type": "markdown",
   "id": "9615fa73",
   "metadata": {},
   "source": [
    "# Q6. Write a python code to connect MySQL to python. Explain the cursor() and execute() method."
   ]
  },
  {
   "cell_type": "code",
   "execution_count": null,
   "id": "513543be",
   "metadata": {},
   "outputs": [],
   "source": [
    "import mysql.connector\n",
    "\n",
    "mydb = mysql.connector.connect(\n",
    "host = 'localhost',\n",
    "user = 'root',\n",
    "password = 'password')\n",
    "\n",
    "mycursor = mydb.cursor()\n",
    "mycursor.execute(\"CREATE DATABASE if not exits test\");\n",
    "mydb.close()"
   ]
  },
  {
   "cell_type": "markdown",
   "id": "c93c5ef3",
   "metadata": {},
   "source": [
    "- The cursor() method creates a new cursor object. \n",
    "- The execute() method executes an SQL statement and returns the results."
   ]
  },
  {
   "cell_type": "markdown",
   "id": "41b854b1",
   "metadata": {},
   "source": [
    "# Q7. Give the order of execution of SQL clauses in an SQL query."
   ]
  },
  {
   "cell_type": "markdown",
   "id": "1dd16e63",
   "metadata": {},
   "source": [
    "The SQL clauses are executed in the following order:\n",
    "\n",
    "   - FROM clause\n",
    "   -  WHERE clause\n",
    "   - GROUP BY clause\n",
    "   - HAVING clause\n",
    "   - ORDER BY clause\n",
    "   - LIMIT clause\n",
    "\n",
    "This order of execution is important to understand when writing SQL queries. For example, if you need to filter the results of a query, you need to put the WHERE clause before the GROUP BY clause."
   ]
  }
 ],
 "metadata": {
  "kernelspec": {
   "display_name": "Python 3 (ipykernel)",
   "language": "python",
   "name": "python3"
  },
  "language_info": {
   "codemirror_mode": {
    "name": "ipython",
    "version": 3
   },
   "file_extension": ".py",
   "mimetype": "text/x-python",
   "name": "python",
   "nbconvert_exporter": "python",
   "pygments_lexer": "ipython3",
   "version": "3.10.5"
  }
 },
 "nbformat": 4,
 "nbformat_minor": 5
}
