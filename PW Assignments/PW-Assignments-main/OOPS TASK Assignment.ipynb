{
 "cells": [
  {
   "cell_type": "markdown",
   "id": "9426e5af",
   "metadata": {},
   "source": [
    "# Q1. Create a vehicle class with an init method having instance variables as name_of_vehicle, max_speed and average_of_vehicle."
   ]
  },
  {
   "cell_type": "code",
   "execution_count": 39,
   "id": "4b0797ab",
   "metadata": {},
   "outputs": [],
   "source": [
    "class Vehicle:\n",
    "    def __init__(self, name_of_vehicle, max_speed, average_of_vehicle):\n",
    "        self.name_of_vehicle = name_of_vehicle\n",
    "        self.max_speed = max_speed\n",
    "        self.average_of_vehicle = average_of_vehicle"
   ]
  },
  {
   "cell_type": "markdown",
   "id": "6268ac3a",
   "metadata": {},
   "source": [
    "# Q2. Create a child class car from the vehicle class created in Que 1, which will inherit the vehicle class. Create a method named seating_capacity which takes capacity as an argument and returns the name of the vehicle and its seating capacity."
   ]
  },
  {
   "cell_type": "code",
   "execution_count": 40,
   "id": "ed05df06",
   "metadata": {},
   "outputs": [],
   "source": [
    "class Car(Vehicle):\n",
    "    def __init__(self, name_of_vehicle, max_speed, average_of_vehicle, capacity):\n",
    "        Vehicle.__init__(self, name_of_vehicle, max_speed, average_of_vehicle)\n",
    "        self.capacity = capacity\n",
    "\n",
    "    def seating_capacity(self):\n",
    "        return f\"{self.name_of_vehicle} has a seating capacity of {self.capacity} people.\""
   ]
  },
  {
   "cell_type": "code",
   "execution_count": 41,
   "id": "afc9df92",
   "metadata": {},
   "outputs": [
    {
     "name": "stdout",
     "output_type": "stream",
     "text": [
      "Toyota Camry has a seating capacity of 5 people.\n"
     ]
    }
   ],
   "source": [
    "car = Car(\"Toyota Camry\", 155, 25, 5)\n",
    "\n",
    "print(car.seating_capacity())\n"
   ]
  },
  {
   "cell_type": "markdown",
   "id": "0ce0d12a",
   "metadata": {},
   "source": [
    "# Q3. What is multiple inheritance? Write a python code to demonstrate multiple inheritance."
   ]
  },
  {
   "cell_type": "markdown",
   "id": "e6861496",
   "metadata": {},
   "source": [
    "Multiple inheritance is a feature in Python that allows a class to inherit from multiple parent classes. This can be useful when a class needs to combine the functionality of multiple classes."
   ]
  },
  {
   "cell_type": "code",
   "execution_count": 17,
   "id": "afcede9a",
   "metadata": {},
   "outputs": [
    {
     "name": "stdout",
     "output_type": "stream",
     "text": [
      "I am eating.\n",
      "I am flying.\n",
      "I am swimming.\n"
     ]
    }
   ],
   "source": [
    "class Animal:\n",
    "    def eat(self):\n",
    "        print(\"I am eating.\")\n",
    "\n",
    "class Bird(Animal):\n",
    "    def fly(self):\n",
    "        print(\"I am flying.\")\n",
    "\n",
    "class Fish(Animal):\n",
    "    def swim(self):\n",
    "        print(\"I am swimming.\")\n",
    "\n",
    "class Penguin(Bird, Fish):\n",
    "    pass\n",
    "\n",
    "penguin = Penguin()\n",
    "penguin.eat()\n",
    "penguin.fly()\n",
    "penguin.swim()\n"
   ]
  },
  {
   "cell_type": "markdown",
   "id": "b9dacfc6",
   "metadata": {},
   "source": [
    "# Q4. What are getter and setter in python? Create a class and create a getter and a setter method in this class."
   ]
  },
  {
   "cell_type": "markdown",
   "id": "86059e2e",
   "metadata": {},
   "source": [
    " - A getter method is a method that returns the value of an instance variable. \n",
    " - A setter method is a method that sets the value of an instance variable."
   ]
  },
  {
   "cell_type": "code",
   "execution_count": 18,
   "id": "85a3a6a9",
   "metadata": {},
   "outputs": [],
   "source": [
    "class Person:\n",
    "    def __init__(self, name):\n",
    "        self._name = name\n",
    "\n",
    "    def get_name(self):\n",
    "        return self._name\n",
    "\n",
    "    def set_name(self, new_name):\n",
    "        self._name = new_name"
   ]
  },
  {
   "cell_type": "code",
   "execution_count": 19,
   "id": "6aa1352e",
   "metadata": {},
   "outputs": [],
   "source": [
    "person = Person(\"Rahul\")"
   ]
  },
  {
   "cell_type": "code",
   "execution_count": 20,
   "id": "1b474e15",
   "metadata": {},
   "outputs": [
    {
     "data": {
      "text/plain": [
       "'Rahul'"
      ]
     },
     "execution_count": 20,
     "metadata": {},
     "output_type": "execute_result"
    }
   ],
   "source": [
    "person.get_name()"
   ]
  },
  {
   "cell_type": "code",
   "execution_count": 21,
   "id": "26939785",
   "metadata": {},
   "outputs": [],
   "source": [
    "person.set_name(\"Rahul Chauhan\")"
   ]
  },
  {
   "cell_type": "code",
   "execution_count": 22,
   "id": "1294514f",
   "metadata": {},
   "outputs": [
    {
     "data": {
      "text/plain": [
       "'Rahul Chauhan'"
      ]
     },
     "execution_count": 22,
     "metadata": {},
     "output_type": "execute_result"
    }
   ],
   "source": [
    "person.get_name()"
   ]
  },
  {
   "cell_type": "markdown",
   "id": "17a5340a",
   "metadata": {},
   "source": [
    "# Q5.What is method overriding in python? Write a python code to demonstrate method overriding."
   ]
  },
  {
   "cell_type": "markdown",
   "id": "38fdf8ef",
   "metadata": {},
   "source": [
    "Method overriding is a feature in Python that allows a child class to redefine a method that is inherited from a parent class. This can be useful when a child class needs to implement a method differently than the parent class."
   ]
  },
  {
   "cell_type": "code",
   "execution_count": 23,
   "id": "5109bdab",
   "metadata": {},
   "outputs": [
    {
     "name": "stdout",
     "output_type": "stream",
     "text": [
      "Woof!\n"
     ]
    }
   ],
   "source": [
    "class Animal:\n",
    "    def make_sound(self):\n",
    "        print(\"Animal sound\")\n",
    "\n",
    "class Dog(Animal):\n",
    "    def make_sound(self):\n",
    "        print(\"Woof!\")\n",
    "\n",
    "dog = Dog()\n",
    "dog.make_sound()"
   ]
  },
  {
   "cell_type": "markdown",
   "id": "4f92cbd8",
   "metadata": {},
   "source": [
    "In this example, the Dog class overrides the make_sound() method of the Animal class. As a result, when the make_sound() method is called on a Dog object, the Woof! sound is made instead of the Animal sound sound."
   ]
  },
  {
   "cell_type": "code",
   "execution_count": null,
   "id": "2f33121c",
   "metadata": {},
   "outputs": [],
   "source": []
  }
 ],
 "metadata": {
  "kernelspec": {
   "display_name": "Python 3 (ipykernel)",
   "language": "python",
   "name": "python3"
  },
  "language_info": {
   "codemirror_mode": {
    "name": "ipython",
    "version": 3
   },
   "file_extension": ".py",
   "mimetype": "text/x-python",
   "name": "python",
   "nbconvert_exporter": "python",
   "pygments_lexer": "ipython3",
   "version": "3.10.5"
  }
 },
 "nbformat": 4,
 "nbformat_minor": 5
}
