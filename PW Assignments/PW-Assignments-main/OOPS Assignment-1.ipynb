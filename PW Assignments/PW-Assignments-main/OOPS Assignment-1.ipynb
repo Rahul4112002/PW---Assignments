{
 "cells": [
  {
   "cell_type": "markdown",
   "id": "3c29367d",
   "metadata": {},
   "source": [
    "# Q1. Explain Class and Object with respect to Object-Oriented Programming. Give a suitable example."
   ]
  },
  {
   "cell_type": "markdown",
   "id": "1b83d9c8",
   "metadata": {},
   "source": [
    "Ans: Q1. Class and object in OOP\n",
    "\n",
    "A class is a blueprint or template for creating objects. An object is an instance of a class. It is a self-contained entity with its own data and behavior.\n",
    "\n",
    "For example, a class called Car could have properties such as make, model, color, and year. It could also have methods such as drive(), brake(), and turn().\n",
    "\n",
    "We can create multiple objects from the same class. For example, we could create a Car object for a red Toyota Camry and a Car object for a blue Honda Civic. "
   ]
  },
  {
   "cell_type": "code",
   "execution_count": 1,
   "id": "353496f2",
   "metadata": {},
   "outputs": [],
   "source": [
    "# Class definition\n",
    "class Car:\n",
    "    def __init__(self, make, model):\n",
    "        self.make = make\n",
    "        self.model = model\n",
    "\n",
    "# Creating objects\n",
    "car1 = Car(\"Toyota\", \"Camry\")\n",
    "car2 = Car(\"Honda\", \"Civic\")"
   ]
  },
  {
   "cell_type": "markdown",
   "id": "b5d1fd7b",
   "metadata": {},
   "source": [
    "# Q2. Name the four pillars of OOPs."
   ]
  },
  {
   "cell_type": "markdown",
   "id": "25c1a83b",
   "metadata": {},
   "source": [
    "Ans: The four pillars of OOP are:\n",
    "\n",
    "    Abstraction: Abstraction is the process of hiding unnecessary details and exposing only the essential information to the user.\n",
    "    \n",
    "    Encapsulation: Encapsulation is the process of bundling data and behavior together into a single unit.\n",
    "    \n",
    "    Inheritance: Inheritance is the ability to create new classes that reuse the code and properties of existing classes.\n",
    "    \n",
    "    Polymorphism: Polymorphism is the ability of objects to respond to the same message in different ways.\n"
   ]
  },
  {
   "cell_type": "markdown",
   "id": "8a7d8ffa",
   "metadata": {},
   "source": [
    "# Q3. Explain why the __init__() function is used. Give a suitable example."
   ]
  },
  {
   "cell_type": "markdown",
   "id": "6d5b2de2",
   "metadata": {},
   "source": [
    "Ans: The __init__() function is a special function that is called when an object is created. It is used to initialize the object's attributes.\n",
    "\n",
    "For example, the following code shows how to use the __init__() function to initialize the make and model attributes of a Car object:"
   ]
  },
  {
   "cell_type": "code",
   "execution_count": 2,
   "id": "879d3945",
   "metadata": {},
   "outputs": [
    {
     "name": "stdout",
     "output_type": "stream",
     "text": [
      "Toyota Camry\n"
     ]
    }
   ],
   "source": [
    "class Car:\n",
    "    def __init__(self, make, model):\n",
    "        self.make = make\n",
    "        self.model = model\n",
    "\n",
    "# Create a Car object\n",
    "my_car = Car(\"Toyota\", \"Camry\")\n",
    "\n",
    "# Print the make and model of the car\n",
    "print(my_car.make, my_car.model)\n"
   ]
  },
  {
   "cell_type": "markdown",
   "id": "4abc104e",
   "metadata": {},
   "source": [
    "# Q4. Why self is used in OOPs?"
   ]
  },
  {
   "cell_type": "markdown",
   "id": "993faa0b",
   "metadata": {},
   "source": [
    "Ans: The keyword self is used to refer to the current object in OOP. It is necessary because methods in a class can be called on different objects, and we need to be able to distinguish between the different objects.\n",
    "\n",
    "For example, the following code shows a method called drive() that is defined in the Car class:"
   ]
  },
  {
   "cell_type": "code",
   "execution_count": 3,
   "id": "1f36ebab",
   "metadata": {},
   "outputs": [
    {
     "name": "stdout",
     "output_type": "stream",
     "text": [
      "The Toyota Camry is driving!\n"
     ]
    }
   ],
   "source": [
    "class Car:\n",
    "    def __init__(self, make, model):\n",
    "        self.make = make\n",
    "        self.model = model\n",
    "\n",
    "    def drive(self):\n",
    "        print(f\"The {self.make} {self.model} is driving!\")\n",
    "\n",
    "# Create a Car object\n",
    "my_car = Car(\"Toyota\", \"Camry\")\n",
    "\n",
    "# Call the drive() method on the object\n",
    "my_car.drive()\n"
   ]
  },
  {
   "cell_type": "markdown",
   "id": "2f8911df",
   "metadata": {},
   "source": [
    "The self keyword is used in the drive() method to refer to the current object. This allows us to call the method on different Car objects and get different results."
   ]
  },
  {
   "cell_type": "markdown",
   "id": "8f92afb4",
   "metadata": {},
   "source": [
    "# Q5. What is inheritance? Give an example for each type of inheritance."
   ]
  },
  {
   "cell_type": "markdown",
   "id": "53953f2a",
   "metadata": {},
   "source": [
    "Ans: Inheritance is the ability to create new classes that reuse the code and properties of existing classes. This allows us to build on the work of others and create more complex and sophisticated programs.\n",
    "\n",
    "There are three main types of inheritance in OOP:\n",
    "\n",
    "    Single inheritance: This is the simplest type of inheritance, where a subclass inherits from a single parent class.\n",
    "    \n",
    "    Multiple inheritance: This is a more complex type of inheritance, where a subclass inherits from multiple parent classes.\n",
    "    \n",
    "    Hierarchical inheritance: This is a type of inheritance where classes are organized in a hierarchy, with parent classes at the top and child classes at the bottom.\n",
    "\n",
    "Here is an example of single inheritance:"
   ]
  },
  {
   "cell_type": "code",
   "execution_count": 6,
   "id": "02d234b0",
   "metadata": {},
   "outputs": [
    {
     "name": "stdout",
     "output_type": "stream",
     "text": [
      "Woof! My name is Fido.\n"
     ]
    }
   ],
   "source": [
    "class Animal:\n",
    "    def __init__(self, name):\n",
    "        self.name = name\n",
    "\n",
    "    def speak(self):\n",
    "        pass\n",
    "\n",
    "class Dog(Animal):\n",
    "    def __init__(self, name, breed):\n",
    "        super().__init__(name)\n",
    "        self.breed = breed\n",
    "    \n",
    "    def speak(self):\n",
    "        print(f\"Woof! My name is {self.name}.\")\n",
    "\n",
    "# Create a Dog object\n",
    "my_dog = Dog(\"Fido\", \"Golden Retriever\")\n",
    "\n",
    "# Call the speak() method on the object\n",
    "my_dog.speak()\n"
   ]
  },
  {
   "cell_type": "markdown",
   "id": "65c618fd",
   "metadata": {},
   "source": [
    "The Dog class inherits from the Animal class. This means that Dog objects have all of the same attributes and methods as Animal objects, plus any additional attributes and methods that are defined"
   ]
  },
  {
   "cell_type": "code",
   "execution_count": null,
   "id": "0ca7dec8",
   "metadata": {},
   "outputs": [],
   "source": []
  }
 ],
 "metadata": {
  "kernelspec": {
   "display_name": "Python 3 (ipykernel)",
   "language": "python",
   "name": "python3"
  },
  "language_info": {
   "codemirror_mode": {
    "name": "ipython",
    "version": 3
   },
   "file_extension": ".py",
   "mimetype": "text/x-python",
   "name": "python",
   "nbconvert_exporter": "python",
   "pygments_lexer": "ipython3",
   "version": "3.10.5"
  }
 },
 "nbformat": 4,
 "nbformat_minor": 5
}
